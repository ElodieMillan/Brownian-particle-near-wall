{
 "cells": [
  {
   "cell_type": "code",
   "execution_count": 1,
   "id": "b43e5585-0fc8-4186-8e13-7ac8aeed20a6",
   "metadata": {},
   "outputs": [],
   "source": [
    "import numpy as np\n",
    "import matplotlib.pyplot as plt\n",
    "# from Cumulant4_fonction import C4_long\n",
    "from C4_theo_asymptotique import C4_court, C4_long\n",
    "from DoubleRigidWallOverdampedBrownExp_Cython import RigidWallOverdampedLangevin3D\n",
    "from scipy.integrate import quad\n",
    "from scipy.io import loadmat\n",
    "from scipy.optimize import curve_fit\n",
    "import matplotlib as mpl\n",
    "import matplotlib.pyplot as plt\n",
    "import numpy as np\n",
    "from mpl_toolkits.mplot3d import Axes3D\n",
    "from numpy import trapz\n",
    "\n",
    "import csv\n",
    "\n",
    "\n",
    "def cm2inch(value):\n",
    "    return value / 2.54\n",
    "\n",
    "from tqdm import tqdm\n",
    "# axes.xaxis.set_tick_params(direction='in', which='both')\n",
    "# axes.yaxis.set_tick_params(direction='in', which='both')\n",
    "\n",
    "\n",
    "mpl.rcParams[\"xtick.direction\"] = \"in\"\n",
    "mpl.rcParams[\"ytick.direction\"] = \"in\"\n",
    "mpl.rcParams[\"lines.markeredgecolor\"] = \"k\"\n",
    "mpl.rcParams[\"lines.markeredgewidth\"] = 1\n",
    "mpl.rcParams[\"figure.dpi\"] = 200\n",
    "from matplotlib import rc\n",
    "\n",
    "rc(\"font\", family=\"serif\")\n",
    "rc(\"text\", usetex=False)\n",
    "rc(\"xtick\", labelsize=\"medium\")\n",
    "rc(\"ytick\", labelsize=\"medium\")\n",
    "rc(\"axes\", labelsize=\"large\")"
   ]
  },
  {
   "cell_type": "markdown",
   "id": "954c8aa7-9413-4344-a117-6cfa6fe10d12",
   "metadata": {},
   "source": [
    "# Model de diffusion dans un canal étroit \n",
    "\n",
    "Code origine : $\\mathrm{\\color{red}{Cumulant4\\_fonction.py}}$ et  $\\mathrm{\\color{red}{DoubleRigidWallOverdampedBrownExp\\_Cython.pyx}}$\n",
    "\n",
    "Auteur : $\\mathrm{\\color{purple}{Élodie ~MILLAN}}$\n",
    "\n",
    "Date : 14/01/2022\n",
    "\n",
    "\n",
    "- $2H_p$ : hauteur du canal;\n",
    "- $a$ : rayon de la particule;\n",
    "- On pose $H = H_p -a$\n",
    "- $\\eta_0$ : viscosité du fluide\n",
    "- $D_\\|(z) = \\frac{k_\\mathrm{B}T}{6 \\pi \\eta_\\| a}$ : coeficient de diffusion colinéaire au mur, avec $\\eta_\\| (z) = \\eta_0 \\left( 1 - \\frac{9a}{16(z+a)} +  \\left( \\frac{a}{8(z+a)} \\right)^3 - \\left( \\frac{45a}{256(z+a)} \\right)^4 - \\left( \\frac{a}{16(z+a)} \\right)^5 \\right)^{-1}$. \n",
    "- $D_\\perp(z) = \\frac{k_\\mathrm{B}T}{6 \\pi \\eta_\\perp a}$ : coeficient de diffusion transverse au mur, avec $\\eta_\\perp(z) = \\eta_0 \\frac{6z^2 + 9az + 2a^2}{6z^2 + 2az}$.\n",
    "\n",
    "\n",
    "Les viscosités effectives du fluide, transverse et colinaires, dû à la présence des deux mur s'écrivent : $\\eta_\\mathrm{eff} = \\eta_\\mathrm{B} + \\eta_\\mathrm{T} - \\eta_0$, où le mur du bas est placé en $-H_\\mathrm{P}$ et le mur du haut est en $+H_\\mathrm{P}$. Les deux murs sont donc distant de $2 H_\\mathrm{P}$.\n",
    "\n",
    "La particule est soumise au poids et à la répulstion electronique des deux mur, donc le potentiel vaud :\n",
    "\n",
    "\\begin{equation}\n",
    "    V = B k_\\mathrm{B}T \\left( \\exp \\left( -\\frac{z_\\mathrm{B}}{l_\\mathrm{D}} \\right) + \\exp \\left( -\\frac{z_\\mathrm{T}}{l_\\mathrm{D}} \\right)  \\right) + \\frac{k_\\mathrm{B} T }{l_\\mathrm{B}}z = B k_\\mathrm{B}T \\left( \\exp \\left( -\\frac{(H+z)}{l_\\mathrm{D}} \\right) + \\exp \\left( -\\frac{(H-z)}{l_\\mathrm{D}} \\right)  \\right) + \\frac{k_\\mathrm{B} T }{l_\\mathrm{B}}z.\n",
    "\\end{equation}\n",
    "avec $z_\\mathrm{B} = H+z$ la distance entre la particule (en $z$) et le mur du bas ; et $z_\\mathrm{T} = H-z$, celle entre la particule et le mur du haut.\n",
    "\n",
    "La force électrostatique vaud alors :\n",
    "\\begin{equation}\n",
    "    F_\\mathrm{elec} = -\\frac{\\partial V_\\mathrm{elec}}{\\partial z} = \\frac{B k_\\mathrm{B}T }{l_\\mathrm{D}} e^{- \\frac{H}{l_\\mathrm{D}}} \\left( \\exp \\left( -\\frac{z}{l_\\mathrm{D}} \\right) - \\exp \\left( \\frac{z}{l_\\mathrm{D}} \\right)  \\right),\n",
    "\\end{equation}\n",
    "et la force gravitaire :\n",
    "\\begin{equation}\n",
    "    F_\\mathrm{grav} = -\\frac{k_\\mathrm{B} T }{l_\\mathrm{B}}.\n",
    "\\end{equation}\n",
    "\n",
    "La PDF de $z$ s'écrit alors :\n",
    "\\begin{equation}\n",
    "    P_\\mathrm{eq}(z) = \\frac{1}{N} \\exp \\left( -\\frac{V}{k_\\mathrm{B}T} \\right) = \\frac{1}{N} e^{ - B  \\left( \\exp \\left( -\\frac{(H+z)}{l_\\mathrm{D}} \\right) + \\exp \\left( -\\frac{(H-z)}{l_\\mathrm{D}} \\right)  \\right) - \\frac{z}{l_\\mathrm{B}}},\n",
    "\\end{equation}\n",
    "\n",
    "\\begin{equation}\n",
    "    P_\\mathrm{eq}(z) = \\frac{1}{N} e^{ - B \\exp \\left( -\\frac{H}{l_\\mathrm{D}} \\right) \\left \\{ \\exp \\left( -\\frac{z}{l_\\mathrm{D}} \\right) + \\exp \\left( +\\frac{z}{l_\\mathrm{D}} \\right)  \\right \\} - \\frac{z}{l_\\mathrm{B}}}.\n",
    "\\end{equation}\n",
    "\n",
    "Le spurious drift s'écrit :\n",
    "\\begin{equation}\n",
    "    F_\\mathrm{spurious} = k_\\mathrm{B}T \\frac{D_{\\perp,\\mathrm{eff}} '(z)}{D_{\\perp,\\mathrm{eff}}(z)} = D_{\\perp,\\mathrm{eff}} '(z) \\gamma_{\\perp,\\mathrm{eff}}(z) = - \\frac{k_\\mathrm{B}T (\\eta_\\mathrm{B}'(z) + \\eta_\\mathrm{T}'(z))}{6 \\pi a (\\eta_\\mathrm{B}(z) + \\eta_\\mathrm{T}(z) - \\eta_0)^2} \\gamma_{\\perp,\\mathrm{eff}}(z)\n",
    "\\end{equation}\n",
    "avec :\n",
    "\\begin{equation}\n",
    "    \\eta_\\mathrm{eff,\\perp}'(z) = \\eta_\\mathrm{B}'(z) + \\eta_\\mathrm{T}'(z) = \\eta_0 \\left( \\frac{a}{(H-z)^2} - \\frac{a}{(H+z)^2} - \\frac{3(8a-9)}{2(a+3H-3z)^2} + \\frac{3(8a-9)}{2(a+3H+3z)^2}  \\right) \n",
    "\\end{equation}\n",
    "\n",
    "\n",
    "$\\mathrm{B}=\\mathrm{Bottom}$, $\\mathrm{T}=\\mathrm{Top}$\n",
    "\n",
    "Équation de Langevin overdamped:\n",
    "\\begin{equation}\n",
    "   \\gamma_\\mathrm{eff} (z) \\frac{\\mathrm{d}z}{\\mathrm{d}t} = F_\\mathrm{grav} + F_\\mathrm{elec} - F_\\mathrm{spurious} + w(z) \\frac{\\mathrm{d}B_t}{\\mathrm{d}t}\n",
    "\\end{equation}\n",
    "\n",
    "\\begin{equation}\n",
    "   z_{i+1} = z_i + \\left( F_\\mathrm{grav} + F_\\mathrm{elec} - F_\\mathrm{spurious} + w(z) \\frac{\\mathrm{d}B_t} {\\mathrm{d}t} \\right) \\frac{\\mathrm{d}t}{\\gamma_\\mathrm{eff}(z)}\n",
    "\\end{equation}\n",
    "\n",
    "\\begin{equation}\n",
    "   z_{i+1} = z_i + \\left( F_\\mathrm{grav} + F_\\mathrm{elec} \\right) \\frac{\\mathrm{d}t}{\\gamma_\\mathrm{eff} (z)} - D_\\mathrm{eff,\\perp}' \\mathrm{d}t  + w(z) \\mathrm{RNG} \\mathrm{d}t.\n",
    "\\end{equation}\n"
   ]
  },
  {
   "cell_type": "code",
   "execution_count": 2,
   "id": "8e35d927-51eb-494d-9a10-69729adfae04",
   "metadata": {},
   "outputs": [],
   "source": [
    "\n",
    "F_elec = lambda z: B * kBT/lD * np.exp(-H/lD) * (np.exp(-z/lD) - np.exp(z/lD))\n",
    "F_grav = lambda z: - kBT/lB*np.ones(len(z))\n",
    "\n",
    "P_eq = lambda z: np.exp(-B*np.exp(-H/lD)*(np.exp(-z/lD) + np.exp(z/lD)) - z/lB)\n",
    "\n",
    "\n",
    "\n",
    "def gamma_z_eff(zi_1, a, eta, H):\n",
    "    \"\"\"\n",
    "    Formule de Padé\n",
    "    \"\"\"\n",
    "    # Mur Top\n",
    "    gam_z = (\n",
    "        6\n",
    "        * np.pi\n",
    "        * a\n",
    "        * eta\n",
    "        * (\n",
    "            (\n",
    "                (6 * (H-zi_1)**2 + 9*a*(H-zi_1) + 2*a**2)\n",
    "                / (6 * (H-zi_1)**2 + 2*a*(H-zi_1))\n",
    "            )\n",
    "        )\n",
    "    )\n",
    "    # Mur Bottom\n",
    "    gam_z_2 = (\n",
    "        6\n",
    "        * np.pi\n",
    "        * a\n",
    "        * eta\n",
    "        * (\n",
    "            (\n",
    "                (6 * (H+zi_1)**2 + 9*a*(H+zi_1) + 2*a**2)\n",
    "                / (6 * (H+zi_1)**2 + 2*a*(H+zi_1))\n",
    "            )\n",
    "        )\n",
    "    )\n",
    "\n",
    "    gam_z_0 = 6 * np.pi * a * eta\n",
    "\n",
    "    return (gam_z + gam_z_2 - gam_z_0)\n",
    "\n",
    "def gamma_xy_eff(zi_1, a, eta, H):\n",
    "    \"\"\"\n",
    "    Formule de Libshaber\n",
    "    \"\"\"\n",
    "    # Mur Top\n",
    "    gam_xy_T = (\n",
    "        6\n",
    "        * np.pi\n",
    "        * a\n",
    "        * eta\n",
    "        * (\n",
    "            1\n",
    "            - ((9 * a) / (16 * ((H-zi_1) + a)))\n",
    "            + (a / (8 * ((H-zi_1) + a))) ** 3\n",
    "            - (45 * a / (256 * ((H-zi_1) + a))) ** 4\n",
    "            - (a / (16 * ((H-zi_1) + a))) ** 5\n",
    "        )\n",
    "        ** (-1)\n",
    "    )\n",
    "\n",
    "    gam_xy_B = (\n",
    "        6\n",
    "        * np.pi\n",
    "        * a\n",
    "        * eta\n",
    "        * (\n",
    "            1\n",
    "            - ((9 * a) / (16 * ((H+zi_1) + a)))\n",
    "            + (a / (8 * ((H+zi_1) + a))) ** 3\n",
    "            - (45 * a / (256 * ((H+zi_1) + a))) ** 4\n",
    "            - (a / (16 * ((H+zi_1) + a))) ** 5\n",
    "        )\n",
    "        ** (-1)\n",
    "    )\n",
    "\n",
    "    gam_xy_0 = 6 * np.pi * a * eta\n",
    "\n",
    "    return (gam_xy_T + gam_xy_B - gam_xy_0)\n",
    "\n",
    "\n",
    "def Dprime_z_eff(zi, kBT, eta, a, H):\n",
    "    # Spurious force pour corriger overdamping (Auteur: Dr. Maxime Lavaud)\n",
    "    eta_B = lambda zi: eta * (6*(H+zi)**2 + 9*a*(H+zi) + 2*a**2) / (6*(H+zi)**2 + 2*a*(H+zi))\n",
    "    eta_T = lambda zi: eta * (6*(H-zi)**2 + 9*a*(H-zi) + 2*a**2) / (6*(H-zi)**2 + 2*a*(H-zi))\n",
    "    \n",
    "    eta_B_primes = -(a * eta * (2 * a ** 2 + 12 * a * (H + zi) + 21 * (H + zi) ** 2)) / (\n",
    "        2 * (H + zi) ** 2 * (a + 3 * (H + zi)) ** 2\n",
    "    )\n",
    "    eta_T_primes = (\n",
    "        a\n",
    "        * eta\n",
    "        * (2 * a ** 2 + 12 * a * (H-zi) + 21 * (H-zi) ** 2)\n",
    "        / (2 * (a + 3*H - 3*zi) ** 2*(H-zi) ** 2)\n",
    "    )\n",
    "    \n",
    "    eta_eff = eta_B(zi) + eta_T(zi) - eta\n",
    "    eta_eff_prime = eta_B_primes + eta_T_primes\n",
    "\n",
    "    return  - kBT / (6*np.pi*a) * eta_eff_prime / eta_eff**2\n",
    "\n",
    "\n",
    "F_spurious = lambda z: Dprime_z_eff(z, kBT, eta, a, H)*gamma_z_eff(z, eta, a, H)"
   ]
  },
  {
   "cell_type": "markdown",
   "id": "2b53eed6-196e-4c89-85f3-206ae9095b68",
   "metadata": {},
   "source": [
    "# Analyse $C4_\\|$"
   ]
  },
  {
   "cell_type": "code",
   "execution_count": 3,
   "id": "a357fd18-37ef-4e4d-9179-9fbba6655397",
   "metadata": {},
   "outputs": [
    {
     "data": {
      "text/plain": [
       "((14, 63), (63,))"
      ]
     },
     "execution_count": 3,
     "metadata": {},
     "output_type": "execute_result"
    }
   ],
   "source": [
    "file = \"C4_Datas/lD_3p000000e-08_lB_5p500000e-07_B_4p800000e+00_H_5p000000e-06_dt_1p000000e-03_Nt_10000000_Ntsub_100_.csv\"\n",
    "\n",
    "dt = float(file.replace(\"p\", \".\").split(\"_\")[-6])\n",
    "Nt = int(file.replace(\"p\", \".\").split(\"_\")[-4])\n",
    "Nt_sub = int(file.replace(\"p\", \".\").split(\"_\")[-2])\n",
    "# file.replace(\"p\", \".\").split(\"_\")\n",
    "\n",
    "data  = np.loadtxt(file, delimiter= \",\")\n",
    "\n",
    "\n",
    "a = 1.5e-6\n",
    "H = 20e-6\n",
    "lD = 70.6e-9\n",
    "lB = 573.0e-9\n",
    "kBT=1.38e-23*300\n",
    "B = 4.58\n",
    "eta=0.001\n",
    "\n",
    "dx = 1e-7 # Pas d'integration numérique pour les calcules théoriques\n",
    "\n",
    "\n",
    "zz = np.linspace(-H+H*1e-3, H-H*1e-3, 1000)\n",
    "\n",
    "\n",
    "list_dt_c4 = np.array([], dtype=int)\n",
    "for i in range(len(str(Nt)) - 1):\n",
    "    # Take just 10 points by decade.\n",
    "    list_dt_c4 = np.concatenate(\n",
    "        (\n",
    "            list_dt_c4,\n",
    "            np.arange(10 ** i, 10 ** (i + 1), 10 ** i, dtype=int),\n",
    "        )\n",
    "    )\n",
    "tau = list_dt_c4*dt*Nt_sub\n",
    "\n",
    "\n",
    "np.shape(data), np.shape(tau)"
   ]
  },
  {
   "cell_type": "code",
   "execution_count": 4,
   "id": "2a1f79f8-471c-4bd8-9784-012678331c69",
   "metadata": {},
   "outputs": [],
   "source": [
    "#THEORIE\n",
    "V_theo = lambda z: B*kBT*np.exp(-H/lD)*(np.exp(-z/lD) + np.exp(+z/lD)) + kBT/lB*z\n",
    "D_perp = lambda z: kBT/gamma_z_eff(z, a, eta, H)\n",
    "D_para = lambda z: kBT/gamma_xy_eff(z, a, eta, H)\n",
    "D_0 = lambda z: kBT/(6*np.pi*eta*a*np.ones(len(z)))\n",
    "\n",
    "\n"
   ]
  },
  {
   "cell_type": "code",
   "execution_count": 5,
   "id": "e93fd3f7-e5d0-469f-8ee3-c8b7c5978f5c",
   "metadata": {},
   "outputs": [
    {
     "data": {
      "text/plain": [
       "1.634866760929548e-27"
      ]
     },
     "execution_count": 5,
     "metadata": {},
     "output_type": "execute_result"
    }
   ],
   "source": [
    "A4_theo = C4_court(Dpara=D_para, V=V_theo, kBT=kBT, hmin=-H, hmax=+H, dx=dx)\n",
    "A4_theo"
   ]
  },
  {
   "cell_type": "code",
   "execution_count": 6,
   "id": "4672367b-b808-434c-8633-b0051f126c54",
   "metadata": {},
   "outputs": [
    {
     "data": {
      "text/plain": [
       "2.4487882770670675"
      ]
     },
     "execution_count": 6,
     "metadata": {},
     "output_type": "execute_result"
    }
   ],
   "source": [
    "dx = 1e-7\n",
    "D4_theo = C4_long(Dpara=D_para, Dperp=D_perp, V=V_theo, kBT=kBT, H=H, dx=dx)\n",
    "D4_theo"
   ]
  },
  {
   "cell_type": "code",
   "execution_count": 24,
   "id": "00157a07-8bfa-4018-a90a-90bc57a43e83",
   "metadata": {},
   "outputs": [
    {
     "data": {
      "image/png": "[encoded data removed]",
      "text/plain": [
       "<Figure size 1200x800 with 1 Axes>"
      ]
     },
     "metadata": {
      "needs_background": "light"
     },
     "output_type": "display_data"
    }
   ],
   "source": [
    "#plt.style.use('dark_background')\n",
    "dt = float(file.replace(\"p\", \".\").split(\"_\")[-6])\n",
    "Nt = int(file.replace(\"p\", \".\").split(\"_\")[-4])\n",
    "\n",
    "tt_court = np.linspace(1e-2, dt*Nt, 10000)\n",
    "tt_long = np.linspace(19, dt*Nt, 10000)\n",
    "\n",
    "plt.errorbar(tau, np.mean( data, axis=0), yerr=np.std(data, axis=0), fmt=\"o\", label=r\"Simu\") \n",
    "plt.loglog(tt_court, A4_theo*tt_court**2,label=r\"$A_4 \\tau ^2$\")\n",
    "# plt.plot(tt_long, D4_theo*tt_long, label=r\"$24 D_4 \\tau - 24 C_4$\")\n",
    "plt.legend()\n",
    "plt.savefig(\"C4_simu_tempsLongNope.png\")"
   ]
  },
  {
   "cell_type": "markdown",
   "id": "72d48e49-a4f7-415c-ad49-8d63119e277c",
   "metadata": {},
   "source": [
    "# Étude de ce $D_4$ qui veux pas converger !!!!!! "
   ]
  },
  {
   "cell_type": "code",
   "execution_count": 8,
   "id": "6cdf8444-106f-4bf0-a469-719dc1c36a84",
   "metadata": {},
   "outputs": [],
   "source": [
    "from scipy.integrate import simpson\n",
    "import time"
   ]
  },
  {
   "cell_type": "code",
   "execution_count": 9,
   "id": "c6f5a638-3d00-4eb1-a43f-a1c1f49d8a60",
   "metadata": {},
   "outputs": [],
   "source": [
    "V = V_theo\n",
    "Dpara = D_para\n",
    "Dperp = D_perp\n",
    "\n",
    "beta = 1 / kBT\n",
    "hmin=-(H+1e-3*H)\n",
    "hmax=(H+1e-3*H)\n",
    "dx = 1e-7\n",
    "\n",
    "Nt = int((hmax - hmin) / dx)\n",
    "z = np.linspace(hmin, hmax, Nt, endpoint=True)\n",
    "\n",
    "\n",
    "VV = [V(i) for i in z]\n",
    "D_Para = [Dpara(i) for i in z]\n",
    "D_Perp = [Dperp(i) for i in z]\n",
    "\n",
    "Z = simpson(y=[np.exp(-beta*VV[i]) for i in range(len(z))], dx=dx)\n",
    "Peq = [np.exp(-beta * V(i)) / Z for i in z]\n",
    "Dpara_mean = simpson(y=[Peq[i]*D_Para[i] for i in range(len(z))], dx=dx)\n",
    "\n",
    "def J(z):\n",
    "    if z == hmin:\n",
    "        return 0\n",
    "    zp = np.linspace(hmin, z, int((z - hmin)/ dx), endpoint=True)\n",
    "    j = simpson( y=[np.exp(-beta * V(i)) * (Dpara(i) - Dpara_mean) for i in zp] , dx=dx )\n",
    "    return j\n",
    "\n",
    "JJ = [J(i) for i in z]\n",
    "\n",
    "D4_1 = np.trapz( y=[JJ[i]**2 * np.exp(beta*VV[i]) / D_Perp[i] for i in range(len(z))], dx=dx )"
   ]
  },
  {
   "cell_type": "code",
   "execution_count": 10,
   "id": "f84f3362-2a3a-4093-8bd5-90f7cc49f414",
   "metadata": {},
   "outputs": [],
   "source": [
    "# dx = 1e-7\n",
    "# Nt = int((hmax - hmin) / dx)\n",
    "# z2 = np.linspace(hmin, hmax, Nt, endpoint=True)\n",
    "# VV = [V(i) for i in z2]\n",
    "# D_Para = [Dpara(i) for i in z2]\n",
    "# D_Perp = [Dperp(i) for i in z2]\n",
    "\n",
    "# Z = simpson(y=[np.exp(-beta*VV[i]) for i in range(len(z2))], dx=dx)\n",
    "# Peq = [np.exp(-beta * V(i)) / Z for i in z2]\n",
    "# Dpara_mean = simpson(y=[Peq[i]*D_Para[i] for i in range(len(z2))], dx=dx)\n",
    "\n",
    "\n",
    "# JJ2 = [J(i) for i in z2]\n",
    "# D4_2 = np.trapz( y=[JJ2[i]**2 * np.exp(beta*VV[i]) / D_Perp[i] for i in range(len(z))], dx=dx )"
   ]
  },
  {
   "cell_type": "code",
   "execution_count": 11,
   "id": "e733d553-9391-4d5f-b4b1-5e530175efed",
   "metadata": {},
   "outputs": [
    {
     "ename": "NameError",
     "evalue": "name 'z2' is not defined",
     "output_type": "error",
     "traceback": [
      "\u001b[0;31m---------------------------------------------------------------------------\u001b[0m",
      "\u001b[0;31mNameError\u001b[0m                                 Traceback (most recent call last)",
      "\u001b[0;32m/tmp/ipykernel_248423/2895173007.py\u001b[0m in \u001b[0;36m<module>\u001b[0;34m\u001b[0m\n\u001b[0;32m----> 1\u001b[0;31m \u001b[0mplt\u001b[0m\u001b[0;34m.\u001b[0m\u001b[0mplot\u001b[0m\u001b[0;34m(\u001b[0m\u001b[0mz2\u001b[0m\u001b[0;34m,\u001b[0m \u001b[0mJJ2\u001b[0m\u001b[0;34m,\u001b[0m \u001b[0mlabel\u001b[0m\u001b[0;34m=\u001b[0m\u001b[0;34mr\"$dx=1e-7$\"\u001b[0m\u001b[0;34m)\u001b[0m\u001b[0;34m\u001b[0m\u001b[0;34m\u001b[0m\u001b[0m\n\u001b[0m\u001b[1;32m      2\u001b[0m \u001b[0mplt\u001b[0m\u001b[0;34m.\u001b[0m\u001b[0mplot\u001b[0m\u001b[0;34m(\u001b[0m\u001b[0mz\u001b[0m\u001b[0;34m,\u001b[0m \u001b[0mJJ\u001b[0m\u001b[0;34m,\u001b[0m \u001b[0mlabel\u001b[0m\u001b[0;34m=\u001b[0m\u001b[0;34mr\"$dx=1e-8$\"\u001b[0m\u001b[0;34m)\u001b[0m\u001b[0;34m\u001b[0m\u001b[0;34m\u001b[0m\u001b[0m\n\u001b[1;32m      3\u001b[0m \u001b[0mplt\u001b[0m\u001b[0;34m.\u001b[0m\u001b[0mxlabel\u001b[0m\u001b[0;34m(\u001b[0m\u001b[0;34mr\"$z$\"\u001b[0m\u001b[0;34m)\u001b[0m\u001b[0;34m\u001b[0m\u001b[0;34m\u001b[0m\u001b[0m\n\u001b[1;32m      4\u001b[0m \u001b[0mplt\u001b[0m\u001b[0;34m.\u001b[0m\u001b[0mylabel\u001b[0m\u001b[0;34m(\u001b[0m\u001b[0;34mr\"$J(z)$\"\u001b[0m\u001b[0;34m)\u001b[0m\u001b[0;34m\u001b[0m\u001b[0;34m\u001b[0m\u001b[0m\n\u001b[1;32m      5\u001b[0m \u001b[0mplt\u001b[0m\u001b[0;34m.\u001b[0m\u001b[0mlegend\u001b[0m\u001b[0;34m(\u001b[0m\u001b[0;34m)\u001b[0m\u001b[0;34m\u001b[0m\u001b[0;34m\u001b[0m\u001b[0m\n",
      "\u001b[0;31mNameError\u001b[0m: name 'z2' is not defined"
     ]
    }
   ],
   "source": [
    "\n",
    "plt.plot(z2, JJ2, label=r\"$dx=1e-7$\")\n",
    "plt.plot(z, JJ, label=r\"$dx=1e-8$\")\n",
    "plt.xlabel(r\"$z$\")\n",
    "plt.ylabel(r\"$J(z)$\")\n",
    "plt.legend()\n",
    "plt.show()\n",
    "# plt.savefig(\"J_z_dx.png\")"
   ]
  },
  {
   "cell_type": "code",
   "execution_count": null,
   "id": "00543b63-3f4e-4f58-822b-606f6e971fd3",
   "metadata": {},
   "outputs": [],
   "source": [
    "D4_1"
   ]
  },
  {
   "cell_type": "code",
   "execution_count": null,
   "id": "d76d1aea-6144-468c-a67c-a53029491736",
   "metadata": {},
   "outputs": [],
   "source": []
  },
  {
   "cell_type": "code",
   "execution_count": 30,
   "id": "2035c0be-3986-49d1-b0f5-0082aeea3f58",
   "metadata": {},
   "outputs": [
    {
     "data": {
      "text/plain": [
       "finfo(resolution=1e-18, min=-1.189731495357231765e+4932, max=1.189731495357231765e+4932, dtype=float128)"
      ]
     },
     "execution_count": 30,
     "metadata": {},
     "output_type": "execute_result"
    }
   ],
   "source": [
    "np.finfo(np.longdouble)"
   ]
  },
  {
   "cell_type": "code",
   "execution_count": 31,
   "id": "1e69b7b4-3b48-4411-9f83-eb08abd6f6d7",
   "metadata": {},
   "outputs": [
    {
     "data": {
      "text/plain": [
       "finfo(resolution=1e-15, min=-1.7976931348623157e+308, max=1.7976931348623157e+308, dtype=float64)"
      ]
     },
     "execution_count": 31,
     "metadata": {},
     "output_type": "execute_result"
    }
   ],
   "source": [
    "np.finfo(np.double)"
   ]
  },
  {
   "cell_type": "code",
   "execution_count": null,
   "id": "c4472454-588a-407e-9691-7a7478ea26b3",
   "metadata": {},
   "outputs": [],
   "source": [
    "drp"
   ]
  }
 ],
 "metadata": {
  "kernelspec": {
   "display_name": "Python 3 (ipykernel)",
   "language": "python",
   "name": "python3"
  },
  "language_info": {
   "codemirror_mode": {
    "name": "ipython",
    "version": 3
   },
   "file_extension": ".py",
   "mimetype": "text/x-python",
   "name": "python",
   "nbconvert_exporter": "python",
   "pygments_lexer": "ipython3",
   "version": "3.10.0"
  }
 },
 "nbformat": 4,
 "nbformat_minor": 5
}
