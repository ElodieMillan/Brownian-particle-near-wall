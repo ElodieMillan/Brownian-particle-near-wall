{
 "cells": [
  {
   "cell_type": "code",
   "execution_count": 22,
   "id": "06efea18",
   "metadata": {},
   "outputs": [],
   "source": [
    "import numpy as np\n",
    "from Cumulant4_fonction import C4_long"
   ]
  },
  {
   "cell_type": "markdown",
   "id": "323558f3",
   "metadata": {},
   "source": [
    "# Model de diffusion dans un canal étroit sans potentiel\n",
    "\n",
    "Code origine : $\\mathrm{\\color{red}{Cumulant4\\_fonction.py}}$\n",
    "\n",
    "Auteur : $\\mathrm{\\color{purple}{Élodie ~MILLAN}}$\n",
    "\n",
    "Date : 19/11/2021\n",
    "\n",
    "\n",
    "- $2H_p$ : hauteur du canal;\n",
    "- $a$ : rayon de la particule;\n",
    "- $V$ : potentiel où la particule est soumis\n",
    "- $D_\\|(z)$ : coeficient de diffusion selon l'axe parallèle aux murs \n",
    "- $D_\\perp(z)$ : coeficient de diffusion selon l'axe perpendiculaire aux murs \n"
   ]
  },
  {
   "cell_type": "code",
   "execution_count": 7,
   "id": "7bed65f6",
   "metadata": {},
   "outputs": [],
   "source": [
    "def D_para(z):\n",
    "    D_para0 = (H-a)/(2*a)\n",
    "    return (D_para0*(1-(z/Hs)**2))\n",
    "\n",
    "def D_perp(z):\n",
    "    D_perp0 = (H-a)/(2*a)\n",
    "    return D_perp0*(1-(z/H)**2)\n",
    "\n",
    "def V(z):\n",
    "    return 0\n"
   ]
  },
  {
   "cell_type": "code",
   "execution_count": 8,
   "id": "9048c3c3",
   "metadata": {},
   "outputs": [],
   "source": [
    "H = 4e-6\n",
    "Hs = 5e-6\n",
    "a = 1e-6\n",
    "kBT = 1.38e-23 * 300"
   ]
  },
  {
   "cell_type": "code",
   "execution_count": 10,
   "id": "6eb59ba1",
   "metadata": {},
   "outputs": [
    {
     "data": {
      "text/plain": [
       "(0.96, 0.65625)"
      ]
     },
     "execution_count": 10,
     "metadata": {},
     "output_type": "execute_result"
    }
   ],
   "source": [
    "D_para(3e-6),D_perp(3e-6)"
   ]
  },
  {
   "cell_type": "code",
   "execution_count": 23,
   "id": "fef1e829",
   "metadata": {},
   "outputs": [
    {
     "ename": "IndexError",
     "evalue": "list assignment index out of range",
     "output_type": "error",
     "traceback": [
      "\u001b[0;31m---------------------------------------------------------------------------\u001b[0m",
      "\u001b[0;31mIndexError\u001b[0m                                Traceback (most recent call last)",
      "\u001b[0;32m/tmp/ipykernel_419559/3095345581.py\u001b[0m in \u001b[0;36m<module>\u001b[0;34m\u001b[0m\n\u001b[0;32m----> 1\u001b[0;31m \u001b[0mC4_tempsLong\u001b[0m \u001b[0;34m=\u001b[0m \u001b[0mC4_long\u001b[0m\u001b[0;34m(\u001b[0m\u001b[0mD_para\u001b[0m\u001b[0;34m,\u001b[0m \u001b[0mD_perp\u001b[0m\u001b[0;34m,\u001b[0m \u001b[0mV\u001b[0m\u001b[0;34m,\u001b[0m \u001b[0mkBT\u001b[0m\u001b[0;34m)\u001b[0m\u001b[0;34m\u001b[0m\u001b[0;34m\u001b[0m\u001b[0m\n\u001b[0m",
      "\u001b[0;32m~/Documents/Stage2020-Nageurs-actifs-proche-de-parois-deformable/Cumulant4/Cumulant4_fonction.py\u001b[0m in \u001b[0;36mC4_long\u001b[0;34m(Dpara, Dperp, V, kBT)\u001b[0m\n\u001b[1;32m     28\u001b[0m     \u001b[0mC4_long\u001b[0m \u001b[0;34m=\u001b[0m \u001b[0;36m24\u001b[0m\u001b[0;34m*\u001b[0m\u001b[0;34m(\u001b[0m\u001b[0mD4\u001b[0m\u001b[0;34m*\u001b[0m\u001b[0mtau\u001b[0m \u001b[0;34m-\u001b[0m \u001b[0mC4\u001b[0m\u001b[0;34m)\u001b[0m\u001b[0;34m\u001b[0m\u001b[0;34m\u001b[0m\u001b[0m\n\u001b[1;32m     29\u001b[0m \u001b[0;34m\u001b[0m\u001b[0m\n\u001b[0;32m---> 30\u001b[0;31m     \u001b[0;34m:\u001b[0m\u001b[0mparam\u001b[0m \u001b[0mDpara\u001b[0m\u001b[0;34m:\u001b[0m \u001b[0mFonction\u001b[0m \u001b[0mcoeficient\u001b[0m \u001b[0mde\u001b[0m \u001b[0mdiffusion\u001b[0m \u001b[0mparallèle\u001b[0m \u001b[0mau\u001b[0m \u001b[0mmur\u001b[0m\u001b[0;34m.\u001b[0m\u001b[0;34m\u001b[0m\u001b[0;34m\u001b[0m\u001b[0m\n\u001b[0m\u001b[1;32m     31\u001b[0m     \u001b[0;34m:\u001b[0m\u001b[0mparam\u001b[0m \u001b[0mDperp\u001b[0m\u001b[0;34m:\u001b[0m \u001b[0mFonction\u001b[0m \u001b[0mcoeficient\u001b[0m \u001b[0mde\u001b[0m \u001b[0mdiffusion\u001b[0m \u001b[0mperpendiculaire\u001b[0m \u001b[0mau\u001b[0m \u001b[0mmur\u001b[0m\u001b[0;34m.\u001b[0m\u001b[0;34m\u001b[0m\u001b[0;34m\u001b[0m\u001b[0m\n\u001b[1;32m     32\u001b[0m     \u001b[0;34m:\u001b[0m\u001b[0mparam\u001b[0m \u001b[0mpotentiel\u001b[0m\u001b[0;34m:\u001b[0m \u001b[0mPotentiel\u001b[0m \u001b[0msubit\u001b[0m \u001b[0mpar\u001b[0m \u001b[0mla\u001b[0m \u001b[0mparticule\u001b[0m\u001b[0;34m.\u001b[0m\u001b[0;34m\u001b[0m\u001b[0;34m\u001b[0m\u001b[0m\n",
      "\u001b[0;32m<__array_function__ internals>\u001b[0m in \u001b[0;36mtrapz\u001b[0;34m(*args, **kwargs)\u001b[0m\n",
      "\u001b[0;32m~/miniconda3/envs/cy3/lib/python3.9/site-packages/numpy/lib/function_base.py\u001b[0m in \u001b[0;36mtrapz\u001b[0;34m(y, x, dx, axis)\u001b[0m\n\u001b[1;32m   4222\u001b[0m             \u001b[0;31m# reshape to correct shape\u001b[0m\u001b[0;34m\u001b[0m\u001b[0;34m\u001b[0m\u001b[0;34m\u001b[0m\u001b[0m\n\u001b[1;32m   4223\u001b[0m             \u001b[0mshape\u001b[0m \u001b[0;34m=\u001b[0m \u001b[0;34m[\u001b[0m\u001b[0;36m1\u001b[0m\u001b[0;34m]\u001b[0m\u001b[0;34m*\u001b[0m\u001b[0my\u001b[0m\u001b[0;34m.\u001b[0m\u001b[0mndim\u001b[0m\u001b[0;34m\u001b[0m\u001b[0;34m\u001b[0m\u001b[0m\n\u001b[0;32m-> 4224\u001b[0;31m             \u001b[0mshape\u001b[0m\u001b[0;34m[\u001b[0m\u001b[0maxis\u001b[0m\u001b[0;34m]\u001b[0m \u001b[0;34m=\u001b[0m \u001b[0md\u001b[0m\u001b[0;34m.\u001b[0m\u001b[0mshape\u001b[0m\u001b[0;34m[\u001b[0m\u001b[0;36m0\u001b[0m\u001b[0;34m]\u001b[0m\u001b[0;34m\u001b[0m\u001b[0;34m\u001b[0m\u001b[0m\n\u001b[0m\u001b[1;32m   4225\u001b[0m             \u001b[0md\u001b[0m \u001b[0;34m=\u001b[0m \u001b[0md\u001b[0m\u001b[0;34m.\u001b[0m\u001b[0mreshape\u001b[0m\u001b[0;34m(\u001b[0m\u001b[0mshape\u001b[0m\u001b[0;34m)\u001b[0m\u001b[0;34m\u001b[0m\u001b[0;34m\u001b[0m\u001b[0m\n\u001b[1;32m   4226\u001b[0m         \u001b[0;32melse\u001b[0m\u001b[0;34m:\u001b[0m\u001b[0;34m\u001b[0m\u001b[0;34m\u001b[0m\u001b[0m\n",
      "\u001b[0;31mIndexError\u001b[0m: list assignment index out of range"
     ]
    }
   ],
   "source": [
    "ztheo = np.linspace(-H,H, 1000)\n",
    "C4_tempsLong = C4_long(D_para, D_perp, V, kBT, ztheo)"
   ]
  },
  {
   "cell_type": "code",
   "execution_count": null,
   "id": "dc95df28",
   "metadata": {},
   "outputs": [],
   "source": []
  }
 ],
 "metadata": {
  "kernelspec": {
   "display_name": "Python 3 (ipykernel)",
   "language": "python",
   "name": "python3"
  },
  "language_info": {
   "codemirror_mode": {
    "name": "ipython",
    "version": 3
   },
   "file_extension": ".py",
   "mimetype": "text/x-python",
   "name": "python",
   "nbconvert_exporter": "python",
   "pygments_lexer": "ipython3",
   "version": "3.9.5"
  }
 },
 "nbformat": 4,
 "nbformat_minor": 5
}
