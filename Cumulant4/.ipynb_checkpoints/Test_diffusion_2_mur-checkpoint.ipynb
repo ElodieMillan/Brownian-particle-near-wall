{
 "cells": [
  {
   "cell_type": "code",
   "execution_count": 1,
   "id": "5dd08032",
   "metadata": {},
   "outputs": [],
   "source": [
    "import numpy as np\n",
    "import matplotlib.pyplot as plt\n",
    "from Cumulant4_fonction import C4_long, C4_court, Cross_time\n",
    "from DoubleRigidWallOverdampedLangevin3D_cython import RigidWallOverdampedLangevin3D\n",
    "from scipy.integrate import quad\n",
    "from scipy.io import loadmat\n",
    "from scipy.optimize import curve_fit\n",
    "import matplotlib as mpl\n",
    "import matplotlib.pyplot as plt\n",
    "import numpy as np\n",
    "from mpl_toolkits.mplot3d import Axes3D\n",
    "from numpy import trapz\n",
    "\n",
    "\n",
    "def cm2inch(value):\n",
    "    return value / 2.54\n",
    "\n",
    "from tqdm import tqdm\n",
    "# axes.xaxis.set_tick_params(direction='in', which='both')\n",
    "# axes.yaxis.set_tick_params(direction='in', which='both')\n",
    "\n",
    "\n",
    "mpl.rcParams[\"xtick.direction\"] = \"in\"\n",
    "mpl.rcParams[\"ytick.direction\"] = \"in\"\n",
    "mpl.rcParams[\"lines.markeredgecolor\"] = \"k\"\n",
    "mpl.rcParams[\"lines.markeredgewidth\"] = 1\n",
    "mpl.rcParams[\"figure.dpi\"] = 200\n",
    "from matplotlib import rc\n",
    "\n",
    "rc(\"font\", family=\"serif\")\n",
    "rc(\"text\", usetex=True)\n",
    "rc(\"xtick\", labelsize=\"medium\")\n",
    "rc(\"ytick\", labelsize=\"medium\")\n",
    "rc(\"axes\", labelsize=\"large\")"
   ]
  },
  {
   "cell_type": "code",
   "execution_count": null,
   "id": "3b5cddb0",
   "metadata": {},
   "outputs": [],
   "source": []
  },
  {
   "cell_type": "markdown",
   "id": "cd177e20",
   "metadata": {},
   "source": [
    "# Model de diffusion dans un canal étroit sans potentiel\n",
    "\n",
    "Code origine : $\\mathrm{\\color{red}{Cumulant4\\_fonction.py}}$\n",
    "\n",
    "Auteur : $\\mathrm{\\color{purple}{Élodie ~MILLAN}}$\n",
    "\n",
    "Date : 19/11/2021\n",
    "\n",
    "\n",
    "- $2H_p$ : hauteur du canal;\n",
    "- $a$ : rayon de la particule;\n",
    "- $V$ : potentiel où la particule est soumis\n",
    "- $D_\\|(z)$ : coeficient de diffusion selon l'axe parallèle aux murs \n",
    "- $D_\\perp(z)$ : coeficient de diffusion selon l'axe perpendiculaire aux murs \n"
   ]
  },
  {
   "cell_type": "code",
   "execution_count": 2,
   "id": "b9766539",
   "metadata": {},
   "outputs": [],
   "source": [
    "def Dpara(z):\n",
    "    \"\"\"\n",
    "    D parallèle en fonction de z.\n",
    "    Return: une liste de Dpara de meme taille que z.\n",
    "    \"\"\"\n",
    "    return (D_para0*(1-(z/Hs)**2))\n",
    "\n",
    "def Dperp(z):\n",
    "    \"\"\"\n",
    "    D perpendiculaire en fonction de z.\n",
    "    Return: une liste de Dperp de meme taille que z.\n",
    "    \"\"\"\n",
    "    return D_perp0*(1-(z/H)**2)\n",
    "\n",
    "def V(z):\n",
    "    \"\"\"\n",
    "    Potentiel subit par la particule en fonction de z.\n",
    "    Return: une liste de V de meme taille que z.\n",
    "    \"\"\"\n",
    "    return 0\n"
   ]
  },
  {
   "cell_type": "code",
   "execution_count": 3,
   "id": "e9c2fb30",
   "metadata": {},
   "outputs": [],
   "source": [
    "H = 9e-6\n",
    "Hs = 10e-6 # Hs > H\n",
    "a = 1e-6\n",
    "kBT = 4e-21\n",
    "beta = 1/kBT\n",
    "Db = kBT/(6*np.pi*0.001*a)\n",
    "D_para0 = (H-a)/(2*a) * Db\n",
    "D_perp0 = (H-a)/(2*a) * Db\n",
    "dt = 1e-3\n",
    "Nt = int(100000000)"
   ]
  },
  {
   "cell_type": "code",
   "execution_count": 4,
   "id": "f31d257b",
   "metadata": {},
   "outputs": [
    {
     "data": {
      "text/plain": [
       "8.488263631567752e-13"
      ]
     },
     "execution_count": 4,
     "metadata": {},
     "output_type": "execute_result"
    }
   ],
   "source": [
    "D_perp0"
   ]
  },
  {
   "cell_type": "code",
   "execution_count": 5,
   "id": "66416717",
   "metadata": {},
   "outputs": [
    {
     "data": {
      "text/plain": [
       "100000.0"
      ]
     },
     "execution_count": 5,
     "metadata": {},
     "output_type": "execute_result"
    }
   ],
   "source": [
    "Nt*dt"
   ]
  },
  {
   "cell_type": "code",
   "execution_count": 6,
   "id": "4c7c751c",
   "metadata": {},
   "outputs": [],
   "source": [
    "D4, C4 = C4_long(Dpara=Dpara, Dperp=Dperp, V=V, kBT=kBT, a=-H+1e-20, b=H-1e-20)\n",
    "A4 = C4_court(Dpara=Dpara, V=V, kBT=kBT, a=-H+1e-20, b=H-1e-20)"
   ]
  },
  {
   "cell_type": "code",
   "execution_count": 7,
   "id": "9067d8d6",
   "metadata": {},
   "outputs": [],
   "source": [
    "D4_theo = (2 * D_para0**2 * H**6)/(135 * D_perp0 * Hs**4)\n",
    "C4_theo = (D_para0**2 * H**8)/(405 * D_perp0**2 * Hs**4)"
   ]
  },
  {
   "cell_type": "code",
   "execution_count": 8,
   "id": "f880e1d9",
   "metadata": {},
   "outputs": [
    {
     "name": "stdout",
     "output_type": "stream",
     "text": [
      "Cumu_court = A4 tau²         ;   Cumu_long = D4 tau - C4\n",
      "A4 =  2.1009960640075116e-26    ;   (D4, C4) = ( 6.68297972240586e-25 1.0628819999999898e-23 )\n"
     ]
    }
   ],
   "source": [
    "print(\"Cumu_court = A4 tau²         ;   Cumu_long = D4 tau - C4\")\n",
    "print(\"A4 = \", A4,\"   ;   (D4, C4) = (\", D4, C4, \")\")"
   ]
  },
  {
   "cell_type": "code",
   "execution_count": 9,
   "id": "3fc2f7fc",
   "metadata": {},
   "outputs": [
    {
     "data": {
      "text/plain": [
       "(6.682979722405921e-25, 1.062882e-23)"
      ]
     },
     "execution_count": 9,
     "metadata": {},
     "output_type": "execute_result"
    }
   ],
   "source": [
    "D4_theo, C4_theo"
   ]
  },
  {
   "cell_type": "code",
   "execution_count": 10,
   "id": "37eebc39",
   "metadata": {},
   "outputs": [
    {
     "data": {
      "text/plain": [
       "31.808625617596427"
      ]
     },
     "execution_count": 10,
     "metadata": {},
     "output_type": "execute_result"
    }
   ],
   "source": [
    "tau_cross = Cross_time(Dpara=Dpara, Dperp=Dperp, V=V, kBT=kBT, a=-H+1e-20, b=H-1e-20)\n",
    "tau_cross"
   ]
  },
  {
   "cell_type": "code",
   "execution_count": 11,
   "id": "d7e85770",
   "metadata": {},
   "outputs": [
    {
     "data": {
      "text/plain": [
       "(8.488263631567752e-13, 8.488263631567752e-13)"
      ]
     },
     "execution_count": 11,
     "metadata": {},
     "output_type": "execute_result"
    }
   ],
   "source": [
    "# cacamdks\n",
    "D_perp0, D_para0"
   ]
  },
  {
   "cell_type": "code",
   "execution_count": 12,
   "id": "fce11861",
   "metadata": {},
   "outputs": [],
   "source": [
    "#Simulation\n",
    "simu = RigidWallOverdampedLangevin3D(dt=dt, Nt=Nt, a=a, H=H, Hs=Hs, kBT=kBT, x0=(0.0, 0.0, -4e-6))\n",
    "simu.trajectory()"
   ]
  },
  {
   "cell_type": "markdown",
   "id": "33e1a409",
   "metadata": {},
   "source": [
    "On peux voir que D_perp0 théo et D_perp0 passant dans la simu sont differentes \n",
    "\n",
    "A vérifier !!!!!!!!!!!\n"
   ]
  },
  {
   "cell_type": "code",
   "execution_count": 13,
   "id": "50dd3f4d",
   "metadata": {},
   "outputs": [
    {
     "data": {
      "text/plain": [
       "1.3029400317411198e-06"
      ]
     },
     "execution_count": 13,
     "metadata": {},
     "output_type": "execute_result"
    }
   ],
   "source": [
    "np.sqrt(2 * Dperp(0))"
   ]
  },
  {
   "cell_type": "code",
   "execution_count": 14,
   "id": "1b9d9548",
   "metadata": {},
   "outputs": [
    {
     "data": {
      "text/plain": [
       "array([-4.00000000e-06, -4.07834977e-06, -4.13678393e-06, ...,\n",
       "       -7.26539868e-06, -7.26196664e-06, -7.31897836e-06])"
      ]
     },
     "execution_count": 14,
     "metadata": {},
     "output_type": "execute_result"
    }
   ],
   "source": [
    "simu.z"
   ]
  },
  {
   "cell_type": "code",
   "execution_count": 15,
   "id": "9ede179b",
   "metadata": {
    "scrolled": true
   },
   "outputs": [
    {
     "data": {
      "text/plain": [
       "[<matplotlib.lines.Line2D at 0x7f4d90b236a0>]"
      ]
     },
     "execution_count": 15,
     "metadata": {},
     "output_type": "execute_result"
    },
    {
     "data": {
      "image/png": "[encoded data removed]",
      "text/plain": [
       "<Figure size 1200x800 with 1 Axes>"
      ]
     },
     "metadata": {
      "needs_background": "light"
     },
     "output_type": "display_data"
    }
   ],
   "source": [
    "plt.plot(simu.z)"
   ]
  },
  {
   "cell_type": "code",
   "execution_count": 16,
   "id": "523881d4",
   "metadata": {},
   "outputs": [
    {
     "name": "stderr",
     "output_type": "stream",
     "text": [
      "100%|██████████████████████████████████████████| 27/27 [00:00<00:00, 556.82it/s]\n"
     ]
    }
   ],
   "source": [
    "Tau_simu, C4_simu = simu.Cumulant4(\"x\", plot=False, output=True)"
   ]
  },
  {
   "cell_type": "code",
   "execution_count": null,
   "id": "f8856123",
   "metadata": {},
   "outputs": [],
   "source": [
    "C4_simu"
   ]
  },
  {
   "cell_type": "code",
   "execution_count": null,
   "id": "70e7800d",
   "metadata": {},
   "outputs": [],
   "source": [
    "\n",
    "plt.loglog(Tau_simu, C4_simu, \"bo\", label=r\"Simualtion\")\n",
    "\n",
    "tau_court = np.linspace(dt, 20, 1000)\n",
    "tau_long = np.linspace(10, 100, 1000)\n",
    "\n",
    "\n",
    "plt.plot(tau_court, A4*tau_court**2, \"r-\", label=r\"Court\")\n",
    "plt.plot(tau_long, 24*D4*tau_long-24*C4, \"g-\", label=r\"Long\")\n",
    "\n",
    "\n",
    "\n",
    "ax = plt.gca()\n",
    "locmaj = mpl.ticker.LogLocator(base=10.0, subs=(1.0,), numticks=100)\n",
    "ax.xaxis.set_major_locator(locmaj)\n",
    "locmin = mpl.ticker.LogLocator(base=10.0, subs=np.arange(2, 10) * 0.1, numticks=100)\n",
    "ax.xaxis.set_minor_locator(locmin)\n",
    "ax.xaxis.set_minor_formatter(mpl.ticker.NullFormatter())\n",
    "locmaj = mpl.ticker.LogLocator(base=10.0, subs=(1.0,), numticks=100)\n",
    "ax.yaxis.set_major_locator(locmaj)\n",
    "locmin = mpl.ticker.LogLocator(base=10.0, subs=np.arange(2, 10) * 0.1, numticks=100)\n",
    "ax.yaxis.set_minor_locator(locmin)\n",
    "\n",
    "plt.legend()\n",
    "plt.show()"
   ]
  },
  {
   "cell_type": "code",
   "execution_count": null,
   "id": "2af67273",
   "metadata": {},
   "outputs": [],
   "source": [
    "# !black Cumulant4_fonction.py\n",
    "\n",
    "H = 1\n",
    "Hs = 1.1 # Hs > H\n",
    "a = 0.1\n",
    "kBT = 1#1.38e-23 * 300\n",
    "beta = 1/kBT\n",
    "D_para0 = (H-a)/(2*a)\n",
    "D_perp0 = (H-a)/(2*a)"
   ]
  },
  {
   "cell_type": "code",
   "execution_count": null,
   "id": "528e899e",
   "metadata": {},
   "outputs": [],
   "source": [
    "V_g = lambda z : z**2 / (2*0.5**2)"
   ]
  },
  {
   "cell_type": "code",
   "execution_count": null,
   "id": "42b1e565",
   "metadata": {},
   "outputs": [],
   "source": [
    "#D4_g, C4_g = C4_long(Dpara=Dpara, Dperp=Dperp, V=V_g, kBT=kBT, a=-H+0.01, b=H-0.01)"
   ]
  },
  {
   "cell_type": "code",
   "execution_count": null,
   "id": "a441e420",
   "metadata": {},
   "outputs": [],
   "source": [
    "#D4_g, C4_g"
   ]
  },
  {
   "cell_type": "code",
   "execution_count": null,
   "id": "96d8c961",
   "metadata": {},
   "outputs": [],
   "source": [
    "lb_th = np.array([*np.linspace(0.1,1,10), *np.linspace(1,10,10), *np.linspace(10,100,10)])\n",
    "lb_th = np.array([*np.linspace(0.071,0.09,3), *np.linspace(0.1,1,9), *np.linspace(2,9,8), *np.linspace(10,100,10)])\n",
    "\n",
    "lb_th"
   ]
  },
  {
   "cell_type": "code",
   "execution_count": null,
   "id": "84237968",
   "metadata": {},
   "outputs": [],
   "source": [
    "D4_th = []\n",
    "C4_th = []\n",
    "for i in tqdm(lb_th):\n",
    "#     V_g = lambda z : z**2 / (2*i**2)\n",
    "    V_g = lambda z : (H+z) / i\n",
    "    D4_g, C4_g = C4_long(\n",
    "        Dpara=Dpara, Dperp=Dperp, V=V_g, kBT=kBT, a=-H+a, b=H-a\n",
    "    )\n",
    "    D4_th.append(D4_g)\n",
    "    C4_th.append(C4_g)\n"
   ]
  },
  {
   "cell_type": "code",
   "execution_count": null,
   "id": "f22296a5",
   "metadata": {},
   "outputs": [],
   "source": [
    "plt.plot(H/lb_th, D4_th, \"o\")\n",
    "plt.xlabel(\"$H/l_\\mathrm{B}$\")\n",
    "plt.ylabel(r\"$D4$\")\n",
    "plt.show()"
   ]
  },
  {
   "cell_type": "code",
   "execution_count": null,
   "id": "16708b81",
   "metadata": {},
   "outputs": [],
   "source": [
    "def D4_gravity_th(c):\n",
    "    D = D_para0 * H**6 / Hs**4 / D_perp0\n",
    "    toint = quad(lambda x: (np.cosh(x) - 1)/x, 0, 2*c)[0]\n",
    "    \n",
    "    d = ((5 + 4*c**2 - 5*np.cosh(2*c) + c*np.sinh(2*c) + 4*c/np.tanh(c)*toint)\n",
    "         /\n",
    "         (c**4 * np.sinh(c)**2)\n",
    "    )\n",
    "    return D*d\n"
   ]
  },
  {
   "cell_type": "code",
   "execution_count": null,
   "id": "12928638",
   "metadata": {},
   "outputs": [],
   "source": [
    "#D4_th"
   ]
  },
  {
   "cell_type": "code",
   "execution_count": null,
   "id": "20fa0071",
   "metadata": {},
   "outputs": [],
   "source": [
    "plt.loglog(H/lb_th, np.array(D4_th),\"o\",label= \"calcul th\")\n",
    "\n",
    "#plt.loglog(H/lb_th, [D4_gravity_th(c) for c in (H/lb_th)], label=\"approx cipost\")\n",
    "#plt.semilogx(H/lb_th, 2/ (H/lb_th)**3, label=\"decay\")\n",
    "plt.legend()"
   ]
  },
  {
   "cell_type": "code",
   "execution_count": null,
   "id": "ad2de1de",
   "metadata": {},
   "outputs": [],
   "source": [
    "plt.plot(H/lb_th, np.array(D4_th),\"o\",label= \"calcul th\")\n",
    "\n",
    "plt.loglog(np.linspace(1e-2,100,100), [D4_gravity_th(c) for c in np.linspace(1e-2,100,100)], label=\"approx cipost\")\n",
    "plt.semilogx(np.linspace(1,1000,100), 2/ (np.linspace(1,1000,100))**3, label=\"decay\")\n",
    "plt.legend()"
   ]
  },
  {
   "cell_type": "code",
   "execution_count": null,
   "id": "1cbe9a90",
   "metadata": {},
   "outputs": [],
   "source": [
    "plt.plot(H/lb_th, np.array(D4_th)/4.1,\"o\",label= \"calcul th\")\n",
    "\n",
    "plt.plot(np.linspace(1e-2,10,100), [D4_gravity_th(c) for c in np.linspace(1e-1,10,100)], label=\"approx cipost\")\n",
    "plt.loglog(H/lb_th, 2/ (H/lb_th)**3, label=\"decay $2/c^3$\")\n",
    "plt.legend()"
   ]
  },
  {
   "cell_type": "code",
   "execution_count": null,
   "id": "9823aac7",
   "metadata": {},
   "outputs": [],
   "source": [
    "plt.plot(H/lb_th, np.array(D4_th),\"o\",label= \"calcul th\")\n",
    "\n",
    "# plt.plot(np.linspace(1e-2,100,1000), [D4_gravity_th(c) for c in np.linspace(1e-1,100,1000)], label=\"approx cipost\")\n",
    "#plt.loglog(np.linspace(1e-2,100,100), 1/ np.linspace(1e-2,100,100)**3, label=\"decay $2/c^3$\")\n",
    "plt.ylim(None,1e-1)\n",
    "plt.legend()"
   ]
  },
  {
   "cell_type": "code",
   "execution_count": null,
   "id": "3992f8c7",
   "metadata": {},
   "outputs": [],
   "source": [
    "plt.plot([V_g(i) for i in np.linspace(-H,H)])"
   ]
  },
  {
   "cell_type": "code",
   "execution_count": null,
   "id": "19f45db3",
   "metadata": {},
   "outputs": [],
   "source": []
  },
  {
   "cell_type": "code",
   "execution_count": 19,
   "id": "a9a7f989",
   "metadata": {},
   "outputs": [],
   "source": []
  },
  {
   "cell_type": "code",
   "execution_count": 24,
   "id": "def95886",
   "metadata": {},
   "outputs": [],
   "source": [
    "lb = 4e-21 /( 1000*4/3*np.pi*a**3)\n",
    "_pdf = lambda z : np.exp(-(z+a+H)/lb)\n",
    "z_th = np.linspace(-8,0)*1e-6 \n",
    "\n",
    "pdf_th = np.array([_pdf(z) for z in z_th])\n",
    "pdf_th = pdf_th / np.trapz(pdf_th, z_th)"
   ]
  },
  {
   "cell_type": "code",
   "execution_count": 25,
   "id": "7859ac52",
   "metadata": {},
   "outputs": [
    {
     "data": {
      "text/plain": [
       "[<matplotlib.lines.Line2D at 0x7f4d86655ed0>]"
      ]
     },
     "execution_count": 25,
     "metadata": {},
     "output_type": "execute_result"
    },
    {
     "data": {
      "image/png": "[encoded data removed]",
      "text/plain": [
       "<Figure size 1200x800 with 1 Axes>"
      ]
     },
     "metadata": {
      "needs_background": "light"
     },
     "output_type": "display_data"
    }
   ],
   "source": [
    "x,y  = np.histogram(simu.z[simu.z<0], bins=50, density=True)\n",
    "y = (y[1:] + y[:-1])/2 \n",
    "plt.semilogy(y,x, \"o\")\n",
    "plt.plot(z_th, pdf_th)"
   ]
  },
  {
   "cell_type": "code",
   "execution_count": null,
   "id": "1c8748be",
   "metadata": {},
   "outputs": [],
   "source": []
  },
  {
   "cell_type": "code",
   "execution_count": null,
   "id": "0216e33c",
   "metadata": {},
   "outputs": [],
   "source": [
    "simu"
   ]
  },
  {
   "cell_type": "code",
   "execution_count": 15,
   "id": "2d2f0371",
   "metadata": {},
   "outputs": [
    {
     "data": {
      "text/plain": [
       "array([-23.40147002])"
      ]
     },
     "execution_count": 15,
     "metadata": {},
     "output_type": "execute_result"
    }
   ],
   "source": [
    "(1 / np.sqrt(dt)) * np.random.default_rng().normal(0.0, 1, size=1)"
   ]
  },
  {
   "cell_type": "code",
   "execution_count": null,
   "id": "4b5718cc",
   "metadata": {},
   "outputs": [],
   "source": [
    "5e-6 ** 2"
   ]
  },
  {
   "cell_type": "code",
   "execution_count": null,
   "id": "a494c26f",
   "metadata": {},
   "outputs": [],
   "source": []
  },
  {
   "cell_type": "code",
   "execution_count": null,
   "id": "8d9801ca",
   "metadata": {},
   "outputs": [],
   "source": [
    "np.sqrt(2* D_perp0 * 1e-5)"
   ]
  },
  {
   "cell_type": "code",
   "execution_count": 12,
   "id": "90513b32",
   "metadata": {},
   "outputs": [
    {
     "data": {
      "text/plain": [
       "0.00020601290774570114"
      ]
     },
     "execution_count": 12,
     "metadata": {},
     "output_type": "execute_result"
    }
   ],
   "source": [
    "np.sqrt(D_perp0 / 1e-5)"
   ]
  },
  {
   "cell_type": "code",
   "execution_count": 16,
   "id": "36727fb6",
   "metadata": {},
   "outputs": [
    {
     "data": {
      "text/plain": [
       "2.913462481578878e-09"
      ]
     },
     "execution_count": 16,
     "metadata": {},
     "output_type": "execute_result"
    }
   ],
   "source": [
    "np.sqrt(2*3D_perp0* 1e-5)"
   ]
  },
  {
   "cell_type": "code",
   "execution_count": 18,
   "id": "c420e7f8",
   "metadata": {},
   "outputs": [
    {
     "data": {
      "text/plain": [
       "2.0943951023931954e-16"
      ]
     },
     "execution_count": 18,
     "metadata": {},
     "output_type": "execute_result"
    }
   ],
   "source": [
    "50*4/3*np.pi*a**3"
   ]
  },
  {
   "cell_type": "code",
   "execution_count": 39,
   "id": "99750905",
   "metadata": {},
   "outputs": [
    {
     "data": {
      "text/plain": [
       "9.54929658551372e-07"
      ]
     },
     "execution_count": 39,
     "metadata": {},
     "output_type": "execute_result"
    }
   ],
   "source": [
    "4e-21 /( 1000*4/3*np.pi*a**3)"
   ]
  },
  {
   "cell_type": "code",
   "execution_count": null,
   "id": "73ed739e",
   "metadata": {},
   "outputs": [],
   "source": [
    "dt = 1e-5\n",
    "Nt = 100000"
   ]
  }
 ],
 "metadata": {
  "kernelspec": {
   "display_name": "Python 3 (ipykernel)",
   "language": "python",
   "name": "python3"
  },
  "language_info": {
   "codemirror_mode": {
    "name": "ipython",
    "version": 3
   },
   "file_extension": ".py",
   "mimetype": "text/x-python",
   "name": "python",
   "nbconvert_exporter": "python",
   "pygments_lexer": "ipython3",
   "version": "3.10.0"
  }
 },
 "nbformat": 4,
 "nbformat_minor": 5
}
