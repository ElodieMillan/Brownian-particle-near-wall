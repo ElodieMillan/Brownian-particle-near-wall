{
 "cells": [
  {
   "cell_type": "markdown",
   "id": "302d266b-58dd-4c5a-b3b4-304f07ab59e3",
   "metadata": {},
   "source": [
    "# Calcul des asymptôte du C4"
   ]
  },
  {
   "cell_type": "code",
   "execution_count": 161,
   "id": "8bbb03cd-e74e-4ccf-ac59-54201b57a926",
   "metadata": {},
   "outputs": [],
   "source": [
    "import numpy as np\n",
    "import matplotlib.pyplot as plt\n",
    "\n",
    "from scipy.io import loadmat\n",
    "\n",
    "\n",
    "from C4_theo_asymptotique__trapz import C4_court, C4_long"
   ]
  },
  {
   "cell_type": "code",
   "execution_count": null,
   "id": "1025171d-a573-49b1-809b-42bf2a74a8ed",
   "metadata": {},
   "outputs": [],
   "source": [
    "#P_eq = lambda z: np.exp(-B*np.exp(-H/lD)*(np.exp(-z/lD) + np.exp(z/lD)) - z/lB)\n",
    "\n",
    "def P_eq(z):\n",
    "    P = lambda z: np.exp(-B*np.exp(-H/lD)*(np.exp(-z/lD) + np.exp(z/lD)) - z/lB)\n",
    "    \n",
    "    peq = P(z)\n",
    "    \n",
    "    peq[z>10e-6] = 1e-30\n",
    "    \n",
    "    return peq\n",
    "\n",
    "\n",
    "def gamma_z_eff(zi_1, a, eta, H):\n",
    "    \"\"\"\n",
    "    Formule de Padé\n",
    "    \"\"\"\n",
    "    # Mur Top\n",
    "    gam_z = (\n",
    "        6\n",
    "        * np.pi\n",
    "        * a\n",
    "        * eta\n",
    "        * (\n",
    "            (\n",
    "                (6 * (H-zi_1)**2 + 9*a*(H-zi_1) + 2*a**2)\n",
    "                / (6 * (H-zi_1)**2 + 2*a*(H-zi_1))\n",
    "            )\n",
    "        )\n",
    "    )\n",
    "    # Mur Bottom\n",
    "    gam_z_2 = (\n",
    "        6\n",
    "        * np.pi\n",
    "        * a\n",
    "        * eta\n",
    "        * (\n",
    "            (\n",
    "                (6 * (H+zi_1)**2 + 9*a*(H+zi_1) + 2*a**2)\n",
    "                / (6 * (H+zi_1)**2 + 2*a*(H+zi_1))\n",
    "            )\n",
    "        )\n",
    "    )\n",
    "\n",
    "    gam_z_0 = 6 * np.pi * a * eta\n",
    "\n",
    "    return (gam_z + gam_z_2 - gam_z_0)\n",
    "\n",
    "def gamma_xy_eff(zi_1, a, eta, H):\n",
    "    \"\"\"\n",
    "    Formule de Libshaber\n",
    "    \"\"\"\n",
    "    # Mur Top\n",
    "    xi_T = a / ((H-zi_1) + a)\n",
    "    gam_xy_T = (\n",
    "        6\n",
    "        * np.pi\n",
    "        * a\n",
    "        * eta\n",
    "        * (\n",
    "            1\n",
    "            - 9 / 16 * xi_T\n",
    "            + 1 / 8 * xi_T**3\n",
    "            - 45 / 256 * xi_T ** 4\n",
    "            - 1 / 16 * xi_T ** 5\n",
    "        )\n",
    "        ** (-1)\n",
    "    )\n",
    "    \n",
    "    #Mur Bottom\n",
    "    xi_B = a / ((H+zi_1) + a)\n",
    "    gam_xy_B = (\n",
    "        6\n",
    "        * np.pi\n",
    "        * a\n",
    "        * eta\n",
    "        * (\n",
    "            1\n",
    "            - 9 / 16 * xi_B\n",
    "            + 1 / 8 * xi_B**3\n",
    "            - 45 / 256 * xi_B ** 4\n",
    "            - 1 / 16 * xi_B ** 5\n",
    "        )\n",
    "        ** (-1)\n",
    "    )\n",
    "\n",
    "    gam_xy_0 = 6 * np.pi * a * eta\n",
    "\n",
    "    return (gam_xy_T + gam_xy_B - gam_xy_0)\n",
    "\n",
    "D_perp = lambda z: kBT/gamma_z_eff(z, a, eta, H)\n",
    "D_para = lambda z: kBT/gamma_xy_eff(z, a, eta, H)"
   ]
  },
  {
   "cell_type": "code",
   "execution_count": null,
   "id": "b3a57060-d607-421e-afe4-7313b8f6c9e3",
   "metadata": {},
   "outputs": [],
   "source": [
    "# Param fixé comme expériences\n",
    "a = 1.519e-6 #1.12e-6/2\n",
    "H = 25e-6\n",
    "lD = 88.0e-9 #Répultion mur\n",
    "kBT=1.38e-23*300\n",
    "lB = 526e-9 #gravité\n",
    "B = 5.0\n",
    "eta=0.001"
   ]
  },
  {
   "cell_type": "code",
   "execution_count": null,
   "id": "eebccfae-ccd1-4e08-b28e-27774396fceb",
   "metadata": {},
   "outputs": [],
   "source": [
    "A4_theo = C4_court(Dpara=D_para, Peq=P_eq, kBT=kBT, hmin=-H+H*1e-5, hmax=+H-H*1e-5, dx=1e-8)\n",
    "A4_theo"
   ]
  },
  {
   "cell_type": "code",
   "execution_count": null,
   "id": "08f7226c-e55e-49e2-b36c-e3486560193e",
   "metadata": {},
   "outputs": [],
   "source": [
    "D4_theo = C4_long(Dpara=D_para, Dperp=D_perp, Peq=P_eq, H=H, dx=1e-8, )\n",
    "D4_theo"
   ]
  },
  {
   "cell_type": "markdown",
   "id": "bd95666d-9a39-4296-bca7-c58370a5d4fd",
   "metadata": {},
   "source": [
    "# Étude en fonction de H"
   ]
  },
  {
   "cell_type": "code",
   "execution_count": 156,
   "id": "862eacfd-740e-4544-b995-beb56fbb3f0c",
   "metadata": {},
   "outputs": [],
   "source": [
    "HH = np.arange(15,20)*1e-6"
   ]
  },
  {
   "cell_type": "code",
   "execution_count": 157,
   "id": "97a14ee9-20ee-43e1-9467-107f9ea46050",
   "metadata": {},
   "outputs": [],
   "source": [
    "from tqdm import tqdm"
   ]
  },
  {
   "cell_type": "code",
   "execution_count": 158,
   "id": "b6f4d47c-7faa-4a01-9aba-fa226ca640c1",
   "metadata": {},
   "outputs": [
    {
     "name": "stderr",
     "output_type": "stream",
     "text": [
      "1it [01:12, 72.25s/it]\n"
     ]
    },
    {
     "ename": "KeyboardInterrupt",
     "evalue": "",
     "output_type": "error",
     "traceback": [
      "\u001b[0;31m---------------------------------------------------------------------------\u001b[0m",
      "\u001b[0;31mKeyboardInterrupt\u001b[0m                         Traceback (most recent call last)",
      "\u001b[0;32m/tmp/ipykernel_281777/3965624979.py\u001b[0m in \u001b[0;36m<module>\u001b[0;34m\u001b[0m\n\u001b[1;32m      1\u001b[0m \u001b[0mlist_D4_H\u001b[0m \u001b[0;34m=\u001b[0m \u001b[0mnp\u001b[0m\u001b[0;34m.\u001b[0m\u001b[0mzeros\u001b[0m\u001b[0;34m(\u001b[0m\u001b[0mlen\u001b[0m\u001b[0;34m(\u001b[0m\u001b[0mHH\u001b[0m\u001b[0;34m)\u001b[0m\u001b[0;34m)\u001b[0m\u001b[0;34m\u001b[0m\u001b[0;34m\u001b[0m\u001b[0m\n\u001b[1;32m      2\u001b[0m \u001b[0;32mfor\u001b[0m \u001b[0mn\u001b[0m\u001b[0;34m,\u001b[0m \u001b[0mh\u001b[0m \u001b[0;32min\u001b[0m \u001b[0mtqdm\u001b[0m\u001b[0;34m(\u001b[0m\u001b[0menumerate\u001b[0m\u001b[0;34m(\u001b[0m\u001b[0mHH\u001b[0m\u001b[0;34m)\u001b[0m\u001b[0;34m)\u001b[0m\u001b[0;34m:\u001b[0m\u001b[0;34m\u001b[0m\u001b[0;34m\u001b[0m\u001b[0m\n\u001b[0;32m----> 3\u001b[0;31m     \u001b[0mlist_D4_H\u001b[0m\u001b[0;34m[\u001b[0m\u001b[0mn\u001b[0m\u001b[0;34m]\u001b[0m \u001b[0;34m=\u001b[0m \u001b[0mC4_long\u001b[0m\u001b[0;34m(\u001b[0m\u001b[0mDpara\u001b[0m\u001b[0;34m=\u001b[0m\u001b[0mD_para\u001b[0m\u001b[0;34m,\u001b[0m \u001b[0mDperp\u001b[0m\u001b[0;34m=\u001b[0m\u001b[0mD_perp\u001b[0m\u001b[0;34m,\u001b[0m \u001b[0mPeq\u001b[0m\u001b[0;34m=\u001b[0m\u001b[0mP_eq\u001b[0m\u001b[0;34m,\u001b[0m \u001b[0mH\u001b[0m\u001b[0;34m=\u001b[0m\u001b[0mh\u001b[0m\u001b[0;34m,\u001b[0m \u001b[0mdx\u001b[0m\u001b[0;34m=\u001b[0m\u001b[0;36m1e-9\u001b[0m\u001b[0;34m,\u001b[0m \u001b[0;34m)\u001b[0m\u001b[0;34m\u001b[0m\u001b[0;34m\u001b[0m\u001b[0m\n\u001b[0m",
      "\u001b[0;32m~/Documents/Stage2020-Nageurs-actifs-proche-de-parois-deformable/Cumulant4-cas-manips/C4_theo_asymptotique__trapz.py\u001b[0m in \u001b[0;36mC4_long\u001b[0;34m(Dpara, Dperp, Peq, H, dx)\u001b[0m\n\u001b[1;32m     73\u001b[0m         \u001b[0;32mreturn\u001b[0m \u001b[0mnp\u001b[0m\u001b[0;34m.\u001b[0m\u001b[0mtrapz\u001b[0m\u001b[0;34m(\u001b[0m\u001b[0mPeq\u001b[0m\u001b[0;34m(\u001b[0m\u001b[0mzp\u001b[0m\u001b[0;34m)\u001b[0m\u001b[0;34m*\u001b[0m \u001b[0;34m(\u001b[0m\u001b[0mDpara\u001b[0m\u001b[0;34m(\u001b[0m\u001b[0mzp\u001b[0m\u001b[0;34m)\u001b[0m\u001b[0;34m-\u001b[0m\u001b[0mDpara_mean\u001b[0m\u001b[0;34m)\u001b[0m\u001b[0;34m,\u001b[0m \u001b[0mzp\u001b[0m\u001b[0;34m)\u001b[0m\u001b[0;34m\u001b[0m\u001b[0;34m\u001b[0m\u001b[0m\n\u001b[1;32m     74\u001b[0m \u001b[0;34m\u001b[0m\u001b[0m\n\u001b[0;32m---> 75\u001b[0;31m     \u001b[0mJJ\u001b[0m \u001b[0;34m=\u001b[0m \u001b[0;34m[\u001b[0m\u001b[0mJ\u001b[0m\u001b[0;34m(\u001b[0m\u001b[0mi\u001b[0m\u001b[0;34m)\u001b[0m\u001b[0;34m**\u001b[0m\u001b[0;36m2\u001b[0m \u001b[0;32mfor\u001b[0m \u001b[0mi\u001b[0m \u001b[0;32min\u001b[0m \u001b[0mz\u001b[0m\u001b[0;34m]\u001b[0m\u001b[0;34m\u001b[0m\u001b[0;34m\u001b[0m\u001b[0m\n\u001b[0m\u001b[1;32m     76\u001b[0m     \u001b[0mD4\u001b[0m \u001b[0;34m=\u001b[0m \u001b[0mnp\u001b[0m\u001b[0;34m.\u001b[0m\u001b[0mtrapz\u001b[0m\u001b[0;34m(\u001b[0m\u001b[0mJJ\u001b[0m \u001b[0;34m/\u001b[0m \u001b[0mPeq\u001b[0m\u001b[0;34m(\u001b[0m\u001b[0mz\u001b[0m\u001b[0;34m)\u001b[0m \u001b[0;34m/\u001b[0m \u001b[0mDperp\u001b[0m\u001b[0;34m(\u001b[0m\u001b[0mz\u001b[0m\u001b[0;34m)\u001b[0m \u001b[0;34m/\u001b[0m \u001b[0mN\u001b[0m\u001b[0;34m,\u001b[0m \u001b[0mz\u001b[0m\u001b[0;34m)\u001b[0m\u001b[0;34m\u001b[0m\u001b[0;34m\u001b[0m\u001b[0m\n\u001b[1;32m     77\u001b[0m \u001b[0;34m\u001b[0m\u001b[0m\n",
      "\u001b[0;32m~/Documents/Stage2020-Nageurs-actifs-proche-de-parois-deformable/Cumulant4-cas-manips/C4_theo_asymptotique__trapz.py\u001b[0m in \u001b[0;36m<listcomp>\u001b[0;34m(.0)\u001b[0m\n\u001b[1;32m     73\u001b[0m         \u001b[0;32mreturn\u001b[0m \u001b[0mnp\u001b[0m\u001b[0;34m.\u001b[0m\u001b[0mtrapz\u001b[0m\u001b[0;34m(\u001b[0m\u001b[0mPeq\u001b[0m\u001b[0;34m(\u001b[0m\u001b[0mzp\u001b[0m\u001b[0;34m)\u001b[0m\u001b[0;34m*\u001b[0m \u001b[0;34m(\u001b[0m\u001b[0mDpara\u001b[0m\u001b[0;34m(\u001b[0m\u001b[0mzp\u001b[0m\u001b[0;34m)\u001b[0m\u001b[0;34m-\u001b[0m\u001b[0mDpara_mean\u001b[0m\u001b[0;34m)\u001b[0m\u001b[0;34m,\u001b[0m \u001b[0mzp\u001b[0m\u001b[0;34m)\u001b[0m\u001b[0;34m\u001b[0m\u001b[0;34m\u001b[0m\u001b[0m\n\u001b[1;32m     74\u001b[0m \u001b[0;34m\u001b[0m\u001b[0m\n\u001b[0;32m---> 75\u001b[0;31m     \u001b[0mJJ\u001b[0m \u001b[0;34m=\u001b[0m \u001b[0;34m[\u001b[0m\u001b[0mJ\u001b[0m\u001b[0;34m(\u001b[0m\u001b[0mi\u001b[0m\u001b[0;34m)\u001b[0m\u001b[0;34m**\u001b[0m\u001b[0;36m2\u001b[0m \u001b[0;32mfor\u001b[0m \u001b[0mi\u001b[0m \u001b[0;32min\u001b[0m \u001b[0mz\u001b[0m\u001b[0;34m]\u001b[0m\u001b[0;34m\u001b[0m\u001b[0;34m\u001b[0m\u001b[0m\n\u001b[0m\u001b[1;32m     76\u001b[0m     \u001b[0mD4\u001b[0m \u001b[0;34m=\u001b[0m \u001b[0mnp\u001b[0m\u001b[0;34m.\u001b[0m\u001b[0mtrapz\u001b[0m\u001b[0;34m(\u001b[0m\u001b[0mJJ\u001b[0m \u001b[0;34m/\u001b[0m \u001b[0mPeq\u001b[0m\u001b[0;34m(\u001b[0m\u001b[0mz\u001b[0m\u001b[0;34m)\u001b[0m \u001b[0;34m/\u001b[0m \u001b[0mDperp\u001b[0m\u001b[0;34m(\u001b[0m\u001b[0mz\u001b[0m\u001b[0;34m)\u001b[0m \u001b[0;34m/\u001b[0m \u001b[0mN\u001b[0m\u001b[0;34m,\u001b[0m \u001b[0mz\u001b[0m\u001b[0;34m)\u001b[0m\u001b[0;34m\u001b[0m\u001b[0;34m\u001b[0m\u001b[0m\n\u001b[1;32m     77\u001b[0m \u001b[0;34m\u001b[0m\u001b[0m\n",
      "\u001b[0;32m~/Documents/Stage2020-Nageurs-actifs-proche-de-parois-deformable/Cumulant4-cas-manips/C4_theo_asymptotique__trapz.py\u001b[0m in \u001b[0;36mJ\u001b[0;34m(z)\u001b[0m\n\u001b[1;32m     71\u001b[0m             \u001b[0;32mreturn\u001b[0m \u001b[0;36m0\u001b[0m\u001b[0;34m\u001b[0m\u001b[0;34m\u001b[0m\u001b[0m\n\u001b[1;32m     72\u001b[0m         \u001b[0mzp\u001b[0m \u001b[0;34m=\u001b[0m \u001b[0mnp\u001b[0m\u001b[0;34m.\u001b[0m\u001b[0mlinspace\u001b[0m\u001b[0;34m(\u001b[0m\u001b[0mhmin\u001b[0m\u001b[0;34m,\u001b[0m \u001b[0mz\u001b[0m\u001b[0;34m,\u001b[0m \u001b[0mint\u001b[0m\u001b[0;34m(\u001b[0m\u001b[0;34m(\u001b[0m\u001b[0mz\u001b[0m \u001b[0;34m-\u001b[0m \u001b[0mhmin\u001b[0m\u001b[0;34m)\u001b[0m\u001b[0;34m/\u001b[0m \u001b[0mdx\u001b[0m\u001b[0;34m)\u001b[0m\u001b[0;34m)\u001b[0m\u001b[0;34m\u001b[0m\u001b[0;34m\u001b[0m\u001b[0m\n\u001b[0;32m---> 73\u001b[0;31m         \u001b[0;32mreturn\u001b[0m \u001b[0mnp\u001b[0m\u001b[0;34m.\u001b[0m\u001b[0mtrapz\u001b[0m\u001b[0;34m(\u001b[0m\u001b[0mPeq\u001b[0m\u001b[0;34m(\u001b[0m\u001b[0mzp\u001b[0m\u001b[0;34m)\u001b[0m\u001b[0;34m*\u001b[0m \u001b[0;34m(\u001b[0m\u001b[0mDpara\u001b[0m\u001b[0;34m(\u001b[0m\u001b[0mzp\u001b[0m\u001b[0;34m)\u001b[0m\u001b[0;34m-\u001b[0m\u001b[0mDpara_mean\u001b[0m\u001b[0;34m)\u001b[0m\u001b[0;34m,\u001b[0m \u001b[0mzp\u001b[0m\u001b[0;34m)\u001b[0m\u001b[0;34m\u001b[0m\u001b[0;34m\u001b[0m\u001b[0m\n\u001b[0m\u001b[1;32m     74\u001b[0m \u001b[0;34m\u001b[0m\u001b[0m\n\u001b[1;32m     75\u001b[0m     \u001b[0mJJ\u001b[0m \u001b[0;34m=\u001b[0m \u001b[0;34m[\u001b[0m\u001b[0mJ\u001b[0m\u001b[0;34m(\u001b[0m\u001b[0mi\u001b[0m\u001b[0;34m)\u001b[0m\u001b[0;34m**\u001b[0m\u001b[0;36m2\u001b[0m \u001b[0;32mfor\u001b[0m \u001b[0mi\u001b[0m \u001b[0;32min\u001b[0m \u001b[0mz\u001b[0m\u001b[0;34m]\u001b[0m\u001b[0;34m\u001b[0m\u001b[0;34m\u001b[0m\u001b[0m\n",
      "\u001b[0;32m/tmp/ipykernel_281777/2333839025.py\u001b[0m in \u001b[0;36m<lambda>\u001b[0;34m(z)\u001b[0m\n\u001b[1;32m     89\u001b[0m \u001b[0;34m\u001b[0m\u001b[0m\n\u001b[1;32m     90\u001b[0m \u001b[0mD_perp\u001b[0m \u001b[0;34m=\u001b[0m \u001b[0;32mlambda\u001b[0m \u001b[0mz\u001b[0m\u001b[0;34m:\u001b[0m \u001b[0mkBT\u001b[0m\u001b[0;34m/\u001b[0m\u001b[0mgamma_z_eff\u001b[0m\u001b[0;34m(\u001b[0m\u001b[0mz\u001b[0m\u001b[0;34m,\u001b[0m \u001b[0ma\u001b[0m\u001b[0;34m,\u001b[0m \u001b[0meta\u001b[0m\u001b[0;34m,\u001b[0m \u001b[0mH\u001b[0m\u001b[0;34m)\u001b[0m\u001b[0;34m\u001b[0m\u001b[0;34m\u001b[0m\u001b[0m\n\u001b[0;32m---> 91\u001b[0;31m \u001b[0mD_para\u001b[0m \u001b[0;34m=\u001b[0m \u001b[0;32mlambda\u001b[0m \u001b[0mz\u001b[0m\u001b[0;34m:\u001b[0m \u001b[0mkBT\u001b[0m\u001b[0;34m/\u001b[0m\u001b[0mgamma_xy_eff\u001b[0m\u001b[0;34m(\u001b[0m\u001b[0mz\u001b[0m\u001b[0;34m,\u001b[0m \u001b[0ma\u001b[0m\u001b[0;34m,\u001b[0m \u001b[0meta\u001b[0m\u001b[0;34m,\u001b[0m \u001b[0mH\u001b[0m\u001b[0;34m)\u001b[0m\u001b[0;34m\u001b[0m\u001b[0;34m\u001b[0m\u001b[0m\n\u001b[0m",
      "\u001b[0;31mKeyboardInterrupt\u001b[0m: "
     ]
    }
   ],
   "source": [
    "list_D4_H = np.zeros(len(HH))\n",
    "for n, h in tqdm(enumerate(HH)):\n",
    "    list_D4_H[n] = C4_long(Dpara=D_para, Dperp=D_perp, Peq=P_eq, H=h, dx=1e-8, )"
   ]
  },
  {
   "cell_type": "code",
   "execution_count": null,
   "id": "ae7832ee-43ef-4d9e-be35-983b269ea1c2",
   "metadata": {},
   "outputs": [],
   "source": [
    "import matplotlib as mpl\n",
    "from matplotlib import rc\n",
    "\n",
    "# Set some general properties of the plots\n",
    "rc('xtick', direction='in', labelsize=10)\n",
    "rc('ytick', direction='in', labelsize=10)\n",
    "rc('font', family='serif', size=10)\n",
    "rc('text', usetex=True)\n",
    "rc('figure', dpi=200)\n",
    "rc('savefig', dpi=200)\n",
    "\n",
    "mpl.rcParams[\"xtick.direction\"] = \"in\"\n",
    "mpl.rcParams[\"ytick.direction\"] = \"in\"\n",
    "mpl.rcParams[\"lines.markeredgecolor\"] = \"k\"\n",
    "mpl.rcParams[\"lines.markeredgewidth\"] = 1\n",
    "mpl.rcParams[\"figure.dpi\"] = 200\n",
    "from matplotlib import rc\n",
    "\n",
    "rc(\"axes\", labelsize=\"large\")"
   ]
  },
  {
   "cell_type": "code",
   "execution_count": null,
   "id": "f6e677b3-431b-4cff-9a02-596c4aaa1d6d",
   "metadata": {},
   "outputs": [],
   "source": [
    "# plt.figure(figsize = (8, 5))\n",
    "plt.semilogy(HH*1e6, list_D4_H, \"o\", markersize=8, markeredgewidth=1, markeredgecolor='k',)\n",
    "plt.xlabel(r\"$H$ $(\\mu \\mathrm{m})$\")\n",
    "plt.ylabel(r\"$D_4$ $(\\mathrm{m}^4.\\mathrm{s}^{-1})$\")\n",
    "plt.title(r\"Integration step $dx=10^{-8}~\\mathrm{s}$\")\n",
    "# plt.tight_layout(pad=0.3)"
   ]
  },
  {
   "cell_type": "markdown",
   "id": "3b680043-2bf1-471b-8fbf-9b77f29e0106",
   "metadata": {},
   "source": [
    "faire fit de $D_4  = f(H)$ pour trouver une valeur à $40 \\mu m$"
   ]
  },
  {
   "cell_type": "code",
   "execution_count": null,
   "id": "f067cc4a-fa48-4e39-9849-b021ae798747",
   "metadata": {},
   "outputs": [],
   "source": [
    "from scipy.optimize import curve_fit"
   ]
  },
  {
   "cell_type": "code",
   "execution_count": 184,
   "id": "c46ead44-ff82-4de6-b7fe-246a7e5629de",
   "metadata": {},
   "outputs": [],
   "source": [
    "def fonction(x, a, b):\n",
    "    return a*(1-np.exp(-x/b))"
   ]
  },
  {
   "cell_type": "code",
   "execution_count": null,
   "id": "ded6742a-da29-41c9-9b62-15b740308654",
   "metadata": {},
   "outputs": [],
   "source": [
    "popt, pcov = curve_fit(fonction, HH[1:-5], list_D4_H[1:-5],)"
   ]
  },
  {
   "cell_type": "code",
   "execution_count": 144,
   "id": "75930f0a-9a58-4a1f-af9d-432048bde9a5",
   "metadata": {},
   "outputs": [
    {
     "data": {
      "text/plain": [
       "(4.30620105429397e-25, 1.0000895414800735)"
      ]
     },
     "execution_count": 144,
     "metadata": {},
     "output_type": "execute_result"
    }
   ],
   "source": [
    "a, b = popt\n",
    "a, b"
   ]
  },
  {
   "cell_type": "code",
   "execution_count": null,
   "id": "92160255-8007-4b49-9b0b-d4511411f95c",
   "metadata": {},
   "outputs": [],
   "source": []
  },
  {
   "cell_type": "code",
   "execution_count": 145,
   "id": "bc077831-df87-4b72-b82b-281c6afaf00c",
   "metadata": {},
   "outputs": [
    {
     "data": {
      "text/plain": [
       "Text(0.5, 1.0, 'Integration step $dx=10^{-8}~\\\\mathrm{s}$')"
      ]
     },
     "execution_count": 145,
     "metadata": {},
     "output_type": "execute_result"
    },
    {
     "data": {
      "image/png": "[encoded data removed]",
      "text/plain": [
       "<Figure size 1200x800 with 1 Axes>"
      ]
     },
     "metadata": {
      "needs_background": "light"
     },
     "output_type": "display_data"
    }
   ],
   "source": [
    "# plt.figure(figsize = (8, 5))\n",
    "plt.semilogy(HH*1e6, list_D4_H, \"o\", markersize=8, markeredgewidth=1, markeredgecolor='k',)\n",
    "plt.plot(HH*1e6, fonction(HH, a, b), \"-\")\n",
    "\n",
    "plt.xlabel(r\"$H$ $(\\mu \\mathrm{m})$\")\n",
    "plt.ylabel(r\"$D_4$ $(\\mathrm{m}^4.\\mathrm{s}^{-1})$\")\n",
    "plt.title(r\"Integration step $dx=10^{-8}~\\mathrm{s}$\")\n"
   ]
  },
  {
   "cell_type": "code",
   "execution_count": null,
   "id": "1f4ac4bf-e0d0-4655-80cd-963699d7c1c0",
   "metadata": {},
   "outputs": [],
   "source": []
  },
  {
   "cell_type": "code",
   "execution_count": 165,
   "id": "d8ef01a4-603d-40fe-9dd0-f84fd5f877f3",
   "metadata": {},
   "outputs": [],
   "source": [
    "# Load the data\n",
    "yacine = loadmat(\"C4Stat_col1Hum_col2C400_col3D4_col4C4_col5Tc_forB4p8_Ld60nm_Lb550nm.mat\", squeeze_me=True)"
   ]
  },
  {
   "cell_type": "code",
   "execution_count": 166,
   "id": "c47a3363-d028-4854-9d90-c09725e18486",
   "metadata": {},
   "outputs": [
    {
     "data": {
      "text/plain": [
       "{'__header__': b'MATLAB 5.0 MAT-file, Platform: PCWIN64, Created on: Wed Mar 30 16:49:44 2022',\n",
       " '__version__': '1.0',\n",
       " '__globals__': [],\n",
       " 'StatsC4': array([[2.00000000e-06, 5.43627919e-29, 7.62291899e-28, 7.38575740e-27,\n",
       "         1.40223096e+01],\n",
       "        [2.50000000e-06, 6.57614769e-29, 9.95074009e-28, 1.02069715e-26,\n",
       "         1.51315642e+01],\n",
       "        [3.00000000e-06, 7.39014695e-29, 1.15050337e-27, 1.19457402e-26,\n",
       "         1.55680716e+01],\n",
       "        [4.00000000e-06, 8.42849093e-29, 1.32800876e-27, 1.36376894e-26,\n",
       "         1.57561866e+01],\n",
       "        [5.00000000e-06, 9.04919700e-29, 1.42286125e-27, 1.43911722e-26,\n",
       "         1.57236189e+01],\n",
       "        [6.00000000e-06, 9.45922099e-29, 1.48151814e-27, 1.48105298e-26,\n",
       "         1.56621580e+01],\n",
       "        [7.00000000e-06, 9.74966378e-29, 1.52133461e-27, 1.50769400e-26,\n",
       "         1.56039700e+01],\n",
       "        [8.00000000e-06, 9.96596932e-29, 1.55010433e-27, 1.52605526e-26,\n",
       "         1.55539746e+01],\n",
       "        [9.00000000e-06, 1.01332178e-28, 1.57184813e-27, 1.53943920e-26,\n",
       "         1.55118360e+01],\n",
       "        [1.00000000e-05, 1.02663525e-28, 1.58885037e-27, 1.54960645e-26,\n",
       "         1.54762889e+01],\n",
       "        [1.21700000e-05, 1.04786923e-28, 1.61541413e-27, 1.56495998e-26,\n",
       "         1.54161806e+01],\n",
       "        [1.50000000e-05, 1.06619157e-28, 1.63779543e-27, 1.57738216e-26,\n",
       "         1.53611741e+01],\n",
       "        [2.00000000e-05, 1.08573599e-28, 1.66112399e-27, 1.58981410e-26,\n",
       "         1.52995204e+01],\n",
       "        [2.50000000e-05, 1.09738224e-28, 1.67475903e-27, 1.59682865e-26,\n",
       "         1.52614009e+01],\n",
       "        [3.00000000e-05, 1.10511159e-28, 1.68369893e-27, 1.60132413e-26,\n",
       "         1.52355557e+01],\n",
       "        [3.50000000e-05, 1.11061509e-28, 1.69002459e-27, 1.60444961e-26,\n",
       "         1.52170145e+01]])}"
      ]
     },
     "execution_count": 166,
     "metadata": {},
     "output_type": "execute_result"
    }
   ],
   "source": [
    "yacine"
   ]
  },
  {
   "cell_type": "code",
   "execution_count": 170,
   "id": "ddc6f5b9-da36-4cb9-84da-cf7809d4c9ab",
   "metadata": {},
   "outputs": [],
   "source": [
    "data_ya = yacine[\"StatsC4\"]\n",
    "Hs_ya = data_ya[:,0]\n",
    "D4_ya = data_ya[:,2]\n",
    "C4_ya = data_ya[:,3]"
   ]
  },
  {
   "cell_type": "code",
   "execution_count": 202,
   "id": "ee02fbe3-0d0f-4d66-90c8-8ef8b2515c99",
   "metadata": {},
   "outputs": [],
   "source": [
    "popt, pcov = curve_fit(fonction, Hs_ya[4:], D4_ya[4:], bounds=(0, [1.7e-27, 0.26e-5]))\n",
    "popt, pcov\n",
    "\n",
    "a,b=popt"
   ]
  },
  {
   "cell_type": "code",
   "execution_count": 206,
   "id": "bfa90292-4d36-423e-a21f-103740a4f01b",
   "metadata": {},
   "outputs": [
    {
     "data": {
      "text/plain": [
       "[<matplotlib.lines.Line2D at 0x7fad15c9ae30>]"
      ]
     },
     "execution_count": 206,
     "metadata": {},
     "output_type": "execute_result"
    },
    {
     "data": {
      "image/png": "[encoded data removed]",
      "text/plain": [
       "<Figure size 1200x800 with 1 Axes>"
      ]
     },
     "metadata": {
      "needs_background": "light"
     },
     "output_type": "display_data"
    }
   ],
   "source": [
    "Hs = np.linspace(2e-6, 40e-6, 100)\n",
    "\n",
    "plt.plot(Hs_ya[4:], D4_ya[4:], \"o\")\n",
    "plt.plot(Hs, fonction(Hs, a, b))\n"
   ]
  },
  {
   "cell_type": "code",
   "execution_count": null,
   "id": "6a368690-b77a-492b-a9a5-1738b46d11ed",
   "metadata": {},
   "outputs": [],
   "source": []
  },
  {
   "cell_type": "code",
   "execution_count": null,
   "id": "9afa0b57-b9f1-424d-bd6e-0cdb3a937d90",
   "metadata": {},
   "outputs": [],
   "source": []
  }
 ],
 "metadata": {
  "kernelspec": {
   "display_name": "Python 3 (ipykernel)",
   "language": "python",
   "name": "python3"
  },
  "language_info": {
   "codemirror_mode": {
    "name": "ipython",
    "version": 3
   },
   "file_extension": ".py",
   "mimetype": "text/x-python",
   "name": "python",
   "nbconvert_exporter": "python",
   "pygments_lexer": "ipython3",
   "version": "3.10.0"
  }
 },
 "nbformat": 4,
 "nbformat_minor": 5
}
