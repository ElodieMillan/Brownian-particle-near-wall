{
 "cells": [
  {
   "cell_type": "code",
   "execution_count": null,
   "id": "c8ff94ff-219e-41b8-a995-4723f527bc8d",
   "metadata": {},
   "outputs": [],
   "source": [
    "import numpy as np\n",
    "import matplotlib.pyplot as plt\n",
    "\n",
    "from scipy.optimize import curve_fit\n",
    "import matplotlib as mpl\n",
    "\n",
    "from DoubleRigidWallOverdampedBrownExp_Python import RigidWallOverdampedLangevin3D as py_simu\n",
    "\n",
    "import sys\n",
    "sys.path.append(r\"/home/e.millan/Documents/Stage2020-Nageurs-actifs-proche-de-parois-deformable/Cumulant4-cas-manips\")\n",
    "from DoubleRigidWallOverdampedBrownExp_Cython import RigidWallOverdampedLangevin3D as cy_simu\n",
    "\n",
    "import time\n",
    "\n",
    "from matplotlib import rc\n",
    "import seaborn as sns\n",
    "custom_params = {\n",
    "    \"xtick.direction\": \"in\",\n",
    "    \"ytick.direction\": \"in\",\n",
    "    \"lines.markeredgecolor\": \"k\",\n",
    "    \"lines.markeredgewidth\": 0.3,\n",
    "    \"figure.dpi\": 200,\n",
    "    \"text.usetex\": True,\n",
    "    \"font.family\": \"serif\",\n",
    "    # 'axes.titlesize':10,\n",
    "    # 'axes.labelsize':8,\n",
    "}\n",
    "# sns.set_context(\"notebook\", rc={\"lines.linewidth\": 3})\n",
    "\n",
    "\n",
    "sns.set_theme(context = \"paper\", style=\"ticks\", rc=custom_params)"
   ]
  },
  {
   "cell_type": "code",
   "execution_count": null,
   "id": "5a67ab80-fde7-48a5-9dc5-89d0d57b72ea",
   "metadata": {},
   "outputs": [],
   "source": []
  },
  {
   "cell_type": "code",
   "execution_count": null,
   "id": "81a69e78-ed1e-4fda-ab44-bde26bb4eb42",
   "metadata": {},
   "outputs": [],
   "source": [
    "# Param fixé comme expériences\n",
    "a = 1.519e-6 #1.12e-6/2\n",
    "H = 40e-6\n",
    "lD = 88.0e-9 #Répultion mur\n",
    "kBT=1.38e-23*300\n",
    "lB = 526e-9 #gravité\n",
    "B = 5.0\n",
    "eta=0.001\n",
    "\n",
    "zz = np.linspace(-H+H*1e-3, H-H*1e-3, 1000)\n",
    "\n",
    "dt = 1e-2\n",
    "Nt = 10000\n",
    "Nt_sub = 1\n",
    "\n",
    "Ns = [1, 5, 10, 50, 100, 500, 1000, 5000, 10000, 50000, 100000, 500000, 1000000, 5000000, 10000000]"
   ]
  },
  {
   "cell_type": "code",
   "execution_count": null,
   "id": "656b9202-9ae4-4521-b0ac-12495e341264",
   "metadata": {},
   "outputs": [],
   "source": [
    "t_py = np.zeros(len(Ns))\n",
    "t_cy = np.zeros(len(Ns))\n",
    "\n",
    "for n, i in enumerate(Ns):\n",
    "    t0 = time.time()\n",
    "    python = py_simu(dt=dt, Nt=i, a=a, H=H, lD=lD, lB=lB, B=B, Nt_sub=Nt_sub)\n",
    "    python.trajectory()\n",
    "    t_py[n] = time.time() - t0\n",
    "    \n",
    "    t0 = time.time()\n",
    "    cython = cy_simu(dt=dt, Nt=i, a=a, H=H, lD=lD, lB=lB, B=B, Nt_sub=Nt_sub)\n",
    "    cython.trajectory()\n",
    "    t_cy[n] = time.time() - t0\n",
    "    \n"
   ]
  },
  {
   "cell_type": "code",
   "execution_count": null,
   "id": "5a6d53ca-6667-45be-b126-826024d9e5da",
   "metadata": {},
   "outputs": [],
   "source": [
    "def linear(x, a, b):\n",
    "    return a*x+b"
   ]
  },
  {
   "cell_type": "code",
   "execution_count": null,
   "id": "5e13de3b-9de9-43a1-ab83-f28a79bd8f3e",
   "metadata": {},
   "outputs": [],
   "source": [
    "popt_py, pcov_py = curve_fit(linear, Ns, t_py)\n",
    "\n",
    "popt_cy, pcov_cy = curve_fit(linear, Ns, t_cy)"
   ]
  },
  {
   "cell_type": "code",
   "execution_count": null,
   "id": "98768147-52a8-4148-9ebc-74861f41c0ce",
   "metadata": {},
   "outputs": [],
   "source": []
  },
  {
   "cell_type": "code",
   "execution_count": null,
   "id": "0f29be35-d414-4b5b-bd7a-a3829d6eb965",
   "metadata": {
    "tags": []
   },
   "outputs": [],
   "source": [
    "fig = plt.figure(figsize = (4, 4/1.68),  tight_layout=True)\n",
    "\n",
    "ax1 = plt.subplot(111)\n",
    "\n",
    "ax1.loglog(Ns, t_py, \"o\", label=\"Python\")\n",
    "ax1.plot(Ns, t_cy, \"^\", label=\"Cython\")\n",
    "ax1.plot(np.linspace(1e1, 5e7, 100), [linear(n, popt_py[0],0) for n in np.linspace(1e1, 5e7, 100)], \"k-\")\n",
    "ax1.plot(np.linspace(1e3, 5e7, 100), [linear(n, popt_cy[0],0) for n in np.linspace(1e3, 5e7, 100)], \"k-\")\n",
    "ax1.set(\n",
    "    xlabel = r\"$N_t$\",\n",
    "    ylabel = r\"$t$ (s)\",\n",
    ")\n",
    "ax1.set_xlim(4, 3e7)\n",
    "ax1.set_ylim(1e-3, None)\n",
    "ax11=ax1.twinx()\n",
    "ax11.plot(Ns, t_py/t_cy, \"d\", color=\"green\",)\n",
    "ax11.set_ylabel(\"$t_\\mathrm{Py}/t_\\mathrm{Cy}$\",color=\"green\")\n",
    "ax11.tick_params(axis='y', labelcolor=\"green\")\n",
    "\n",
    "\n",
    "fig.tight_layout()\n",
    "# plt.savefig(\"../Figures/speed_test_Cython.pdf\")"
   ]
  },
  {
   "cell_type": "code",
   "execution_count": null,
   "id": "c83868fd-0b6c-4de5-9ce8-fbb8f0b4039c",
   "metadata": {},
   "outputs": [],
   "source": [
    "start = 10\n",
    "finish = 1e6\n",
    "# np.unique(np.logspace(np.log(start)/ np.log(10), np.log(finish)/np.log(10), num = 1000).astype(int))"
   ]
  },
  {
   "cell_type": "code",
   "execution_count": null,
   "id": "625784d8-6977-41a7-b62b-97c7ae58aa9a",
   "metadata": {},
   "outputs": [],
   "source": []
  }
 ],
 "metadata": {
  "kernelspec": {
   "display_name": "Python 3 (ipykernel)",
   "language": "python",
   "name": "python3"
  },
  "language_info": {
   "codemirror_mode": {
    "name": "ipython",
    "version": 3
   },
   "file_extension": ".py",
   "mimetype": "text/x-python",
   "name": "python",
   "nbconvert_exporter": "python",
   "pygments_lexer": "ipython3",
   "version": "3.10.0"
  }
 },
 "nbformat": 4,
 "nbformat_minor": 5
}
