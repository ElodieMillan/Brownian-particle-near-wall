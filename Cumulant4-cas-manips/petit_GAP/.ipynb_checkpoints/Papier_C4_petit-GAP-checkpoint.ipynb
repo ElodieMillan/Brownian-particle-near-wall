{
 "cells": [
  {
   "cell_type": "code",
   "execution_count": 1,
   "id": "6b69402f-6a4a-4757-b910-a8476eedbc7f",
   "metadata": {},
   "outputs": [],
   "source": [
    "import numpy as np\n",
    "import matplotlib.pyplot as plt\n",
    "import pandas as pd\n",
    "import sys\n",
    "sys.path.append(\"../\")\n",
    "\n",
    "from C4_theo_asymptotique__trapz import C4_court, C4_long\n",
    "from DoubleRigidWallOverdampedBrownExp_Cython import RigidWallOverdampedLangevin3D\n",
    "from Physic_function_problem import *\n",
    "import cythonised_simu_part\n",
    "\n",
    "from scipy.integrate import quad\n",
    "from scipy.io import loadmat\n",
    "from scipy.optimize import curve_fit\n",
    "import matplotlib as mpl\n",
    "import matplotlib.pyplot as plt\n",
    "import numpy as np\n",
    "from mpl_toolkits.mplot3d import Axes3D\n",
    "from numpy import trapz\n",
    "import matplotlib.gridspec as gridspec\n",
    "from matplotlib.collections import LineCollection\n",
    "from mpltools import annotation\n",
    "from scipy.optimize import curve_fit\n",
    "\n",
    "import csv\n",
    "\n",
    "\n",
    "def cm2inch(value):\n",
    "    return value / 2.54\n",
    "\n",
    "from tqdm import tqdm\n",
    "\n",
    "\n",
    "from matplotlib import rc\n",
    "import seaborn as sns\n",
    "custom_params = {\n",
    "    \"xtick.direction\": \"in\",\n",
    "    \"ytick.direction\": \"in\",\n",
    "    \"lines.markeredgecolor\": \"k\",\n",
    "    \"lines.markeredgewidth\": 0.3,\n",
    "    \"figure.dpi\": 200,\n",
    "    \"text.usetex\": True,\n",
    "    \"font.family\": \"serif\",\n",
    "    \"font.size\":8,\n",
    "    'axes.titlesize':10,\n",
    "    'axes.labelsize':10,\n",
    "}\n",
    "# sns.set_context(\"notebook\", rc={\"lines.linewidth\": 3})\n",
    "\n",
    "\n",
    "sns.set_theme(context = \"paper\", style=\"ticks\", rc=custom_params)"
   ]
  },
  {
   "cell_type": "code",
   "execution_count": 2,
   "id": "326343ac-4398-49a8-949b-a5fb90f9ab54",
   "metadata": {},
   "outputs": [],
   "source": [
    "# mpl.rcParams.keys()"
   ]
  },
  {
   "cell_type": "code",
   "execution_count": 3,
   "id": "265286e5-5fb8-4071-b9f2-432fa29b20fd",
   "metadata": {},
   "outputs": [],
   "source": [
    "# Param fixé comme expériences\n",
    "a = 1.519e-6 #1.12e-6/2\n",
    "H = 4e-6\n",
    "lD = 88.0e-9 #Répultion mur\n",
    "kBT=1.38e-23*300\n",
    "lB = 526e-9 #gravité\n",
    "B = 5.0\n",
    "eta=0.001\n",
    "\n",
    "zz = np.linspace(-H+H*1e-3, H-H*1e-3, 1000)\n",
    "\n",
    "dt = 1e-2\n",
    "Nt = 10000000\n",
    "Nt_sub = 1\n",
    "tt = np.linspace(dt, dt*Nt, Nt)"
   ]
  },
  {
   "cell_type": "code",
   "execution_count": 4,
   "id": "e024b5fe-bf00-4e80-b7e1-9c3de014f4d9",
   "metadata": {},
   "outputs": [],
   "source": [
    "mean_Dx = np.trapz(P_eq(zz, B, lD, lB, H)/np.trapz(P_eq(zz, B, lD, lB, H), zz)*D_para(zz, a, eta, H), zz)\n",
    "mean_Dz = np.trapz(P_eq(zz, B, lD, lB, H)/np.trapz(P_eq(zz, B, lD, lB, H), zz)*D_perp(zz, a, eta, H), zz)"
   ]
  },
  {
   "cell_type": "code",
   "execution_count": 5,
   "id": "f4e6b5d3-d9cb-4b68-a1af-b095dd2e4493",
   "metadata": {},
   "outputs": [],
   "source": [
    "import glob"
   ]
  },
  {
   "cell_type": "markdown",
   "id": "9eb6bca4-aa4b-4e57-b869-8ca4cbaa9056",
   "metadata": {},
   "source": [
    "# results$[Nj, dt, dX]$"
   ]
  },
  {
   "cell_type": "markdown",
   "id": "7e8e43a4-12a3-44cc-ac55-884aab0fb570",
   "metadata": {},
   "source": [
    "data_calcul_pdf/ = datas petit gap sans Mersenne Twister (moyenné sur 2000 simus)\n",
    "\n",
    "data_calcul_pdf_4um/ = data petit gap (4 micron) AVEC Mersenne Twister (déjà moyénné sur 50 000 simus)"
   ]
  },
  {
   "cell_type": "code",
   "execution_count": 6,
   "id": "0a74de85-0dbc-4b25-a0c8-cd3817b9112f",
   "metadata": {},
   "outputs": [],
   "source": [
    "bins = 100\n",
    "\n",
    "files = glob.glob(\"data_calcul_pdf_4um/*\")\n",
    "\n",
    "results = np.zeros([(len(files)), (len(np.load(files[0]))), bins])\n",
    "for n, file in enumerate(files):\n",
    "    result = np.load(file)\n",
    "    \n",
    "    for m, line in  enumerate(result):\n",
    "        results[n, m, :] = list(line)\n",
    "        "
   ]
  },
  {
   "cell_type": "markdown",
   "id": "c0babe7d-0e42-4285-8547-cd511ddadac1",
   "metadata": {},
   "source": [
    "# $\\Delta X$"
   ]
  },
  {
   "cell_type": "code",
   "execution_count": 7,
   "id": "0416e5aa-e0f4-493d-901d-462064f1f241",
   "metadata": {},
   "outputs": [],
   "source": [
    "dt_C4 = [*np.arange(1, 10), *np.arange(10, 100, 10), *np.arange(100, 1000, 100), *np.arange(1000, 10000, 1000), 10000]\n",
    "Sigma = 7\n",
    "D_0 = 4e-21 / (6*np.pi*0.001*a)\n",
    "dt_s_C4 = np.array(dt_C4) * dt\n",
    "\n",
    "limits = np.sqrt(2*D_0*dt_s_C4) * Sigma\n",
    "\n",
    "dX_hist = []\n",
    "for n in range(len(dt_C4)):\n",
    "    limit = limits[n]\n",
    "    _, X = np.histogram([], bins = bins, range = [-limit, + limit]) \n",
    "    dX_hist.append((X[1:]+X[:-1])/2)\n",
    "    \n",
    "dX_hist = np.array(dX_hist)"
   ]
  },
  {
   "cell_type": "markdown",
   "id": "d862b216-9f74-4d17-aa9d-b128b7061fc4",
   "metadata": {},
   "source": [
    "# Calcul du $C_4$"
   ]
  },
  {
   "cell_type": "code",
   "execution_count": 8,
   "id": "7c3b8c36-0985-4d5c-af08-b9c2884cb1d6",
   "metadata": {},
   "outputs": [],
   "source": [
    "C_4 = np.zeros(len(dt_s_C4))\n",
    "\n",
    "for n in range(len(dt_s_C4)):\n",
    "    dX = dX_hist[n,:]\n",
    "    data = results[:,n, :]\n",
    "    PDF = np.mean(data, axis=0)\n",
    "    PDF = PDF / np.trapz(PDF, dX)\n",
    "    X4 = np.trapz(dX**4 * PDF, dX)\n",
    "    X2 = np.trapz(dX**2 * PDF, dX)\n",
    "    C_4[n] = X4 - 3*X2**2"
   ]
  },
  {
   "cell_type": "code",
   "execution_count": 9,
   "id": "fbf0fec1-40f7-41ec-a2fe-4173d140938b",
   "metadata": {},
   "outputs": [
    {
     "ename": "TypeError",
     "evalue": "'int' object is not iterable",
     "output_type": "error",
     "traceback": [
      "\u001b[0;31m---------------------------------------------------------------------------\u001b[0m",
      "\u001b[0;31mTypeError\u001b[0m                                 Traceback (most recent call last)",
      "\u001b[0;32m/tmp/ipykernel_2026145/4256019194.py\u001b[0m in \u001b[0;36m<module>\u001b[0;34m\u001b[0m\n\u001b[1;32m      3\u001b[0m \u001b[0mA4_theo_x\u001b[0m \u001b[0;34m=\u001b[0m \u001b[0mC4_court\u001b[0m\u001b[0;34m(\u001b[0m\u001b[0mD\u001b[0m\u001b[0;34m=\u001b[0m\u001b[0mD_para\u001b[0m\u001b[0;34m,\u001b[0m \u001b[0mPeq\u001b[0m\u001b[0;34m=\u001b[0m\u001b[0mP_eq\u001b[0m\u001b[0;34m,\u001b[0m \u001b[0mkBT\u001b[0m\u001b[0;34m=\u001b[0m\u001b[0mkBT\u001b[0m\u001b[0;34m,\u001b[0m \u001b[0mB\u001b[0m\u001b[0;34m=\u001b[0m\u001b[0mB\u001b[0m\u001b[0;34m,\u001b[0m \u001b[0mlD\u001b[0m\u001b[0;34m=\u001b[0m\u001b[0mlD\u001b[0m\u001b[0;34m,\u001b[0m \u001b[0mlB\u001b[0m\u001b[0;34m=\u001b[0m\u001b[0mlB\u001b[0m\u001b[0;34m,\u001b[0m \u001b[0mH\u001b[0m\u001b[0;34m=\u001b[0m\u001b[0mH\u001b[0m\u001b[0;34m,\u001b[0m \u001b[0ma\u001b[0m\u001b[0;34m=\u001b[0m\u001b[0ma\u001b[0m\u001b[0;34m,\u001b[0m \u001b[0meta\u001b[0m\u001b[0;34m=\u001b[0m\u001b[0meta\u001b[0m\u001b[0;34m,\u001b[0m \u001b[0mdx\u001b[0m\u001b[0;34m=\u001b[0m\u001b[0;36m1e-10\u001b[0m\u001b[0;34m)\u001b[0m\u001b[0;34m\u001b[0m\u001b[0;34m\u001b[0m\u001b[0m\n\u001b[1;32m      4\u001b[0m \u001b[0;34m\u001b[0m\u001b[0m\n\u001b[0;32m----> 5\u001b[0;31m \u001b[0mD4_long_theo\u001b[0m\u001b[0;34m,\u001b[0m \u001b[0mC4_long_theo\u001b[0m \u001b[0;34m=\u001b[0m \u001b[0mC4_long\u001b[0m\u001b[0;34m(\u001b[0m\u001b[0mV\u001b[0m\u001b[0;34m=\u001b[0m\u001b[0mV\u001b[0m\u001b[0;34m,\u001b[0m \u001b[0mDpara\u001b[0m\u001b[0;34m=\u001b[0m\u001b[0mD_para\u001b[0m\u001b[0;34m,\u001b[0m \u001b[0mDperp\u001b[0m\u001b[0;34m=\u001b[0m\u001b[0mD_perp\u001b[0m\u001b[0;34m,\u001b[0m \u001b[0mPeq\u001b[0m\u001b[0;34m=\u001b[0m\u001b[0mP_eq\u001b[0m\u001b[0;34m,\u001b[0m \u001b[0mkBT\u001b[0m\u001b[0;34m=\u001b[0m\u001b[0mkBT\u001b[0m\u001b[0;34m,\u001b[0m \u001b[0mB\u001b[0m\u001b[0;34m=\u001b[0m\u001b[0mB\u001b[0m\u001b[0;34m,\u001b[0m \u001b[0mlD\u001b[0m\u001b[0;34m=\u001b[0m\u001b[0mlD\u001b[0m\u001b[0;34m,\u001b[0m \u001b[0mlB\u001b[0m\u001b[0;34m=\u001b[0m\u001b[0mlB\u001b[0m\u001b[0;34m,\u001b[0m \u001b[0mH\u001b[0m\u001b[0;34m=\u001b[0m\u001b[0mH\u001b[0m\u001b[0;34m,\u001b[0m \u001b[0ma\u001b[0m\u001b[0;34m=\u001b[0m\u001b[0ma\u001b[0m\u001b[0;34m,\u001b[0m \u001b[0meta\u001b[0m\u001b[0;34m=\u001b[0m\u001b[0meta\u001b[0m\u001b[0;34m,\u001b[0m \u001b[0mdx\u001b[0m\u001b[0;34m=\u001b[0m\u001b[0;36m1e-8\u001b[0m\u001b[0;34m)\u001b[0m\u001b[0;34m\u001b[0m\u001b[0;34m\u001b[0m\u001b[0m\n\u001b[0m\u001b[1;32m      6\u001b[0m \u001b[0;34m\u001b[0m\u001b[0m\n\u001b[1;32m      7\u001b[0m \u001b[0mD4_long_theo\u001b[0m\u001b[0;34m,\u001b[0m \u001b[0mC4_long_theo\u001b[0m\u001b[0;34m\u001b[0m\u001b[0;34m\u001b[0m\u001b[0m\n",
      "\u001b[0;32m~/Documents/Stage2020-Nageurs-actifs-proche-de-parois-deformable/Cumulant4-cas-manips/petit_GAP/../C4_theo_asymptotique__trapz.py\u001b[0m in \u001b[0;36mC4_long\u001b[0;34m(V, Dpara, Dperp, Peq, kBT, B, lD, lB, H, a, eta, dx)\u001b[0m\n\u001b[1;32m     88\u001b[0m     \u001b[0mRR\u001b[0m \u001b[0;34m=\u001b[0m \u001b[0;34m[\u001b[0m\u001b[0mR\u001b[0m\u001b[0;34m(\u001b[0m\u001b[0mi\u001b[0m\u001b[0;34m)\u001b[0m \u001b[0;32mfor\u001b[0m \u001b[0mi\u001b[0m \u001b[0;32min\u001b[0m \u001b[0mz\u001b[0m\u001b[0;34m]\u001b[0m\u001b[0;34m\u001b[0m\u001b[0;34m\u001b[0m\u001b[0m\n\u001b[1;32m     89\u001b[0m     \u001b[0;32mfor\u001b[0m \u001b[0mi\u001b[0m \u001b[0;32min\u001b[0m \u001b[0mrange\u001b[0m\u001b[0;34m(\u001b[0m\u001b[0mlen\u001b[0m\u001b[0;34m(\u001b[0m\u001b[0mz\u001b[0m\u001b[0;34m)\u001b[0m\u001b[0;34m)\u001b[0m\u001b[0;34m:\u001b[0m\u001b[0;34m\u001b[0m\u001b[0;34m\u001b[0m\u001b[0m\n\u001b[0;32m---> 90\u001b[0;31m         \u001b[0mR_mean\u001b[0m \u001b[0;34m=\u001b[0m \u001b[0mnp\u001b[0m\u001b[0;34m.\u001b[0m\u001b[0mtrapz\u001b[0m\u001b[0;34m(\u001b[0m\u001b[0my\u001b[0m\u001b[0;34m=\u001b[0m \u001b[0mRR\u001b[0m\u001b[0;34m[\u001b[0m\u001b[0mi\u001b[0m\u001b[0;34m]\u001b[0m \u001b[0;34m*\u001b[0m \u001b[0mPeq\u001b[0m\u001b[0;34m(\u001b[0m\u001b[0mi\u001b[0m\u001b[0;34m,\u001b[0m \u001b[0mB\u001b[0m\u001b[0;34m,\u001b[0m \u001b[0mlD\u001b[0m\u001b[0;34m,\u001b[0m \u001b[0mlB\u001b[0m\u001b[0;34m,\u001b[0m \u001b[0mH\u001b[0m\u001b[0;34m)\u001b[0m\u001b[0;34m,\u001b[0m \u001b[0mdx\u001b[0m\u001b[0;34m=\u001b[0m\u001b[0mdx\u001b[0m\u001b[0;34m)\u001b[0m\u001b[0;34m\u001b[0m\u001b[0;34m\u001b[0m\u001b[0m\n\u001b[0m\u001b[1;32m     91\u001b[0m         \u001b[0mR_mean2\u001b[0m \u001b[0;34m=\u001b[0m \u001b[0mnp\u001b[0m\u001b[0;34m.\u001b[0m\u001b[0mtrapz\u001b[0m \u001b[0;34m(\u001b[0m\u001b[0my\u001b[0m\u001b[0;34m=\u001b[0m \u001b[0mRR\u001b[0m\u001b[0;34m[\u001b[0m\u001b[0mi\u001b[0m\u001b[0;34m]\u001b[0m\u001b[0;34m**\u001b[0m\u001b[0;36m2\u001b[0m \u001b[0;34m*\u001b[0m \u001b[0mPeq\u001b[0m\u001b[0;34m(\u001b[0m\u001b[0mi\u001b[0m\u001b[0;34m,\u001b[0m \u001b[0mB\u001b[0m\u001b[0;34m,\u001b[0m \u001b[0mlD\u001b[0m\u001b[0;34m,\u001b[0m \u001b[0mlB\u001b[0m\u001b[0;34m,\u001b[0m \u001b[0mH\u001b[0m\u001b[0;34m)\u001b[0m\u001b[0;34m,\u001b[0m \u001b[0mdx\u001b[0m\u001b[0;34m=\u001b[0m\u001b[0mdx\u001b[0m\u001b[0;34m)\u001b[0m\u001b[0;34m\u001b[0m\u001b[0;34m\u001b[0m\u001b[0m\n\u001b[1;32m     92\u001b[0m     \u001b[0mC4\u001b[0m \u001b[0;34m=\u001b[0m \u001b[0mR_mean2\u001b[0m \u001b[0;34m-\u001b[0m \u001b[0mR_mean\u001b[0m\u001b[0;34m**\u001b[0m\u001b[0;36m2\u001b[0m\u001b[0;34m\u001b[0m\u001b[0;34m\u001b[0m\u001b[0m\n",
      "\u001b[0;32m~/Documents/Stage2020-Nageurs-actifs-proche-de-parois-deformable/Cumulant4-cas-manips/petit_GAP/../Physic_function_problem.py\u001b[0m in \u001b[0;36mP_eq\u001b[0;34m(z, B, lD, lB, H)\u001b[0m\n\u001b[1;32m    123\u001b[0m \u001b[0;34m\u001b[0m\u001b[0m\n\u001b[1;32m    124\u001b[0m \u001b[0;32mdef\u001b[0m \u001b[0mP_eq\u001b[0m\u001b[0;34m(\u001b[0m\u001b[0mz\u001b[0m\u001b[0;34m,\u001b[0m \u001b[0mB\u001b[0m\u001b[0;34m,\u001b[0m \u001b[0mlD\u001b[0m\u001b[0;34m,\u001b[0m \u001b[0mlB\u001b[0m\u001b[0;34m,\u001b[0m \u001b[0mH\u001b[0m\u001b[0;34m)\u001b[0m\u001b[0;34m:\u001b[0m\u001b[0;34m\u001b[0m\u001b[0;34m\u001b[0m\u001b[0m\n\u001b[0;32m--> 125\u001b[0;31m     \u001b[0;32mreturn\u001b[0m \u001b[0mnp\u001b[0m\u001b[0;34m.\u001b[0m\u001b[0marray\u001b[0m\u001b[0;34m(\u001b[0m\u001b[0;34m[\u001b[0m\u001b[0m_P_eq\u001b[0m\u001b[0;34m(\u001b[0m\u001b[0mi\u001b[0m\u001b[0;34m,\u001b[0m \u001b[0mB\u001b[0m\u001b[0;34m,\u001b[0m \u001b[0mlD\u001b[0m\u001b[0;34m,\u001b[0m \u001b[0mlB\u001b[0m\u001b[0;34m,\u001b[0m \u001b[0mH\u001b[0m\u001b[0;34m)\u001b[0m \u001b[0;32mfor\u001b[0m \u001b[0mi\u001b[0m \u001b[0;32min\u001b[0m \u001b[0mz\u001b[0m\u001b[0;34m]\u001b[0m\u001b[0;34m)\u001b[0m\u001b[0;34m\u001b[0m\u001b[0;34m\u001b[0m\u001b[0m\n\u001b[0m\u001b[1;32m    126\u001b[0m \u001b[0;34m\u001b[0m\u001b[0m\n\u001b[1;32m    127\u001b[0m \u001b[0;32mdef\u001b[0m \u001b[0m_P_eq\u001b[0m\u001b[0;34m(\u001b[0m\u001b[0mz\u001b[0m\u001b[0;34m,\u001b[0m \u001b[0mB\u001b[0m\u001b[0;34m,\u001b[0m \u001b[0mlD\u001b[0m\u001b[0;34m,\u001b[0m \u001b[0mlB\u001b[0m\u001b[0;34m,\u001b[0m \u001b[0mH\u001b[0m\u001b[0;34m)\u001b[0m\u001b[0;34m:\u001b[0m\u001b[0;34m\u001b[0m\u001b[0;34m\u001b[0m\u001b[0m\n",
      "\u001b[0;31mTypeError\u001b[0m: 'int' object is not iterable"
     ]
    }
   ],
   "source": [
    "dtCOURT = np.linspace(1e-2, 1e2, 1000)\n",
    "dtLONG = np.linspace(1e0, 3e2, 1000)\n",
    "A4_theo_x = C4_court(D=D_para, Peq=P_eq, kBT=kBT, B=B, lD=lD, lB=lB, H=H, a=a, eta=eta, dx=1e-10)\n",
    "\n",
    "D4_long_theo, C4_long_theo = C4_long(V=V, Dpara=D_para, Dperp=D_perp, Peq=P_eq, kBT=kBT, B=B, lD=lD, lB=lB, H=H, a=a, eta=eta, dx=1e-8)\n",
    "\n",
    "D4_long_theo, C4_long_theo"
   ]
  },
  {
   "cell_type": "code",
   "execution_count": null,
   "id": "56481f79-4962-4e2e-bfed-25f53912b32c",
   "metadata": {},
   "outputs": [],
   "source": [
    "plt.loglog(dt_s_C4, C_4, \".\", )\n",
    "plt.plot(dtCOURT, A4_theo_x*dtCOURT**2)\n",
    "plt.plot(dtLONG, D4_long_theo*dtLONG)\n",
    "\n",
    "plt.xlabel(r\"$\\tau$ $(\\mathrm{s})$\")\n",
    "plt.ylabel(r\"$\\langle X^4_t \\rangle_c$\")\n",
    "plt.title(r\"Gap: $H = $ \"+str(H*1e6)+r\" $\\mu \\mathrm{m}$\" )"
   ]
  },
  {
   "cell_type": "markdown",
   "id": "b39c0581-8362-4d93-92fe-897b5d3c4188",
   "metadata": {},
   "source": [
    "# PDF$(\\Delta X)$"
   ]
  },
  {
   "cell_type": "code",
   "execution_count": null,
   "id": "41fbde43-a2bd-4137-b479-ca39421a01dd",
   "metadata": {},
   "outputs": [],
   "source": [
    "Ntau1 = 1\n",
    "dx_1 = dX_hist[Ntau1,:]\n",
    "data_1 = results[:,Ntau1, :]\n",
    "Mean1 = np.mean(data_1, axis=0)\n",
    "Z1 = np.trapz(Mean1, dx_1)\n",
    "\n",
    "Ntau2 = 10\n",
    "dx_2 = dX_hist[Ntau2,:]\n",
    "data_2 = results[:,Ntau2, :]\n",
    "Mean2 = np.mean(data_2, axis=0)\n",
    "Z2 = np.trapz(Mean2, dx_2)\n",
    "\n",
    "Ntau3 = 36\n",
    "dx_3 = dX_hist[Ntau3,:]\n",
    "data_3 = results[:,Ntau3, :]\n",
    "Mean3 = np.mean(data_3, axis=0)\n",
    "Z3 = np.trapz(Mean3, dx_3)"
   ]
  },
  {
   "cell_type": "code",
   "execution_count": null,
   "id": "a81b4dbc-a50d-4b5b-ad9b-89b8afce9bc8",
   "metadata": {},
   "outputs": [],
   "source": [
    "mean_Dx = np.trapz(P_eq(zz, B, lD, lB, H)/np.trapz(P_eq(zz, B, lD, lB, H), zz)*D_para(zz, a, eta, H), zz)\n",
    "mean_Dz = np.trapz(P_eq(zz, B, lD, lB, H)/np.trapz(P_eq(zz, B, lD, lB, H), zz)*D_perp(zz, a, eta, H), zz)\n",
    "\n",
    "dxCOURT = np.linspace(-0.5, 0.5, 1000)\n",
    "dxMID =  np.linspace(-1.5, 1.5, 1000)\n",
    "dxLONG =  np.linspace(-30, 30, 1000)"
   ]
  },
  {
   "cell_type": "code",
   "execution_count": null,
   "id": "64011147-4657-4898-b874-f1c4de593a4d",
   "metadata": {},
   "outputs": [],
   "source": [
    "gauss1 = gauss(x=dxCOURT*1e-6, mu=0, std=np.sqrt(2*mean_Dx*dt_s_C4[Ntau1]))\n",
    "gauss2 = gauss(x=dxMID*1e-6, mu=0, std=np.sqrt(2*mean_Dx*dt_s_C4[Ntau2]))\n",
    "gauss3 = gauss(x=dxLONG*1e-6, mu=0, std=np.sqrt(2*mean_Dx*dt_s_C4[Ntau3]))"
   ]
  },
  {
   "cell_type": "code",
   "execution_count": null,
   "id": "8b432f10-4ad6-4716-9c28-ea9ebfacc673",
   "metadata": {},
   "outputs": [],
   "source": []
  },
  {
   "cell_type": "markdown",
   "id": "160ed5db-e0d4-47cd-9127-a40e2b9098c6",
   "metadata": {},
   "source": [
    "# plots"
   ]
  },
  {
   "cell_type": "code",
   "execution_count": null,
   "id": "6cd4d92e-2abc-4921-86f1-ac2752dccf68",
   "metadata": {},
   "outputs": [],
   "source": [
    "fig = plt.figure(figsize = (3.3, 9/1.68),  tight_layout=True)\n",
    "\n",
    "ax1 = plt.subplot(311)\n",
    "Min = np.min(data_1, axis=0)\n",
    "Max = np.max(data_1, axis=0)\n",
    "ax1.semilogy(dxCOURT, gauss1/np.trapz(gauss1, dxCOURT*1e-6)  , \"-\", color=\"k\", linewidth=1.5,)\n",
    "ax1.semilogy(dx_1*1e6, Mean1/ Z1,\".\", color=\"tab:blue\")\n",
    "ax1.fill_between(dx_1*1e6, Min / Z1, Max / Z1, color='blue', alpha=0.1)\n",
    "\n",
    "ax1.text(0.2, 1e6, r\"$\\tau_1 = $ \"+ str(dt_s_C4[Ntau1]) + \" s\", fontsize=8)\n",
    "ax1.set_xlim(-0.5, 0.5)\n",
    "ax1.set_ylim(1e-5, 1e8)\n",
    "ax1.set(\n",
    "    # xlabel = r\"$\\Delta x$ ($\\mu$m)\",\n",
    "    ylabel = r\"$P(\\Delta X)$ ($\\mu$m$^{-1}$)\",\n",
    ")\n",
    "# ax1.text(-0.28, 10, r\"(a)\", transform=ax1.transData)\n",
    "\n",
    "locmaj = mpl.ticker.LogLocator(base=10.0, subs=(1.0, ), numticks=100)\n",
    "ax1.yaxis.set_major_locator(locmaj)\n",
    "locmin = mpl.ticker.LogLocator(base=10.0, subs=np.arange(2, 10) * .1,\n",
    "                                      numticks=100)\n",
    "ax1.yaxis.set_minor_locator(locmin)\n",
    "ax1.yaxis.set_minor_formatter(mpl.ticker.NullFormatter())\n",
    "\n",
    "\n",
    "\n",
    "\n",
    "\n",
    "ax2 = plt.subplot(312)\n",
    "Min = np.min(data_2, axis=0)\n",
    "Max = np.max(data_2, axis=0)\n",
    "ax2.semilogy(dxMID, gauss2/np.trapz(gauss2, dxMID*1e-6) , \"-\", color=\"k\", linewidth=1.5,)\n",
    "ax2.semilogy(dx_2*1e6, Mean2/ Z2,\".\", color=\"tab:blue\")\n",
    "ax2.fill_between(dx_2*1e6, Min / Z2, Max / Z2, color='blue', alpha=0.1)\n",
    "\n",
    "\n",
    "ax2.set_xlim(-1.5, 1.5)\n",
    "ax2.set_ylim(1e-4, None)\n",
    "ax2.text(0.6, 1e5, r\"$\\tau_2 = $ \"+ str(dt_s_C4[Ntau2]) + \" s\", fontsize=8)\n",
    "ax2.set(\n",
    "    # xlabel = r\"$\\Delta x$ ($\\mu$m)\",\n",
    "    ylabel = r\"$P(\\Delta X)$ ($\\mu$m$^{-1}$)\",\n",
    ")\n",
    "# ax2.text(-12, 1e-1, r\"(b)\", transform=ax2.transData) `  \n",
    "\n",
    "locmaj = mpl.ticker.LogLocator(base=10.0, subs=(1.0, ), numticks=100)\n",
    "ax2.yaxis.set_major_locator(locmaj)\n",
    "locmin = mpl.ticker.LogLocator(base=10.0, subs=np.arange(2, 10) * .1,\n",
    "                                      numticks=100)\n",
    "ax2.yaxis.set_minor_locator(locmin)\n",
    "ax2.yaxis.set_minor_formatter(mpl.ticker.NullFormatter())\n",
    "\n",
    "\n",
    "\n",
    "ax3 = plt.subplot(313)\n",
    "Min = np.min(data_3, axis=0)\n",
    "Max = np.max(data_3, axis=0)\n",
    "ax3.semilogy(dxLONG, gauss3/np.trapz(gauss3, dxLONG*1e-6) , \"-\", color=\"k\", linewidth=1.5,)\n",
    "ax3.semilogy(dx_3*1e6, Mean3/ Z3, \".\", color=\"tab:blue\")\n",
    "ax3.fill_between(dx_3*1e6, Min / Z3, Max / Z3, color='blue', alpha=0.1)\n",
    "\n",
    "ax3.set_xlim(-30, 30)\n",
    "ax3.set_ylim(1e-4, None)\n",
    "ax3.text(13, 1e4, r\"$\\tau_3 = $ \"+ str(dt_s_C4[Ntau3]) + \" s\", fontsize=8)\n",
    "ax3.set(\n",
    "    xlabel = r\"$\\Delta X$ ($\\mu$m)\",\n",
    "    ylabel = r\"$P(\\Delta X)$ ($\\mu$m$^{-1}$)\",\n",
    ")\n",
    "# ax3.text(-42, 4e-2, r\"(c)\", transform=ax3.transData)  \n",
    "\n",
    "locmaj = mpl.ticker.LogLocator(base=10.0, subs=(1.0, ), numticks=100)\n",
    "ax3.yaxis.set_major_locator(locmaj)\n",
    "locmin = mpl.ticker.LogLocator(base=10.0, subs=np.arange(2, 10) * .1,\n",
    "                                      numticks=100)\n",
    "ax3.yaxis.set_minor_locator(locmin)\n",
    "ax3.yaxis.set_minor_formatter(mpl.ticker.NullFormatter())\n",
    "\n",
    "\n",
    "fig.tight_layout()\n",
    "\n",
    "# plt.savefig(\"../Figures/AVEC-Mersenne-TRewister_Petit-Gap.pdf\")"
   ]
  },
  {
   "cell_type": "markdown",
   "id": "ad1098fc-3873-4d4d-bb64-374316030119",
   "metadata": {},
   "source": [
    "# Teste sur des petits gap avec Mersenne Twister"
   ]
  },
  {
   "cell_type": "code",
   "execution_count": null,
   "id": "78bc125b-669d-490f-9391-7565a96c8bfa",
   "metadata": {},
   "outputs": [],
   "source": [
    "# test = np.load(\"../a.npy\")\n",
    "test = np.load(\"data_calcul_pdf_4um/1.npy\")\n",
    "dx_test = np.linspace(-2.3e-6, 2.3e-6, 1000)\n",
    "Color= [\"blue\", \"orange\", \"green\"]\n",
    "\n",
    "for n, i in enumerate([0, 10, 15]):\n",
    "    plt.semilogy(dX_hist[i,:], test[i,:] / np.trapz(test[i,:], dX_hist[i,:]), \".\", color=Color[n])\n",
    "    gaussian = gauss(x=dx_test, mu=0, std=np.sqrt(2*mean_Dx*dt_s_C4[i]))\n",
    "    plt.plot(dx_test, gaussian/np.trapz(gaussian,dx_test), \"-\", color=Color[n])\n",
    "\n",
    "plt.ylim([1e-3, 1e8])\n",
    "plt.xlim([-2.3e-6, 2.3e-6])\n",
    "# plt.savefig(\"../Figures/Test-AlgoMersenne_Petit-Gap.pdf\")"
   ]
  },
  {
   "cell_type": "code",
   "execution_count": null,
   "id": "5a6f01ba-5f2d-4b07-b6e6-a0466da5c1bb",
   "metadata": {},
   "outputs": [],
   "source": []
  },
  {
   "cell_type": "code",
   "execution_count": null,
   "id": "3ac105d3-c6de-4d58-8e0f-1e480051a7b1",
   "metadata": {},
   "outputs": [],
   "source": []
  },
  {
   "cell_type": "code",
   "execution_count": null,
   "id": "5440f2f7-8d92-45e4-a400-571c2ee98c92",
   "metadata": {},
   "outputs": [],
   "source": []
  }
 ],
 "metadata": {
  "kernelspec": {
   "display_name": "Python 3 (ipykernel)",
   "language": "python",
   "name": "python3"
  },
  "language_info": {
   "codemirror_mode": {
    "name": "ipython",
    "version": 3
   },
   "file_extension": ".py",
   "mimetype": "text/x-python",
   "name": "python",
   "nbconvert_exporter": "python",
   "pygments_lexer": "ipython3",
   "version": "3.10.0"
  }
 },
 "nbformat": 4,
 "nbformat_minor": 5
}
