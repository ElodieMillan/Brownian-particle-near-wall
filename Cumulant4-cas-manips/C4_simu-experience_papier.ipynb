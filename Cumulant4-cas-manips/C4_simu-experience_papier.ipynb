{
 "cells": [
  {
   "cell_type": "code",
   "execution_count": 1,
   "id": "b43e5585-0fc8-4186-8e13-7ac8aeed20a6",
   "metadata": {},
   "outputs": [],
   "source": [
    "import numpy as np\n",
    "import matplotlib.pyplot as plt\n",
    "from DoubleRigidWallOverdampedBrownExp_Cython import RigidWallOverdampedLangevin3D\n",
    "import cythonised_simu_part\n",
    "from scipy.integrate import quad\n",
    "from scipy.io import loadmat\n",
    "from scipy.optimize import curve_fit\n",
    "import matplotlib as mpl\n",
    "import matplotlib.pyplot as plt\n",
    "import numpy as np\n",
    "from mpl_toolkits.mplot3d import Axes3D\n",
    "from numpy import trapz\n",
    "\n",
    "import csv\n",
    "from multiprocessing import Pool\n",
    "import itertools\n",
    "   \n",
    "   \n",
    "def cm2inch(value):\n",
    "    return value / 2.54\n",
    "\n",
    "from tqdm import tqdm\n",
    "# axes.xaxis.set_tick_params(direction='in', which='both')\n",
    "# axes.yaxis.set_tick_params(direction='in', which='both')\n",
    "\n",
    "\n",
    "mpl.rcParams[\"xtick.direction\"] = \"in\"\n",
    "mpl.rcParams[\"ytick.direction\"] = \"in\"\n",
    "mpl.rcParams[\"lines.markeredgecolor\"] = \"k\"\n",
    "mpl.rcParams[\"lines.markeredgewidth\"] = 1\n",
    "mpl.rcParams[\"figure.dpi\"] = 200\n",
    "from matplotlib import rc\n",
    "\n",
    "rc(\"font\", family=\"serif\")\n",
    "rc(\"text\", usetex=False)\n",
    "rc(\"xtick\", labelsize=\"medium\")\n",
    "rc(\"ytick\", labelsize=\"medium\")\n",
    "rc(\"axes\", labelsize=\"large\")"
   ]
  },
  {
   "cell_type": "markdown",
   "id": "954c8aa7-9413-4344-a117-6cfa6fe10d12",
   "metadata": {},
   "source": [
    "# Model de diffusion dans un canal étroit \n",
    "\n",
    "Code origine : $\\mathrm{\\color{red}{Cumulant4\\_fonction.py}}$ et  $\\mathrm{\\color{red}{DoubleRigidWallOverdampedBrownExp\\_Cython.pyx}}$\n",
    "\n",
    "Auteur : $\\mathrm{\\color{purple}{Élodie ~MILLAN}}$\n",
    "\n",
    "Date : 14/01/2022\n",
    "\n",
    "\n",
    "- $2H_p$ : hauteur du canal;\n",
    "- $a$ : rayon de la particule;\n",
    "- On pose $H = H_p -a$\n",
    "- $\\eta_0$ : viscosité du fluide\n",
    "- $D_\\|(z) = \\frac{k_\\mathrm{B}T}{6 \\pi \\eta_\\| a}$ : coeficient de diffusion colinéaire au mur, avec $\\eta_\\| (z) = \\eta_0 \\left( 1 - \\frac{9a}{16(z+a)} +  \\left( \\frac{a}{8(z+a)} \\right)^3 - \\left( \\frac{45a}{256(z+a)} \\right)^4 - \\left( \\frac{a}{16(z+a)} \\right)^5 \\right)^{-1}$. \n",
    "- $D_\\perp(z) = \\frac{k_\\mathrm{B}T}{6 \\pi \\eta_\\perp a}$ : coeficient de diffusion transverse au mur, avec $\\eta_\\perp(z) = \\eta_0 \\frac{6z^2 + 9az + 2a^2}{6z^2 + 2az}$.\n",
    "\n",
    "\n",
    "Les viscosités effectives du fluide, transverse et colinaires, dû à la présence des deux mur s'écrivent : $\\eta_\\mathrm{eff} = \\eta_\\mathrm{B} + \\eta_\\mathrm{T} - \\eta_0$, où le mur du bas est placé en $-H_\\mathrm{P}$ et le mur du haut est en $+H_\\mathrm{P}$. Les deux murs sont donc distant de $2 H_\\mathrm{P}$.\n",
    "\n",
    "La particule est soumise au poids et à la répulstion electronique des deux mur, donc le potentiel vaud :\n",
    "\n",
    "\\begin{equation}\n",
    "    V = B k_\\mathrm{B}T \\left( \\exp \\left( -\\frac{z_\\mathrm{B}}{l_\\mathrm{D}} \\right) + \\exp \\left( -\\frac{z_\\mathrm{T}}{l_\\mathrm{D}} \\right)  \\right) + \\frac{k_\\mathrm{B} T }{l_\\mathrm{B}}z = B k_\\mathrm{B}T \\left( \\exp \\left( -\\frac{(H+z)}{l_\\mathrm{D}} \\right) + \\exp \\left( -\\frac{(H-z)}{l_\\mathrm{D}} \\right)  \\right) + \\frac{k_\\mathrm{B} T }{l_\\mathrm{B}}z.\n",
    "\\end{equation}\n",
    "avec $z_\\mathrm{B} = H+z$ la distance entre la particule (en $z$) et le mur du bas ; et $z_\\mathrm{T} = H-z$, celle entre la particule et le mur du haut.\n",
    "\n",
    "La force électrostatique vaud alors :\n",
    "\\begin{equation}\n",
    "    F_\\mathrm{elec} = -\\frac{\\partial V_\\mathrm{elec}}{\\partial z} = \\frac{B k_\\mathrm{B}T }{l_\\mathrm{D}} e^{- \\frac{H}{l_\\mathrm{D}}} \\left( \\exp \\left( -\\frac{z}{l_\\mathrm{D}} \\right) - \\exp \\left( \\frac{z}{l_\\mathrm{D}} \\right)  \\right),\n",
    "\\end{equation}\n",
    "et la force gravitaire :\n",
    "\\begin{equation}\n",
    "    F_\\mathrm{grav} = -\\frac{k_\\mathrm{B} T }{l_\\mathrm{B}}.\n",
    "\\end{equation}\n",
    "\n",
    "La PDF de $z$ s'écrit alors :\n",
    "\\begin{equation}\n",
    "    P_\\mathrm{eq}(z) = \\frac{1}{N} \\exp \\left( -\\frac{V}{k_\\mathrm{B}T} \\right) = \\frac{1}{N} e^{ - B  \\left( \\exp \\left( -\\frac{(H+z)}{l_\\mathrm{D}} \\right) + \\exp \\left( -\\frac{(H-z)}{l_\\mathrm{D}} \\right)  \\right) - \\frac{z}{l_\\mathrm{B}}},\n",
    "\\end{equation}\n",
    "\n",
    "\\begin{equation}\n",
    "    P_\\mathrm{eq}(z) = \\frac{1}{N} e^{ - B \\exp \\left( -\\frac{H}{l_\\mathrm{D}} \\right) \\left \\{ \\exp \\left( -\\frac{z}{l_\\mathrm{D}} \\right) + \\exp \\left( +\\frac{z}{l_\\mathrm{D}} \\right)  \\right \\} - \\frac{z}{l_\\mathrm{B}}}.\n",
    "\\end{equation}\n",
    "\n",
    "Le spurious drift s'écrit :\n",
    "\\begin{equation}\n",
    "    F_\\mathrm{spurious} = k_\\mathrm{B}T \\frac{D_{\\perp,\\mathrm{eff}} '(z)}{D_{\\perp,\\mathrm{eff}}(z)} = D_{\\perp,\\mathrm{eff}} '(z) \\gamma_{\\perp,\\mathrm{eff}}(z) = - \\frac{k_\\mathrm{B}T (\\eta_\\mathrm{B}'(z) + \\eta_\\mathrm{T}'(z))}{6 \\pi a (\\eta_\\mathrm{B}(z) + \\eta_\\mathrm{T}(z) - \\eta_0)^2} \\gamma_{\\perp,\\mathrm{eff}}(z)\n",
    "\\end{equation}\n",
    "avec :\n",
    "\\begin{equation}\n",
    "    \\eta_\\mathrm{eff,\\perp}'(z) = \\eta_\\mathrm{B}'(z) + \\eta_\\mathrm{T}'(z) = \\eta_0 \\left( \\frac{a}{(H-z)^2} - \\frac{a}{(H+z)^2} - \\frac{3(8a-9)}{2(a+3H-3z)^2} + \\frac{3(8a-9)}{2(a+3H+3z)^2}  \\right) \n",
    "\\end{equation}\n",
    "\n",
    "\n",
    "$\\mathrm{B}=\\mathrm{Bottom}$, $\\mathrm{T}=\\mathrm{Top}$\n",
    "\n",
    "Équation de Langevin overdamped:\n",
    "\\begin{equation}\n",
    "   \\gamma_\\mathrm{eff} (z) \\frac{\\mathrm{d}z}{\\mathrm{d}t} = F_\\mathrm{grav} + F_\\mathrm{elec} - F_\\mathrm{spurious} + w(z) \\frac{\\mathrm{d}B_t}{\\mathrm{d}t}\n",
    "\\end{equation}\n",
    "\n",
    "\\begin{equation}\n",
    "   z_{i+1} = z_i + \\left( F_\\mathrm{grav} + F_\\mathrm{elec} - F_\\mathrm{spurious} + w(z) \\frac{\\mathrm{d}B_t} {\\mathrm{d}t} \\right) \\frac{\\mathrm{d}t}{\\gamma_\\mathrm{eff}(z)}\n",
    "\\end{equation}\n",
    "\n",
    "\\begin{equation}\n",
    "   z_{i+1} = z_i + \\left( F_\\mathrm{grav} + F_\\mathrm{elec} \\right) \\frac{\\mathrm{d}t}{\\gamma_\\mathrm{eff} (z)} - D_\\mathrm{eff,\\perp}' \\mathrm{d}t  + w(z) \\mathrm{RNG} \\mathrm{d}t.\n",
    "\\end{equation}\n"
   ]
  },
  {
   "cell_type": "code",
   "execution_count": 2,
   "id": "8e35d927-51eb-494d-9a10-69729adfae04",
   "metadata": {},
   "outputs": [],
   "source": [
    "F_elec = lambda z: B * kBT/lD * np.exp(-H/lD) * (np.exp(-z/lD) - np.exp(z/lD))\n",
    "F_grav = lambda z: - kBT/lB*np.ones(len(z))\n",
    "\n",
    "P_eq = lambda z: np.exp(-B*np.exp(-H/lD)*(np.exp(-z/lD) + np.exp(z/lD)) - z/lB)\n",
    "\n",
    "\n",
    "\n",
    "def _gamma_z_eff(zi_1, a, eta, H):\n",
    "    \"\"\"\n",
    "    Formule de Padé\n",
    "    \"\"\"\n",
    "    # Mur Top\n",
    "    gam_z = (\n",
    "        6\n",
    "        * np.pi\n",
    "        * a\n",
    "        * eta\n",
    "        * (\n",
    "            (\n",
    "                (6 * (H-zi_1)**2 + 9*a*(H-zi_1) + 2*a**2)\n",
    "                / (6 * (H-zi_1)**2 + 2*a*(H-zi_1))\n",
    "            )\n",
    "        )\n",
    "    )\n",
    "    # Mur Bottom\n",
    "    gam_z_2 = (\n",
    "        6\n",
    "        * np.pi\n",
    "        * a\n",
    "        * eta\n",
    "        * (\n",
    "            (\n",
    "                (6 * (H+zi_1)**2 + 9*a*(H+zi_1) + 2*a**2)\n",
    "                / (6 * (H+zi_1)**2 + 2*a*(H+zi_1))\n",
    "            )\n",
    "        )\n",
    "    )\n",
    "\n",
    "    gam_z_0 = 6 * np.pi * a * eta\n",
    "\n",
    "    return (gam_z + gam_z_2 - gam_z_0)\n",
    "\n",
    "def _gamma_xy_eff(zi_1, a, eta, H):\n",
    "    \"\"\"\n",
    "    Formule de Libshaber\n",
    "    \"\"\"\n",
    "    # Mur Top\n",
    "    xi_T = a / ((H-zi_1) + a)\n",
    "    gam_xy_T = (\n",
    "        6\n",
    "        * np.pi\n",
    "        * a\n",
    "        * eta\n",
    "        * (\n",
    "            1\n",
    "            - 9 / 16 * xi_T\n",
    "            + 1 / 8 * xi_T**3\n",
    "            - 45 / 256 * xi_T ** 4\n",
    "            - 1 / 16 * xi_T ** 5\n",
    "        )\n",
    "        ** (-1)\n",
    "    )\n",
    "    \n",
    "    #Mur Bottom\n",
    "    xi_B = a / ((H+zi_1) + a)\n",
    "    gam_xy_B = (\n",
    "        6\n",
    "        * np.pi\n",
    "        * a\n",
    "        * eta\n",
    "        * (\n",
    "            1\n",
    "            - 9 / 16 * xi_B\n",
    "            + 1 / 8 * xi_B**3\n",
    "            - 45 / 256 * xi_B ** 4\n",
    "            - 1 / 16 * xi_B ** 5\n",
    "        )\n",
    "        ** (-1)\n",
    "    )\n",
    "\n",
    "    gam_xy_0 = 6 * np.pi * a * eta\n",
    "\n",
    "    return (gam_xy_T + gam_xy_B - gam_xy_0)\n",
    "\n",
    "\n",
    "def Dprime_z_eff(zi, kBT, eta, a, H):\n",
    "    # Spurious force pour corriger overdamping (Auteur: Dr. Maxime Lavaud)\n",
    "    eta_B = lambda zi: eta * (6*(H+zi)**2 + 9*a*(H+zi) + 2*a**2) / (6*(H+zi)**2 + 2*a*(H+zi))\n",
    "    eta_T = lambda zi: eta * (6*(H-zi)**2 + 9*a*(H-zi) + 2*a**2) / (6*(H-zi)**2 + 2*a*(H-zi))\n",
    "    \n",
    "    eta_B_primes = -(a * eta * (2 * a ** 2 + 12 * a * (H + zi) + 21 * (H + zi) ** 2)) / (\n",
    "        2 * (H + zi) ** 2 * (a + 3 * (H + zi)) ** 2\n",
    "    )\n",
    "    eta_T_primes = (\n",
    "        a\n",
    "        * eta\n",
    "        * (2 * a ** 2 + 12 * a * (H-zi) + 21 * (H-zi) ** 2)\n",
    "        / (2 * (a + 3*H - 3*zi) ** 2*(H-zi) ** 2)\n",
    "    )\n",
    "    \n",
    "    eta_eff = eta_B(zi) + eta_T(zi) - eta\n",
    "    eta_eff_prime = eta_B_primes + eta_T_primes\n",
    "\n",
    "    return  - kBT / (6*np.pi*a) * eta_eff_prime / eta_eff**2\n",
    "\n",
    "V_theo = lambda z: B*kBT*np.exp(-H/lD)*(np.exp(-z/lD) + np.exp(+z/lD)) + kBT/lB*z\n",
    "D_perp = lambda z: kBT/_gamma_z_eff(z, a, eta, H)\n",
    "D_para = lambda z: kBT/_gamma_xy_eff(z, a, eta, H)\n",
    "D_0 = lambda z: kBT/(6*np.pi*eta*a*np.ones(len(z)))\n",
    "\n",
    "F_spurious = lambda z: Dprime_z_eff(z, kBT, eta, a, H)*gamma_z_eff(z, eta, a, H)"
   ]
  },
  {
   "cell_type": "markdown",
   "id": "2b53eed6-196e-4c89-85f3-206ae9095b68",
   "metadata": {},
   "source": [
    "# Simu + moyenne de $C4_x$ et $C4_y$ --> donnant plus de stat pour $C4_\\|$"
   ]
  },
  {
   "cell_type": "code",
   "execution_count": 3,
   "id": "a28b5a84-3312-4ef2-b941-7910ce578ab9",
   "metadata": {},
   "outputs": [],
   "source": [
    "# Param fixé comme expériences\n",
    "a = 1.5e-6 #1.12e-6/2\n",
    "H = 2.5e-6\n",
    "lD = 500.0e-9 #Répultion mur\n",
    "kBT=1.38e-23*300\n",
    "lB = kBT/(4/3*np.pi*a**3*50*9.81) #gravité\n",
    "B = 4.8\n",
    "eta=0.001\n",
    "\n",
    "zz = np.linspace(-H+H*1e-3, H-H*1e-3, 1000)\n",
    "\n",
    "dt = 1e-1\n",
    "Nt = 1000000\n",
    "Nt_sub = 1"
   ]
  },
  {
   "cell_type": "code",
   "execution_count": 4,
   "id": "1b0aa344-bf63-42d7-89fc-dbc4321c14e8",
   "metadata": {},
   "outputs": [
    {
     "data": {
      "text/plain": [
       "100000.0"
      ]
     },
     "execution_count": 4,
     "metadata": {},
     "output_type": "execute_result"
    }
   ],
   "source": [
    "dt*Nt"
   ]
  },
  {
   "cell_type": "code",
   "execution_count": 5,
   "id": "51861a05-3d3a-4a7a-b1e1-5529c734034c",
   "metadata": {},
   "outputs": [],
   "source": [
    "Nsim = 1000\n",
    "\n",
    "def compute(n):\n",
    "    datafile = 'C4_Datas/lD_{:e}_lB_{:e}_B_{:e}_H_{:e}_a_{:e}_dt_{:e}_Nt_{}_Ntsub_{}_'.format(lD, lB, B, H, a, dt, Nt, Nt_sub).replace(\".\", \"p\") + \".csv\"\n",
    "    simu = RigidWallOverdampedLangevin3D(dt=dt, Nt=Nt, a=a, H=H, lD=lD, lB=lB, B=B, Nt_sub=Nt_sub)\n",
    "    simu.trajectory()\n",
    "    taux, c4x = simu.Cumulant4(\"x\")\n",
    "    tauy, c4y = simu.Cumulant4(\"y\")\n",
    "    tau = (taux+tauy)/2\n",
    "    c4 = (c4x+c4y)/2\n",
    "    csvfile = open(datafile,'a', newline='')\n",
    "    writer = csv.writer(csvfile)\n",
    "    writer.writerow(c4)\n",
    "    \n",
    "with Pool(7) as p:\n",
    "    p.map(compute, range(Nsim))"
   ]
  },
  {
   "cell_type": "code",
   "execution_count": 6,
   "id": "4e16c2ed-4d80-4756-9dc1-66f920a7b87f",
   "metadata": {},
   "outputs": [
    {
     "ename": "SyntaxError",
     "evalue": "invalid syntax. Perhaps you forgot a comma? (952814288.py, line 1)",
     "output_type": "error",
     "traceback": [
      "\u001b[0;36m  File \u001b[0;32m\"/tmp/ipykernel_372924/952814288.py\"\u001b[0;36m, line \u001b[0;32m1\u001b[0m\n\u001b[0;31m    stop (après ce sont des tests)\u001b[0m\n\u001b[0m                        ^\u001b[0m\n\u001b[0;31mSyntaxError\u001b[0m\u001b[0;31m:\u001b[0m invalid syntax. Perhaps you forgot a comma?\n"
     ]
    }
   ],
   "source": [
    "stop (après ce sont des tests)"
   ]
  },
  {
   "cell_type": "code",
   "execution_count": null,
   "id": "cd3a90d9-6bfe-47e4-97d3-d3bc9f7f92b1",
   "metadata": {},
   "outputs": [],
   "source": [
    "simu = RigidWallOverdampedLangevin3D(dt=dt, Nt=Nt, a=a, H=H, lD=lD, lB=lB, B=B, Nt_sub=Nt_sub)\n",
    "simu.trajectory()\n",
    "\n",
    "Rs = np.zeros([Nt, 3])\n",
    "Rs[:,0] = simu.x\n",
    "Rs[:,1] = simu.y\n",
    "Rs[:,2] = simu.z"
   ]
  },
  {
   "cell_type": "code",
   "execution_count": null,
   "id": "8fb8a8d8-6404-4560-ae28-674097adcb5f",
   "metadata": {},
   "outputs": [],
   "source": [
    "tau_x, msd_x = simu.MSD(\"x\")"
   ]
  },
  {
   "cell_type": "code",
   "execution_count": null,
   "id": "a2a23c4a-4743-46ee-b64a-b7098da4bc8d",
   "metadata": {},
   "outputs": [],
   "source": [
    "tau_z, msd_z = simu.MSD(\"z\")"
   ]
  },
  {
   "cell_type": "code",
   "execution_count": null,
   "id": "fb7a85e7-bbc3-40f2-ad63-761e418759cc",
   "metadata": {},
   "outputs": [],
   "source": [
    "z = np.linspace(-H, H, 1000)\n",
    "\n",
    "Dz = np.array([kBT / cythonised_simu_part.gamma_z_eff(i, a,  eta, H) for i in z])\n",
    "Dx = np.array([kBT / cythonised_simu_part.gamma_xy_eff(i, a,  eta, H) for i in z])\n",
    "D0 = kBT/(6*np.pi*simu.eta*simu.a)\n",
    "\n",
    "Peq = P_eq(z)/np.trapz(P_eq(z), z)\n",
    "\n",
    "\n",
    "mean_Dx = np.trapz(Peq*Dx, z)\n",
    "mean_Dz = np.trapz(Peq*Dz, z)"
   ]
  },
  {
   "cell_type": "code",
   "execution_count": null,
   "id": "c87eef60-c862-4681-af8c-57413dab880e",
   "metadata": {},
   "outputs": [],
   "source": [
    "plt.plot(Dz/D0)\n",
    "plt.plot(Dx/D0)"
   ]
  },
  {
   "cell_type": "code",
   "execution_count": null,
   "id": "86f4bf89-f1bc-40bf-bd47-480153c06a98",
   "metadata": {},
   "outputs": [],
   "source": [
    "plt.loglog(tau_x, msd_x, \"o\", label=r\"$x$\")\n",
    "plt.loglog(tau_z, msd_z, \"o\", label=r\"$z$\")\n",
    "plt.plot(tau_x, 2*tau_x*mean_Dx, \"-k\", label=r\"$2 \\langle D_{\\||}(z) \\rangle \\tau$\")\n",
    "plt.plot(tau_z, 2*tau_z*mean_Dz, \":k\", label=r\"$2 \\langle D_{\\perp}(z) \\rangle \\tau$\")\n",
    "\n",
    "plt.legend()"
   ]
  },
  {
   "cell_type": "code",
   "execution_count": null,
   "id": "7f085856-64b4-4ab0-a54b-fe403565a26a",
   "metadata": {},
   "outputs": [],
   "source": [
    "position = Rs[:, 2]\n",
    "bins=500\n",
    "\n",
    "hist_z, bin_edges = np.histogram(position[position < 30e-6], bins=bins, density=False)\n",
    "binsPositions = (bin_edges[:-1] + bin_edges[1:]) / 2\n",
    "pdf = hist_z / np.trapz(hist_z, binsPositions)"
   ]
  },
  {
   "cell_type": "code",
   "execution_count": null,
   "id": "eb3c378d-d236-45f0-a3e0-7ddd7eb5fa8b",
   "metadata": {},
   "outputs": [],
   "source": [
    "plt.plot(zz, P_eq(zz)/np.trapz(P_eq(zz), zz), \"k-\", label=r\"$\\mathrm{Theo}$\")\n",
    "\n",
    "plt.plot(binsPositions, pdf, \".\", label=r\"$\\mathrm{Numerical}$\")\n",
    "plt.legend()"
   ]
  },
  {
   "cell_type": "code",
   "execution_count": null,
   "id": "19b2f396-5f20-4b54-bc75-eb149ec0855b",
   "metadata": {},
   "outputs": [],
   "source": [
    "stop"
   ]
  },
  {
   "cell_type": "code",
   "execution_count": null,
   "id": "4fadaf3a-cc9b-40a9-8616-f75fc1f2f5af",
   "metadata": {},
   "outputs": [],
   "source": [
    "plt.plot(simu.z)"
   ]
  },
  {
   "cell_type": "code",
   "execution_count": null,
   "id": "3cc9053e-ce8e-42d7-8f25-461b797fe7aa",
   "metadata": {},
   "outputs": [],
   "source": []
  },
  {
   "cell_type": "code",
   "execution_count": null,
   "id": "658b39a2-779a-448d-b213-6d70e9ff9a28",
   "metadata": {},
   "outputs": [],
   "source": []
  },
  {
   "cell_type": "code",
   "execution_count": null,
   "id": "21606c5d-52ab-4d07-b332-1d37a280cbe9",
   "metadata": {},
   "outputs": [],
   "source": [
    "plt.plot(test)"
   ]
  },
  {
   "cell_type": "code",
   "execution_count": null,
   "id": "10a96dac-97b0-404f-aede-f6cfa728b6b0",
   "metadata": {},
   "outputs": [],
   "source": []
  }
 ],
 "metadata": {
  "kernelspec": {
   "display_name": "Python 3 (ipykernel)",
   "language": "python",
   "name": "python3"
  },
  "language_info": {
   "codemirror_mode": {
    "name": "ipython",
    "version": 3
   },
   "file_extension": ".py",
   "mimetype": "text/x-python",
   "name": "python",
   "nbconvert_exporter": "python",
   "pygments_lexer": "ipython3",
   "version": "3.10.0"
  }
 },
 "nbformat": 4,
 "nbformat_minor": 5
}
