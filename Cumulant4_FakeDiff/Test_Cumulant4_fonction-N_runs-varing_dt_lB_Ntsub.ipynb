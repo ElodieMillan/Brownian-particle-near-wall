{
 "cells": [
  {
   "cell_type": "code",
   "execution_count": 2,
   "id": "5dd08032",
   "metadata": {},
   "outputs": [],
   "source": [
    "import numpy as np\n",
    "import matplotlib.pyplot as plt\n",
    "from Cumulant4_fonction import C4_long, C4_court, Cross_time\n",
    "from DoubleRigidWallOverdampedLangevin3D_cython import RigidWallOverdampedLangevin3D\n",
    "from scipy.integrate import quad\n",
    "from scipy.io import loadmat\n",
    "from scipy.optimize import curve_fit\n",
    "import matplotlib as mpl\n",
    "import matplotlib.pyplot as plt\n",
    "import numpy as np\n",
    "from mpl_toolkits.mplot3d import Axes3D\n",
    "from numpy import trapz\n",
    "\n",
    "\n",
    "def cm2inch(value):\n",
    "    return value / 2.54\n",
    "\n",
    "from tqdm import tqdm\n",
    "# axes.xaxis.set_tick_params(direction='in', which='both')\n",
    "# axes.yaxis.set_tick_params(direction='in', which='both')\n",
    "\n",
    "\n",
    "mpl.rcParams[\"xtick.direction\"] = \"in\"\n",
    "mpl.rcParams[\"ytick.direction\"] = \"in\"\n",
    "mpl.rcParams[\"lines.markeredgecolor\"] = \"k\"\n",
    "mpl.rcParams[\"lines.markeredgewidth\"] = 1\n",
    "mpl.rcParams[\"figure.dpi\"] = 200\n",
    "from matplotlib import rc\n",
    "\n",
    "rc(\"font\", family=\"serif\")\n",
    "rc(\"text\", usetex=False)\n",
    "rc(\"xtick\", labelsize=\"medium\")\n",
    "rc(\"ytick\", labelsize=\"medium\")\n",
    "rc(\"axes\", labelsize=\"large\")"
   ]
  },
  {
   "cell_type": "code",
   "execution_count": null,
   "id": "3b5cddb0",
   "metadata": {},
   "outputs": [],
   "source": []
  },
  {
   "cell_type": "markdown",
   "id": "cd177e20",
   "metadata": {},
   "source": [
    "# Model de diffusion dans un canal étroit sans potentiel\n",
    "\n",
    "Code origine : $\\mathrm{\\color{red}{Cumulant4\\_fonction.py}}$\n",
    "\n",
    "Auteur : $\\mathrm{\\color{purple}{Élodie ~MILLAN}}$\n",
    "\n",
    "Date : 19/11/2021\n",
    "\n",
    "\n",
    "- $2H_p$ : hauteur du canal;\n",
    "- $a$ : rayon de la particule;\n",
    "- $V$ : potentiel où la particule est soumis\n",
    "- $D_\\|(z)$ : coeficient de diffusion selon l'axe parallèle aux murs \n",
    "- $D_\\perp(z)$ : coeficient de diffusion selon l'axe perpendiculaire aux murs \n"
   ]
  },
  {
   "cell_type": "code",
   "execution_count": 3,
   "id": "e9c2fb30",
   "metadata": {},
   "outputs": [],
   "source": [
    "H = 1.5e-6\n",
    "a = 0.5e-6\n",
    "Hs = H+0.1e-6 # Hs > H\n",
    "Hp = H-a\n",
    "kBT = 4e-21\n",
    "beta = 1/kBT\n",
    "\n",
    "# lB = [0.1e-6, 0.2e-6, 0.5e-6]\n",
    "# Nt_sub = [1, 10, 100]\n",
    "# dt = [1e-5, 1e-3]\n",
    "\n",
    "Nt = int(10000000)\n",
    "\n",
    "Db = kBT/(6*np.pi*0.001*a)\n",
    "D_para0 = (H-a)/(2*a) * Db\n",
    "D_perp0 = (H-a)/(2*a) * Db\n"
   ]
  },
  {
   "cell_type": "code",
   "execution_count": 4,
   "id": "b9766539",
   "metadata": {},
   "outputs": [],
   "source": [
    "def Dpara(z):\n",
    "    \"\"\"\n",
    "    D parallèle en fonction de z.\n",
    "    Return: une liste de Dpara de meme taille que z.\n",
    "    \"\"\"\n",
    "    return (D_para0*(1-(z/Hs)**2))\n",
    "\n",
    "def Dperp(z):\n",
    "    \"\"\"\n",
    "    D perpendiculaire en fonction de z.\n",
    "    Return: une liste de Dperp de meme taille que z.\n",
    "    D=0 lorsque z = +/-(H-a)\n",
    "    \"\"\"\n",
    "    return D_perp0*(1-(z/(H-a))**2)\n",
    "\n",
    "def V(z):\n",
    "    \"\"\"\n",
    "    Potentiel subit par la particule en fonction de z.\n",
    "    Return: une liste de V de meme taille que z.\n",
    "    \"\"\"\n",
    "    return 0#z/(beta*lB)\n",
    "\n",
    "def _Peq(z):\n",
    "    P_eq = np.exp(-beta*V(z))\n",
    "    N = quad(lambda zz: np.exp(-beta*V(zz)), -Hp, Hp)[0]\n",
    "    \n",
    "    if z > Hp:\n",
    "        return 0\n",
    "    elif z < -Hp:\n",
    "        return 0\n",
    "    else:\n",
    "        return P_eq / N\n",
    "\n",
    "def Peq(z):\n",
    "    \n",
    "    if type(z) == float:\n",
    "        return _Peq(z)\n",
    "    z = np.array(z)\n",
    "    return np.array([_Peq(zz) for zz in z])\n",
    "    \n",
    "def _Pdz(dz):\n",
    "    \n",
    "    return 1 / (4 * Hp**2) * (2 * Hp - np.abs(dz))\n",
    "\n",
    "def P_dz(dz):\n",
    "    \n",
    "    return np.array([_Pdz(i) for i in dz])\n",
    "\n",
    "    \n",
    "    \n"
   ]
  },
  {
   "cell_type": "code",
   "execution_count": 5,
   "id": "90325b56",
   "metadata": {},
   "outputs": [],
   "source": [
    "zz = np.linspace(-Hp, Hp, 1000)\n",
    "dz = np.linspace(-2*Hp, 2*Hp, 1000)\n",
    "\n",
    "Pdz = P_dz(dz)"
   ]
  },
  {
   "cell_type": "code",
   "execution_count": 6,
   "id": "66e70040",
   "metadata": {},
   "outputs": [],
   "source": [
    "# plt.plot(dz, Pdz)"
   ]
  },
  {
   "cell_type": "markdown",
   "id": "6c8c3b63",
   "metadata": {},
   "source": [
    "### Théorie"
   ]
  },
  {
   "cell_type": "code",
   "execution_count": 7,
   "id": "4c7c751c",
   "metadata": {},
   "outputs": [],
   "source": [
    "D4, C4 = C4_long(Dpara=Dpara, Dperp=Dperp, V=V, kBT=kBT, a=-H+a, b=H-a)\n",
    "A4 = C4_court(Dpara=Dpara, V=V, kBT=kBT, a=-H+a, b=H-a)"
   ]
  },
  {
   "cell_type": "code",
   "execution_count": 8,
   "id": "9067d8d6",
   "metadata": {},
   "outputs": [],
   "source": [
    "# c = Hp/lB\n",
    "# toint = quad(lambda t: (np.cosh(t) - 1)/t, 0, 2*c)[0]\n",
    "# d4 = ((5 + 4*c**2 - 5*np.cosh(2*c) + c*np.sinh(2*c) + 4*c/np.tanh(c)*toint)\n",
    "#          /\n",
    "#          (c**4 * np.sinh(c)**2)\n",
    "#     )\n",
    "# D4_theo = D_para0**2 * np.power(Hp,6)/(np.power(Hs, 4)*D_perp0)*d4\n",
    "# C4_theo = \"Non défini\""
   ]
  },
  {
   "cell_type": "code",
   "execution_count": 9,
   "id": "8aac0e5f-17e3-4249-bf2c-6dab015c2c3e",
   "metadata": {},
   "outputs": [],
   "source": [
    "#Theorie pour tout temps\n",
    "C4_tot_theo = lambda t: (2 * t * np.power(H-a,6) * np.power(D_para0,2)) / (135 * D_perp0 * np.power(Hs,4)) - (\n",
    "    np.power(H-a,8) * np.power(D_para0,2)\n",
    ") / (405 * np.power(D_perp0,2) * np.power(Hs,4)) * (1 - np.exp(-(6 * D_perp0 * t) / (np.power(H-a,2))))\n"
   ]
  },
  {
   "cell_type": "markdown",
   "id": "538abe99-e25c-4733-b465-3b34576456b1",
   "metadata": {},
   "source": [
    "### Simulation multipross $N_\\mathrm{simu}$"
   ]
  },
  {
   "cell_type": "code",
   "execution_count": 10,
   "id": "17cc53fb-ec0a-4c88-b7a6-78d38c4cfb58",
   "metadata": {},
   "outputs": [],
   "source": [
    "import csv\n",
    "from multiprocessing import Pool\n",
    "import itertools"
   ]
  },
  {
   "cell_type": "code",
   "execution_count": 16,
   "id": "fce11861",
   "metadata": {},
   "outputs": [],
   "source": [
    "# !rm fakeDiff_TESTMAXOU.csv\n",
    "Nsim = 20\n",
    "\n",
    "tau4_simu = []\n",
    "C4_simu = []\n",
    "\n",
    "lBs = [0.1e-6, 0.2e-6, 0.5e-6]\n",
    "Nt_subs = [1, 10, 100]\n",
    "dts = [1e-5, 1e-3]\n",
    "\n",
    "\n",
    "def compute(n, dt, lB, Nt_sub):\n",
    "    datafile = 'FakeDiff_Datas/dt_{:e}_lB_{:e}_Ntsub_{:e}_.csv'.format(dt, lB, Nt_sub)\n",
    "    simu = RigidWallOverdampedLangevin3D(dt=dt, Nt=Nt, a=a, H=H, Hs=Hs, lB=lB, Nt_sub=Nt_sub)\n",
    "    simu.trajectory()\n",
    "    taux, c4x = simu.Cumulant4(\"x\", plot=False, output=True)\n",
    "    tauy, c4y = simu.Cumulant4(\"y\", plot=False, output=True)\n",
    "    tau = (taux+tauy)/2\n",
    "    c4 = (c4x+c4y)/2\n",
    "    csvfile = open(datafile,'a', newline='')\n",
    "    writer = csv.writer(csvfile)\n",
    "    writer.writerow(c4)\n",
    "    tau4_simu.append(tau)\n",
    "    C4_simu.append(c4)\n",
    "    \n",
    "with Pool(7) as p:\n",
    "    iterrable = itertools.product(np.arange(Nsim), dts, lBs, Nt_subs)\n",
    "    p.starmap(compute, iterrable)"
   ]
  },
  {
   "cell_type": "code",
   "execution_count": null,
   "id": "b692ade6-4191-48a1-89d7-dcbb237e5b3d",
   "metadata": {},
   "outputs": [],
   "source": []
  },
  {
   "cell_type": "code",
   "execution_count": null,
   "id": "69d806c5-054e-4945-ad23-7f3c364776cc",
   "metadata": {},
   "outputs": [],
   "source": [
    "metadata = {}\n",
    "i=0\n",
    "while i < len(datafile.split(\"_\")[1:-1]):\n",
    "    info = datafile.split(\"_\")[1:-1]\n",
    "    metadata[info[i]]= float(info[i+1])\n",
    "    i+=2"
   ]
  },
  {
   "cell_type": "code",
   "execution_count": null,
   "id": "20ae83ce-d196-4e49-84d7-578486716bfd",
   "metadata": {},
   "outputs": [],
   "source": [
    "metadata"
   ]
  },
  {
   "cell_type": "code",
   "execution_count": null,
   "id": "69dd1278-8c12-459d-92c9-d83ab827875f",
   "metadata": {},
   "outputs": [],
   "source": [
    "datafile"
   ]
  },
  {
   "cell_type": "code",
   "execution_count": 14,
   "id": "5603c3da-822c-4917-be00-bf1db78b81a1",
   "metadata": {},
   "outputs": [],
   "source": []
  },
  {
   "cell_type": "code",
   "execution_count": 27,
   "id": "9cd583c2-3059-414c-93fc-e4ae5c0ef867",
   "metadata": {},
   "outputs": [],
   "source": [
    "lBs = [0.1e-6, 0.2e-6, 0.5e-6]\n",
    "Nt_subs = [1, 10, 100]\n",
    "dts = [1e-5, 1e-3]\n",
    "\n",
    "LB = lBs[0]\n",
    "Nt_sub = Nt_subs[2]\n",
    "dt=dts[1]\n",
    "\n",
    "data = np.loadtxt(\"fakeDiff_dt_1e-5_Nt_1e7_Ntsub_100_lB_1e-7.csv\", delimiter = \",\")\n",
    "tt_court = np.linspace(1e-5, dt*Nt, 2000000) \n",
    "tt_long = np.linspace(1e-5, dt*Nt, 2000000) \n",
    "\n",
    "C4_simu = np.mean(data, axis=0)\n",
    "Err_c4_simu = np.std(data, axis=0)\n",
    "\n",
    "list_dt_c4 = np.array([], dtype=int)\n",
    "for i in range(len(str(Nt)) - 3):\n",
    "    # Take just 10 points by decade.\n",
    "    list_dt_c4 = np.concatenate(\n",
    "        (\n",
    "            list_dt_c4,\n",
    "            np.arange(10 ** i, 10 ** (i + 1), 10 ** i, dtype=int),\n",
    "        )\n",
    "    )\n",
    "tau = list_dt_c4*dt*Nt_sub"
   ]
  },
  {
   "cell_type": "code",
   "execution_count": 28,
   "id": "21c675b7-6dbd-4131-ba5c-76386d4ae25c",
   "metadata": {},
   "outputs": [
    {
     "data": {
      "image/png": "[encoded data removed]",
      "text/plain": [
       "<Figure size 1200x800 with 1 Axes>"
      ]
     },
     "metadata": {
      "needs_background": "light"
     },
     "output_type": "display_data"
    }
   ],
   "source": [
    "plt.errorbar(tau, C4_simu,yerr=Err_c4_simu, fmt=\"o\", label=r\"Simulation\", ecolor = \"black\", capsize = 3)\n",
    "plt.loglog(tt_court, C4_tot_theo(tt_court), \"k\", label=r\"Analytic\")\n",
    "plt.loglog(tt_court, A4*tt_court**2, \"--\",label=r\"Court\")\n",
    "plt.plot(tt_long, D4*tt_long-C4*0,\"--\", label=r\"Long\")\n",
    "plt.xlim([1e-5, 5e2])\n",
    "plt.ylim([None, 1e-23])\n",
    "plt.legend()\n",
    "plt.show()"
   ]
  },
  {
   "cell_type": "code",
   "execution_count": null,
   "id": "432d7b3f",
   "metadata": {},
   "outputs": [],
   "source": [
    "stop"
   ]
  },
  {
   "cell_type": "markdown",
   "id": "6fc3cd5f",
   "metadata": {},
   "source": [
    " varieties## Calcul de la MSD$_\\|$\n",
    "On pose $H_p = H-a$\n",
    "La distribution d'equilibre de la particule dans ce canal est constante car il n'y a pas de potentiel, donc :\n",
    "\n",
    "\\begin{equation} \n",
    "P_\\mathrm{eq} = \\frac{1}{2H_p},\n",
    "\\end{equation}\n",
    "car $\\int_{-Hp}^{+Hp} P_\\mathrm{eq} \\mathrm{d}z = 1$.\n",
    "\n",
    "Donc la moyenne spatial du coeficient de diffusion $D_\\|(z)$ est donnée par :\n",
    "\\begin{equation} \n",
    "   \\langle D_\\|(z) \\rangle_z = \\int_{-H_p}^{+H_p}P_\\mathrm{eq}~D_\\|(z) \\mathrm{d}z = \\int_{-H_p}^{+H_p} \\frac{D_\\|^0}{2H_p} \\left( 1- \\frac{z^2}{H_s^2} \\right) \\mathrm{d}z = \\frac{D_\\|^0}{2H_p} \\left( 2H_p - \\frac{2H_p^3}{3H_s^2} \\right) = D_\\|^0 \\left( 1 - \\frac{H_p^2}{3H_s^2} \\right).\n",
    "\\end{equation}\n",
    "\n",
    "Permettant d'écrire la MSD$_\\|$ :\n",
    "\n",
    "\\begin{equation} \n",
    "\\mathrm{MSD}_\\| = 2 \\langle D_\\|(z) \\rangle_z \\tau,\n",
    "\\end{equation}\n",
    "où $\\tau$ sont les temps de déplacements.\n",
    "\n",
    "## Calcul de la MSD$_\\perp$ au temps court\n",
    "\n",
    "De même, \n",
    "\\begin{equation} \n",
    "   \\langle D_\\perp(z) \\rangle_z = \\int_{-H_p}^{+H_p}P_\\mathrm{eq}~D_\\perp(z) \\mathrm{d}z = \\int_{-H_p}^{+H_p} \\frac{D_\\perp^0}{2H_p} \\left( 1- \\frac{z^2}{H_p^2} \\right) \\mathrm{d}z = \\frac{D_\\perp^0}{2H_p} \\left( 2H_p - \\frac{2H_p^3}{3H_p^2} \\right) = D_\\perp^0 \\left( 1 - \\frac{1}{3} \\right) = \\frac{2}{3} D_\\perp^0,\n",
    "\\end{equation}\n",
    "\n",
    "avec :\n",
    "\\begin{equation} \n",
    "\\mathrm{MSD}_\\perp = 2 \\langle D_\\perp(z) \\rangle_z \\tau,\n",
    "\\end{equation}\n",
    "\n",
    "## Calcul du plateau de la MSD$_\\perp$.\n",
    "Pour calculer le plateau de la MSD$z$ ($\\forall \\tau > \\tau_\\mathrm{eq}$) il faut determiner la PDF des déplacement $\\Delta z = z(t+\\tau) - z(t)$ :\n",
    "\n",
    "\\begin{equation}\n",
    "  P(\\Delta z) = \\int_{-2H_p}^{+2H_p} P_\\mathrm{eq}(z+ \\Delta z) P_\\mathrm{eq}(z) \\mathrm{d}z\n",
    "\\end{equation}\n",
    "\n",
    "Cependant,\n",
    "\\begin{equation}\n",
    "P_\\mathrm{eq}(z) = \\left\\{\n",
    "    \\begin{array}{ll}\n",
    "         \\frac{1}{2H_p} & \\mbox{si } z \\in [ -H_p, +H_p] \\\\\n",
    "        0 & \\mbox{sinon.}\n",
    "    \\end{array}\n",
    "\\right.\n",
    "\\end{equation}\n",
    "\n",
    "et,\n",
    "\\begin{equation}\n",
    "P_\\mathrm{eq}(z+ \\Delta z) = \\left\\{\n",
    "    \\begin{array}{ll}\n",
    "         \\frac{1}{2H_p} & \\mbox{si } z \\in [ -H_p - \\Delta z, +H_p -\\Delta z] \\\\\n",
    "        0 & \\mbox{sinon.}\n",
    "    \\end{array}\n",
    "\\right.\n",
    "\\end{equation}\n",
    "\n",
    "Ce sont deux fonction créneau.\n",
    "\n",
    "Donc, l'intégrale de ces deux fonctions est égale à leur convolution. La convolution de deux créneau donne une fonction trianglulaire:\n",
    "\n",
    "\\begin{equation}\n",
    "P(\\Delta z) = P_\\mathrm{eq}(z+ \\Delta z) * P_\\mathrm{eq}(z) = \\int_{-H_p}^{+H_p} P_\\mathrm{eq}(z+ \\Delta z) P_\\mathrm{eq}(z) \\mathrm{d}z = \\frac{1}{4H_p^2}(2H_p - | \\Delta z| ).\n",
    "\\end{equation}\n",
    "\n",
    "Pour le montrer, considérons les 2 cas $\\Delta z > 0$ et $\\Delta z < 0$:\n",
    "\n",
    "1. $\\underline{\\Delta z > 0} \\Leftrightarrow \\underline{\\Delta z = |\\Delta z|}$ :\n",
    "\n",
    "\\begin{equation}\n",
    "P(\\Delta z) = \\int_{-H_p + \\Delta z}^{+H_p} \\frac{1}{4H_p^2}  \\mathrm{d}z = \\frac{1}{4H_p^2} \\{H_p - (-H_p + \\Delta z)\\} = \\frac{1}{4H_p^2} \\{ 2H_p - \\Delta z \\} = \\frac{1}{4H_p^2} \\{ 2H_p - |\\Delta z| \\}.\n",
    "\\end{equation}\n",
    "\n",
    "2. $\\underline{\\Delta z < 0} \\Leftrightarrow \\underline{\\Delta z = - |\\Delta z|}$ :\n",
    "\n",
    "\\begin{equation}\n",
    "P(\\Delta z) = \\int_{-H_p}^{+H_p - \\Delta z} \\frac{1}{4H_p^2}  \\mathrm{d}z = \\frac{1}{4H_p^2} \\{H_p + \\Delta z - (-H_p) \\} = \\frac{1}{4H_p^2} \\{ 2H_p + \\Delta z \\} = \\frac{1}{4H_p^2} \\{ 2H_p - |\\Delta z| \\}.\n",
    "\\end{equation}\n",
    "\n",
    "\n",
    "Donc finalement :\n",
    "\\begin{equation}\n",
    "P(\\Delta z) = \\frac{1}{4H_p^2} \\{ 2H_p - |\\Delta z| \\}.\n",
    "\\end{equation}\n",
    "\n",
    "Puis on en déduis la valeur du plateau de la MSD$z$ tel que :\n",
    "\n",
    "\\begin{equation}\n",
    "\\langle \\Delta z^2 \\rangle = \\int_{-2H_p}^{+2H_p} \\Delta z^2 P(\\Delta z) \\mathrm{d}(\\Delta z) = \\int_{-2H_p}^{+2H_p} \\Delta z^2 \\frac{1}{4H_p^2} \\{ 2H_p - |\\Delta z| \\} \\mathrm{d}(\\Delta z) = \\int_{-2H_p}^{+2H_p} \\frac{\\Delta z^2}{2H_p} \\mathrm{d}(\\Delta z) - \\int_{-2H_p}^{+2H_p} \\frac{|\\Delta z| \\Delta z^2}{4H_p^2} \\mathrm{d}(\\Delta z) = \\int_{-2H_p}^{+2H_p} \\frac{\\Delta z^2}{2H_p} \\mathrm{d}(\\Delta z) - 2 \\int_{0}^{+2H_p} \\frac{\\Delta z^3}{4H_p^2} \\mathrm{d}(\\Delta z).\n",
    "\\end{equation}\n",
    "Car $\\int_{-a}^{+a} |x| \\mathrm{d}x = 2\\int_{0}^{+a} x  \\mathrm{d}x$, d'où :\n",
    "\\begin{equation}\n",
    "\\langle \\Delta z^2 \\rangle = \\frac{2}{3} H_p ^2.\n",
    "\\end{equation}\n",
    "\n"
   ]
  },
  {
   "cell_type": "code",
   "execution_count": null,
   "id": "364f85b1",
   "metadata": {},
   "outputs": [],
   "source": [
    "# ---- PLateau de la MSDz\n",
    "Mean_dz2 = np.trapz(dz**2 * Pdz, dz)\n",
    "\n",
    "#Analytique\n",
    "dz2Mean_ana = 2/3*Hp**2\n",
    "\n",
    "# plt.plot(dz/2/Hp, P_dz(dz))\n",
    "# plt.xlabel(r\"$\\Delta z / (2H_p)$\")\n",
    "# plt.ylabel(r\"$P(\\Delta z)$\")\n",
    "Mean_dz2 , dz2Mean_ana"
   ]
  },
  {
   "cell_type": "code",
   "execution_count": null,
   "id": "50e2e19c",
   "metadata": {},
   "outputs": [],
   "source": []
  },
  {
   "cell_type": "code",
   "execution_count": null,
   "id": "6e5f2dca",
   "metadata": {},
   "outputs": [],
   "source": [
    "Hp"
   ]
  },
  {
   "cell_type": "code",
   "execution_count": null,
   "id": "8f1f0ef7",
   "metadata": {},
   "outputs": [],
   "source": [
    "MSDx_simu, tau_simu = simu.MSD(\"x\", plot=False, output=True)"
   ]
  },
  {
   "cell_type": "code",
   "execution_count": null,
   "id": "4e2fc31c",
   "metadata": {},
   "outputs": [],
   "source": [
    "MSDz_simu, tauZ_simu = simu.MSD(\"z\", plot=False, output=True)"
   ]
  },
  {
   "cell_type": "code",
   "execution_count": null,
   "id": "0c3a03a3",
   "metadata": {},
   "outputs": [],
   "source": [
    "t_theo = np.linspace(dt, dt*Nt*Nt_sub, 1000)\n",
    "\n",
    "Peq_z = lambda z: 1/(2*Hp)\n",
    "\n",
    "# D_para_mean = D_para0 * (1 - (H-a)**2/(3*Hs**2))\n",
    "D_para_mean = np.trapz(Dpara(zz)*Peq_z(zz), zz)\n",
    "\n",
    "plt.loglog(t_theo, 2*D_para_mean*t_theo, \"k-\", label=r\"$2 \\langle D_\\|(z) \\rangle_z \\tau$\")\n",
    "plt.plot(tau_simu, MSDx_simu, \"o\", label=r\"Simulation\")\n",
    "plt.xlabel(r\"$t~(\\mathrm{s})$\")\n",
    "plt.ylabel(r\"$\\mathrm{MSD}_\\|~(\\mathrm{m}^2)$\")\n",
    "plt.legend()\n",
    "plt.show()"
   ]
  },
  {
   "cell_type": "code",
   "execution_count": null,
   "id": "0e029c01",
   "metadata": {},
   "outputs": [],
   "source": [
    "t_theo = np.linspace(1e-3, 1e4, 1000)\n",
    "# D_perp_mean = D_perp0 * (1 - (H-a)**2/(3*(H-a)**2))\n",
    "\n",
    "D_perp_mean = np.trapz(Dperp(zz)*Peq_z(zz), zz)\n",
    "\n",
    "plt.plot(tauZ_simu, MSDz_simu, \"o\", label=r\"Simu\")\n",
    "plt.loglog(t_theo, 2*D_perp_mean*t_theo, \"k-\", label=r\"$2 \\langle D_\\perp(z) \\rangle_z \\tau$\")\n",
    "plt.plot(np.linspace(1e0, 1e8, 1000), np.ones(1000)*Mean_dz2, \"--\", label=r\"$\\langle \\Delta z^2 \\rangle$\")\n",
    "plt.xlabel(r\"$t~(\\mathrm{s})$\")\n",
    "plt.ylabel(r\"$\\mathrm{MSD}_\\perp~(\\mathrm{m}^2)$\")\n",
    "plt.legend()\n",
    "plt.show()"
   ]
  },
  {
   "cell_type": "code",
   "execution_count": null,
   "id": "3bfdcb87",
   "metadata": {},
   "outputs": [],
   "source": []
  },
  {
   "cell_type": "code",
   "execution_count": null,
   "id": "bed8936e",
   "metadata": {},
   "outputs": [],
   "source": [
    "x,y  = np.histogram(simu.z, bins=30, density=True)\n",
    "y = (y[1:] + y[:-1])/2 \n",
    "plt.plot(y,x, \"o\")\n",
    "zz = np.linspace(-Hp, Hp, 1000)\n",
    "plt.plot(zz, np.ones(len(zz))*1/2/(H-a))\n",
    "\n",
    "plt.ylim(0.9/2/(H-a),1.1/2/(H-a)) #+/- 10%\n",
    "plt.xlabel(r\"$z$\")\n",
    "plt.ylabel(r\"$P(z)$\")"
   ]
  },
  {
   "cell_type": "code",
   "execution_count": null,
   "id": "6070e64d",
   "metadata": {},
   "outputs": [],
   "source": []
  },
  {
   "cell_type": "code",
   "execution_count": null,
   "id": "c7c30f6c",
   "metadata": {},
   "outputs": [],
   "source": []
  },
  {
   "cell_type": "code",
   "execution_count": null,
   "id": "2d8c8e44",
   "metadata": {},
   "outputs": [],
   "source": []
  }
 ],
 "metadata": {
  "kernelspec": {
   "display_name": "Python 3 (ipykernel)",
   "language": "python",
   "name": "python3"
  },
  "language_info": {
   "codemirror_mode": {
    "name": "ipython",
    "version": 3
   },
   "file_extension": ".py",
   "mimetype": "text/x-python",
   "name": "python",
   "nbconvert_exporter": "python",
   "pygments_lexer": "ipython3",
   "version": "3.10.0"
  }
 },
 "nbformat": 4,
 "nbformat_minor": 5
}
