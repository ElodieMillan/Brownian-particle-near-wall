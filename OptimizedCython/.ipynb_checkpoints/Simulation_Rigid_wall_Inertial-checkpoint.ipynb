{
 "cells": [
  {
   "cell_type": "code",
   "execution_count": 1,
   "metadata": {},
   "outputs": [],
   "source": [
    "import numpy as np\n",
    "import matplotlib.pyplot as plt\n",
    "import pyximport\n",
    "import h5py\n",
    "from tqdm import tqdm\n",
    "\n",
    "pyximport.install(setup_args={'include_dirs': np.get_include()},reload_support=True)\n",
    "from RigidWall_InertialLangevin3D_cython import RigidWallInertialLangevin3D\n",
    "\n",
    "from mpl_toolkits import mplot3d\n",
    "from scipy.signal import correlate\n",
    "\n",
    "import matplotlib as mpl\n",
    "mpl.rcParams['figure.dpi'] = 140\n",
    "\n",
    "mpl.rcParams[\"xtick.direction\"] = \"in\"\n",
    "mpl.rcParams[\"ytick.direction\"] = \"in\"\n",
    "mpl.rcParams[\"lines.markeredgecolor\"] = \"k\"\n",
    "mpl.rcParams[\"lines.markeredgewidth\"] = 0.1\n",
    "mpl.rcParams[\"figure.dpi\"] = 130\n",
    "from matplotlib import rc\n",
    "rc('font', family='serif')\n",
    "#rc('text', usetex=True)\n",
    "rc('xtick', labelsize='x-small')\n",
    "rc('ytick', labelsize='x-small')"
   ]
  },
  {
   "cell_type": "code",
   "execution_count": 2,
   "metadata": {},
   "outputs": [],
   "source": [
    "class HDF5Store(object):\n",
    "    \"\"\"\n",
    "    Simple class to append value to a hdf5 file on disc (usefull for building keras datasets)\n",
    "    \n",
    "    Params:\n",
    "        datapath: filepath of h5 file\n",
    "        dataset: dataset name within the file\n",
    "        shape: dataset shape (not counting main/batch axis)\n",
    "        dtype: numpy dtype\n",
    "    \n",
    "    Usage:\n",
    "        hdf5_store = HDF5Store('/tmp/hdf5_store.h5','X', shape=(20,20,3))\n",
    "        x = np.random.random(hdf5_store.shape)\n",
    "        hdf5_store.append(x)\n",
    "        hdf5_store.append(x)\n",
    "        \n",
    "    From https://gist.github.com/wassname/a0a75f133831eed1113d052c67cf8633\n",
    "    \"\"\"\n",
    "    def __init__(self, datapath, dataset, shape, dtype=np.float64, compression=\"gzip\", chunk_len=1):\n",
    "        self.datapath = datapath\n",
    "        self.dataset = dataset\n",
    "        self.shape = shape\n",
    "        self.i = 0\n",
    "        \n",
    "        with h5py.File(self.datapath, mode='w') as h5f:\n",
    "            self.dset = h5f.create_dataset(\n",
    "                dataset,\n",
    "                shape=(0, ) + shape,\n",
    "                maxshape=(None, ) + shape,\n",
    "                dtype=dtype,\n",
    "                compression=compression,\n",
    "                chunks=(chunk_len, ) + shape)\n",
    "    \n",
    "    def append(self, values):\n",
    "        with h5py.File(self.datapath, mode='a') as h5f:\n",
    "            dset = h5f[self.dataset]\n",
    "            dset.resize((self.i + 1, ) + self.shape)\n",
    "            dset[self.i] = [values]\n",
    "            self.i += 1\n",
    "            h5f.flush()"
   ]
  },
  {
   "cell_type": "code",
   "execution_count": 3,
   "metadata": {},
   "outputs": [],
   "source": [
    "\n",
    "langevin3D = RigidWallInertialLangevin3D(dt=1e-7, Nt=10000000, R=1.5e-6, rho=1050, x0=(0., 0., 150e-9))\n",
    "langevin3D.trajectory()"
   ]
  },
  {
   "cell_type": "code",
   "execution_count": 4,
   "metadata": {},
   "outputs": [],
   "source": [
    "store_full = HDF5Store(\"Datas_inertial_RIgidWall\\inertial_simulation_rigid_rigid_wall_r1p5em6_rho1050_B4_ld_70em9_dt1em7full_dt1em2reduced_10kpoints.h5\", \"full_data_1run\", shape = (3, 10000000))\n",
    "\n",
    "store_full.append([langevin3D.x, langevin3D.y, langevin3D.z])\n"
   ]
  },
  {
   "cell_type": "code",
   "execution_count": 5,
   "metadata": {},
   "outputs": [
    {
     "data": {
      "text/plain": [
       "(0.0, 0.0, 1.5e-07)"
      ]
     },
     "execution_count": 5,
     "metadata": {},
     "output_type": "execute_result"
    }
   ],
   "source": [
    "langevin3D.x0"
   ]
  },
  {
   "cell_type": "code",
   "execution_count": 6,
   "metadata": {},
   "outputs": [],
   "source": [
    "store_reduced = HDF5Store(\"Datas_inertial_RIgidWall\\inertial_simulation_rigid_rigid_wall_r1p5em6_rho1050_B4_ld_70em9_dt1em7full_dt1em2reduced_10kpoints.h5\", \"reduced_data_1run\", shape = (3,9999990))\n",
    "\n",
    "tmp = np.zeros((3,9999990))\n",
    "langevin3D.initialisation = True"
   ]
  },
  {
   "cell_type": "code",
   "execution_count": null,
   "metadata": {},
   "outputs": [],
   "source": [
    "for i in tqdm(range(10010)):\n",
    "    langevin3D.x0 = [langevin3D.x[-2:],langevin3D.y[-2:],langevin3D.z[-2:]]\n",
    "    langevin3D.trajectoire()\n",
    "    tmp[:,i:i+999] = [langevin3D.x,langevin3D.y,langevin3D.z]\n",
    "    \n",
    "    "
   ]
  },
  {
   "cell_type": "code",
   "execution_count": null,
   "metadata": {},
   "outputs": [],
   "source": [
    "store_reduced.append(tmp)"
   ]
  }
 ],
 "metadata": {
  "kernelspec": {
   "display_name": "Python 3",
   "language": "python",
   "name": "python3"
  },
  "language_info": {
   "codemirror_mode": {
    "name": "ipython",
    "version": 3
   },
   "file_extension": ".py",
   "mimetype": "text/x-python",
   "name": "python",
   "nbconvert_exporter": "python",
   "pygments_lexer": "ipython3",
   "version": "3.8.3"
  }
 },
 "nbformat": 4,
 "nbformat_minor": 4
}
