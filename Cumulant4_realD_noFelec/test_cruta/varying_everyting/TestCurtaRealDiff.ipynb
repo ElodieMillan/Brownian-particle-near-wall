{
 "cells": [
  {
   "cell_type": "code",
   "execution_count": 3,
   "id": "1b00fd52-7aaa-434b-a511-55d28cba40b8",
   "metadata": {},
   "outputs": [],
   "source": [
    "import numpy as np\n",
    "import matplotlib.pyplot as plt\n",
    "# from Cumulant4_fonction import C4_long, C4_court, Cross_time\n",
    "# from DoubleRigidWallOverdampedLangevin3D_cython import RigidWallOverdampedLangevin3D\n",
    "from scipy.integrate import quad\n",
    "from scipy.io import loadmat\n",
    "from scipy.optimize import curve_fit\n",
    "import matplotlib as mpl\n",
    "import matplotlib.pyplot as plt\n",
    "import numpy as np\n",
    "from mpl_toolkits.mplot3d import Axes3D\n",
    "from numpy import trapz\n",
    "\n",
    "\n",
    "def cm2inch(value):\n",
    "    return value / 2.54\n",
    "\n",
    "from tqdm import tqdm\n",
    "# axes.xaxis.set_tick_params(direction='in', which='both')\n",
    "# axes.yaxis.set_tick_params(direction='in', which='both')\n",
    "\n",
    "\n",
    "mpl.rcParams[\"xtick.direction\"] = \"in\"\n",
    "mpl.rcParams[\"ytick.direction\"] = \"in\"\n",
    "mpl.rcParams[\"lines.markeredgecolor\"] = \"k\"\n",
    "mpl.rcParams[\"lines.markeredgewidth\"] = 1\n",
    "mpl.rcParams[\"figure.dpi\"] = 200\n",
    "from matplotlib import rc\n",
    "\n",
    "rc(\"font\", family=\"serif\")\n",
    "rc(\"text\", usetex=False)\n",
    "rc(\"xtick\", labelsize=\"medium\")\n",
    "rc(\"ytick\", labelsize=\"medium\")\n",
    "rc(\"axes\", labelsize=\"large\")\n",
    "\n",
    "import csv"
   ]
  },
  {
   "cell_type": "code",
   "execution_count": null,
   "id": "b0feb41b-1e10-421f-8b5e-b348bf1bed66",
   "metadata": {},
   "outputs": [],
   "source": []
  }
 ],
 "metadata": {
  "kernelspec": {
   "display_name": "Python 3 (ipykernel)",
   "language": "python",
   "name": "python3"
  },
  "language_info": {
   "codemirror_mode": {
    "name": "ipython",
    "version": 3
   },
   "file_extension": ".py",
   "mimetype": "text/x-python",
   "name": "python",
   "nbconvert_exporter": "python",
   "pygments_lexer": "ipython3",
   "version": "3.10.0"
  }
 },
 "nbformat": 4,
 "nbformat_minor": 5
}
