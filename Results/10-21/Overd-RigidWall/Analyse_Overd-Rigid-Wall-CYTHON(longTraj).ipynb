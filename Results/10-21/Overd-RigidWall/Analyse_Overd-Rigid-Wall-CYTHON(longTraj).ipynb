{
 "cells": [
  {
   "cell_type": "markdown",
   "id": "finished-specialist",
   "metadata": {},
   "source": [
    "# Analyse de trajectoire longue proche d'un mur rigide (avec Cython)\n",
    "\n",
    "Code origine : $\\mathrm{\\color{red}{RigidWallOverdampedLangevin3D\\_cython.py}}$\n",
    "\n",
    "Auteur : $\\mathrm{\\color{purple}{Élodie ~MILLAN}}$\n",
    "\n",
    "Date : 05/10/2021\n",
    "\n",
    "## 0. Déscription du problème :\n",
    "\n",
    "\n",
    "Simulation et analyse d'une trajectoire brownienne proche d'une paroie rigide. \n",
    "\n",
    "Une particule de rayon $a$, de masse volumique $\\rho$, plongé dans un fluide de viscosité $\\eta_0$, soumise au poid $P=\\Delta m g=(m_\\mathrm{F}-m_\\mathrm{P}) g$, où $m_\\mathrm{F}$ est la masse de fluide déplacé par la poussé d'Archimède et $m_\\mathrm{P}$, la masse de la particule.\n",
    "\n",
    "La particule, à une altitude $z$ de la paroie, est soumis à la répulation éléctrostatique de la paroie, $R_\\mathrm{elec}$ :\n",
    "\\begin{equation}\n",
    "    R_\\mathrm{elec} = \\frac{4 k_\\mathrm{b} T}{l_\\mathrm{d}} exp( - \\frac{z}{l_\\mathrm{d}})\n",
    "\\end{equation}\n",
    "où $k_\\mathrm{b}$ est la constante de Boltzman et $l_\\mathrm{d}$ la longueur de Debye.\n",
    "\n",
    "La présence de la paroie induit une viscosité effective du fluide qui dépend de l'altitude $z$ de la particule $\\eta(z)$ dans les dirrection collinaire $\\eta_\\|$ et transverse du mur $\\eta_\\perp$ :\n",
    "\n",
    "\\begin{equation}\n",
    "    \\eta_\\| (z) = \\frac{6 \\pi \\eta_0 a}{\\left( 1 - \\frac{9a}{16(z+a)} +  \\left( \\frac{a}{8(z+a)} \\right)^3 - \\left( \\frac{45a}{256(z+a)} \\right)^4 - \\left( \\frac{a}{16(z+a)} \\right)^5 \\right)},\n",
    "\\end{equation}\n",
    "obtenue dans l'approximation de Libchaber, et,\n",
    "\\begin{equation}\n",
    "    \\eta_\\perp (z) = 6 \\pi \\eta_0 a ~ \\frac{6z^2+9az+2a^2 }{6z^2 + 2az},\n",
    "\\end{equation}\n",
    "avec la formule de Padé.\n",
    "\n",
    "On concidère les effets inertiels négligeable, on peux alors écrire l'équation de $\\color{blue}{\\mathrm{Langevin~sur~ amortie}}$ : \n",
    "\n",
    "\\begin{equation}\n",
    "    x(t+\\tau) = x(t) + (P + R_\\mathrm{elec} + F_\\mathrm{corr} ) \\frac{\\tau}{\\gamma (z)} + \\sqrt{2D(z)} ~ dB_t ~ \\tau\n",
    "\\end{equation}\n",
    "où $D(z) = \\frac{k_\\mathrm{b}T}{6 \\pi \\eta_i(z) a}$, avec $i=\\{ \\|,\\perp \\}$.\n",
    "\n",
    "Une force corrective $F_\\mathrm{corr}$ est ajouté pour ajuster le cas sur-amortie.\n",
    "\n",
    "\\begin{equation}\n",
    "    F_\\mathrm{corr} = k_b T \\frac{D_z'}{D_z} = k_b T \\frac{42 R z^2 + 24 R^2z + 4R^2}{36 z^4 + 66Rz^3 + 30 R^2 z^2 + 4R^3 z}.\n",
    "\\end{equation}\n"
   ]
  },
  {
   "cell_type": "code",
   "execution_count": 1,
   "id": "attached-memorial",
   "metadata": {},
   "outputs": [
    {
     "name": "stderr",
     "output_type": "stream",
     "text": [
      "/home/e.millan/miniconda3/envs/cy3/lib/python3.9/site-packages/Cython/Compiler/Main.py:346: FutureWarning: Cython directive 'language_level' not set, using '3str' for now (Py3). This has changed from earlier releases! File: /home/e.millan/Documents/Stage2020-Nageurs-actifs-proche-de-parois-deformable/OptimizedCython/RigidWallOverdampedLangevin3D_cython.pyx\n",
      "  tree = Parsing.p_module(s, pxd, full_module_name)\n",
      "\n",
      "Error compiling Cython file:\n",
      "------------------------------------------------------------\n",
      "...\n",
      "\n",
      "        :param space: Choose between \"bulk\" and \"wall\".\n",
      "        :param plot: Plot MSD is True.\n",
      "        :param output: Return {tau, MSD(tau)} is True.\n",
      "        \"\"\"\n",
      "    if axis == \"x\":\n",
      "      ^\n",
      "------------------------------------------------------------\n",
      "\n",
      "/home/e.millan/Documents/Stage2020-Nageurs-actifs-proche-de-parois-deformable/OptimizedCython/RigidWallOverdampedLangevin3D_cython.pyx:132:7: undeclared name not builtin: axis\n",
      "\n",
      "Error compiling Cython file:\n",
      "------------------------------------------------------------\n",
      "...\n",
      "        :param space: Choose between \"bulk\" and \"wall\".\n",
      "        :param plot: Plot MSD is True.\n",
      "        :param output: Return {tau, MSD(tau)} is True.\n",
      "        \"\"\"\n",
      "    if axis == \"x\":\n",
      "        position = self.x\n",
      "                  ^\n",
      "------------------------------------------------------------\n",
      "\n",
      "/home/e.millan/Documents/Stage2020-Nageurs-actifs-proche-de-parois-deformable/OptimizedCython/RigidWallOverdampedLangevin3D_cython.pyx:133:19: undeclared name not builtin: self\n",
      "\n",
      "Error compiling Cython file:\n",
      "------------------------------------------------------------\n",
      "...\n",
      "            msd[k] = 0\n",
      "            continue\n",
      "        msd[k] = np.mean((position[i:]-position[:-i])**2)\n",
      "\n",
      "\n",
      "    if plot:\n",
      "      ^\n",
      "------------------------------------------------------------\n",
      "\n",
      "/home/e.millan/Documents/Stage2020-Nageurs-actifs-proche-de-parois-deformable/OptimizedCython/RigidWallOverdampedLangevin3D_cython.pyx:160:7: undeclared name not builtin: plot\n",
      "\n",
      "Error compiling Cython file:\n",
      "------------------------------------------------------------\n",
      "...\n",
      "\n",
      "\n",
      "    if plot:\n",
      "        plt.loglog(self.t[list_dt_MSD], msd, \"o\", label=\"Numerical\")\n",
      "\n",
      "        if space==\"bulk\":\n",
      "          ^\n",
      "------------------------------------------------------------\n",
      "\n",
      "/home/e.millan/Documents/Stage2020-Nageurs-actifs-proche-de-parois-deformable/OptimizedCython/RigidWallOverdampedLangevin3D_cython.pyx:163:11: undeclared name not builtin: space\n",
      "\n",
      "Error compiling Cython file:\n",
      "------------------------------------------------------------\n",
      "...\n",
      "        ax.yaxis.set_minor_formatter(mpl.ticker.NullFormatter())\n",
      "\n",
      "        plt.legend()\n",
      "        plt.show()\n",
      "\n",
      "    if output:\n",
      "      ^\n",
      "------------------------------------------------------------\n",
      "\n",
      "/home/e.millan/Documents/Stage2020-Nageurs-actifs-proche-de-parois-deformable/OptimizedCython/RigidWallOverdampedLangevin3D_cython.pyx:205:7: undeclared name not builtin: output\n",
      "\n",
      "Error compiling Cython file:\n",
      "------------------------------------------------------------\n",
      "...\n",
      "\n",
      "        plt.legend()\n",
      "        plt.show()\n",
      "\n",
      "    if output:\n",
      "        return msd, self.t[list_dt_MSD]\n",
      "       ^\n",
      "------------------------------------------------------------\n",
      "\n",
      "/home/e.millan/Documents/Stage2020-Nageurs-actifs-proche-de-parois-deformable/OptimizedCython/RigidWallOverdampedLangevin3D_cython.pyx:206:8: Return not inside a function body\n",
      "/home/e.millan/.pyxbld/temp.linux-x86_64-3.9/pyrex/RigidWallOverdampedLangevin3D_cython.c:1:2: error: #error Do not use this file, it is the result of a failed Cython compilation.\n",
      "    1 | #error Do not use this file, it is the result of a failed Cython compilation.\n",
      "      |  ^~~~~\n"
     ]
    },
    {
     "ename": "ImportError",
     "evalue": "Building module RigidWallOverdampedLangevin3D_cython failed: [\"distutils.errors.CompileError: command '/usr/bin/gcc' failed with exit code 1\\n\"]",
     "output_type": "error",
     "traceback": [
      "\u001b[0;31m---------------------------------------------------------------------------\u001b[0m",
      "\u001b[0;31mDistutilsExecError\u001b[0m                        Traceback (most recent call last)",
      "\u001b[0;32m~/miniconda3/envs/cy3/lib/python3.9/distutils/unixccompiler.py\u001b[0m in \u001b[0;36m_compile\u001b[0;34m(self, obj, src, ext, cc_args, extra_postargs, pp_opts)\u001b[0m\n\u001b[1;32m    116\u001b[0m         \u001b[0;32mtry\u001b[0m\u001b[0;34m:\u001b[0m\u001b[0;34m\u001b[0m\u001b[0;34m\u001b[0m\u001b[0m\n\u001b[0;32m--> 117\u001b[0;31m             self.spawn(compiler_so + cc_args + [src, '-o', obj] +\n\u001b[0m\u001b[1;32m    118\u001b[0m                        extra_postargs)\n",
      "\u001b[0;32m~/miniconda3/envs/cy3/lib/python3.9/distutils/ccompiler.py\u001b[0m in \u001b[0;36mspawn\u001b[0;34m(self, cmd)\u001b[0m\n\u001b[1;32m    909\u001b[0m     \u001b[0;32mdef\u001b[0m \u001b[0mspawn\u001b[0m\u001b[0;34m(\u001b[0m\u001b[0mself\u001b[0m\u001b[0;34m,\u001b[0m \u001b[0mcmd\u001b[0m\u001b[0;34m)\u001b[0m\u001b[0;34m:\u001b[0m\u001b[0;34m\u001b[0m\u001b[0;34m\u001b[0m\u001b[0m\n\u001b[0;32m--> 910\u001b[0;31m         \u001b[0mspawn\u001b[0m\u001b[0;34m(\u001b[0m\u001b[0mcmd\u001b[0m\u001b[0;34m,\u001b[0m \u001b[0mdry_run\u001b[0m\u001b[0;34m=\u001b[0m\u001b[0mself\u001b[0m\u001b[0;34m.\u001b[0m\u001b[0mdry_run\u001b[0m\u001b[0;34m)\u001b[0m\u001b[0;34m\u001b[0m\u001b[0;34m\u001b[0m\u001b[0m\n\u001b[0m\u001b[1;32m    911\u001b[0m \u001b[0;34m\u001b[0m\u001b[0m\n",
      "\u001b[0;32m~/miniconda3/envs/cy3/lib/python3.9/distutils/spawn.py\u001b[0m in \u001b[0;36mspawn\u001b[0;34m(cmd, search_path, verbose, dry_run)\u001b[0m\n\u001b[1;32m     86\u001b[0m             \u001b[0mcmd\u001b[0m \u001b[0;34m=\u001b[0m \u001b[0mcmd\u001b[0m\u001b[0;34m[\u001b[0m\u001b[0;36m0\u001b[0m\u001b[0;34m]\u001b[0m\u001b[0;34m\u001b[0m\u001b[0;34m\u001b[0m\u001b[0m\n\u001b[0;32m---> 87\u001b[0;31m         raise DistutilsExecError(\n\u001b[0m\u001b[1;32m     88\u001b[0m               \"command %r failed with exit code %s\" % (cmd, exitcode))\n",
      "\u001b[0;31mDistutilsExecError\u001b[0m: command '/usr/bin/gcc' failed with exit code 1",
      "\nDuring handling of the above exception, another exception occurred:\n",
      "\u001b[0;31mCompileError\u001b[0m                              Traceback (most recent call last)",
      "\u001b[0;32m~/miniconda3/envs/cy3/lib/python3.9/site-packages/pyximport/pyximport.py\u001b[0m in \u001b[0;36mload_module\u001b[0;34m(name, pyxfilename, pyxbuild_dir, is_package, build_inplace, language_level, so_path)\u001b[0m\n\u001b[1;32m    213\u001b[0m                 \u001b[0mmodule_name\u001b[0m \u001b[0;34m=\u001b[0m \u001b[0mname\u001b[0m\u001b[0;34m\u001b[0m\u001b[0;34m\u001b[0m\u001b[0m\n\u001b[0;32m--> 214\u001b[0;31m             so_path = build_module(module_name, pyxfilename, pyxbuild_dir,\n\u001b[0m\u001b[1;32m    215\u001b[0m                                    inplace=build_inplace, language_level=language_level)\n",
      "\u001b[0;32m~/miniconda3/envs/cy3/lib/python3.9/site-packages/pyximport/pyximport.py\u001b[0m in \u001b[0;36mbuild_module\u001b[0;34m(name, pyxfilename, pyxbuild_dir, inplace, language_level)\u001b[0m\n\u001b[1;32m    185\u001b[0m     \u001b[0;32mfrom\u001b[0m \u001b[0;34m.\u001b[0m \u001b[0;32mimport\u001b[0m \u001b[0mpyxbuild\u001b[0m\u001b[0;34m\u001b[0m\u001b[0;34m\u001b[0m\u001b[0m\n\u001b[0;32m--> 186\u001b[0;31m     so_path = pyxbuild.pyx_to_dll(pyxfilename, extension_mod,\n\u001b[0m\u001b[1;32m    187\u001b[0m                                   \u001b[0mbuild_in_temp\u001b[0m\u001b[0;34m=\u001b[0m\u001b[0mbuild_in_temp\u001b[0m\u001b[0;34m,\u001b[0m\u001b[0;34m\u001b[0m\u001b[0;34m\u001b[0m\u001b[0m\n",
      "\u001b[0;32m~/miniconda3/envs/cy3/lib/python3.9/site-packages/pyximport/pyxbuild.py\u001b[0m in \u001b[0;36mpyx_to_dll\u001b[0;34m(filename, ext, force_rebuild, build_in_temp, pyxbuild_dir, setup_args, reload_support, inplace)\u001b[0m\n\u001b[1;32m    101\u001b[0m         \u001b[0mobj_build_ext\u001b[0m \u001b[0;34m=\u001b[0m \u001b[0mdist\u001b[0m\u001b[0;34m.\u001b[0m\u001b[0mget_command_obj\u001b[0m\u001b[0;34m(\u001b[0m\u001b[0;34m\"build_ext\"\u001b[0m\u001b[0;34m)\u001b[0m\u001b[0;34m\u001b[0m\u001b[0;34m\u001b[0m\u001b[0m\n\u001b[0;32m--> 102\u001b[0;31m         \u001b[0mdist\u001b[0m\u001b[0;34m.\u001b[0m\u001b[0mrun_commands\u001b[0m\u001b[0;34m(\u001b[0m\u001b[0;34m)\u001b[0m\u001b[0;34m\u001b[0m\u001b[0;34m\u001b[0m\u001b[0m\n\u001b[0m\u001b[1;32m    103\u001b[0m         \u001b[0mso_path\u001b[0m \u001b[0;34m=\u001b[0m \u001b[0mobj_build_ext\u001b[0m\u001b[0;34m.\u001b[0m\u001b[0mget_outputs\u001b[0m\u001b[0;34m(\u001b[0m\u001b[0;34m)\u001b[0m\u001b[0;34m[\u001b[0m\u001b[0;36m0\u001b[0m\u001b[0;34m]\u001b[0m\u001b[0;34m\u001b[0m\u001b[0;34m\u001b[0m\u001b[0m\n",
      "\u001b[0;32m~/miniconda3/envs/cy3/lib/python3.9/distutils/dist.py\u001b[0m in \u001b[0;36mrun_commands\u001b[0;34m(self)\u001b[0m\n\u001b[1;32m    965\u001b[0m         \u001b[0;32mfor\u001b[0m \u001b[0mcmd\u001b[0m \u001b[0;32min\u001b[0m \u001b[0mself\u001b[0m\u001b[0;34m.\u001b[0m\u001b[0mcommands\u001b[0m\u001b[0;34m:\u001b[0m\u001b[0;34m\u001b[0m\u001b[0;34m\u001b[0m\u001b[0m\n\u001b[0;32m--> 966\u001b[0;31m             \u001b[0mself\u001b[0m\u001b[0;34m.\u001b[0m\u001b[0mrun_command\u001b[0m\u001b[0;34m(\u001b[0m\u001b[0mcmd\u001b[0m\u001b[0;34m)\u001b[0m\u001b[0;34m\u001b[0m\u001b[0;34m\u001b[0m\u001b[0m\n\u001b[0m\u001b[1;32m    967\u001b[0m \u001b[0;34m\u001b[0m\u001b[0m\n",
      "\u001b[0;32m~/miniconda3/envs/cy3/lib/python3.9/distutils/dist.py\u001b[0m in \u001b[0;36mrun_command\u001b[0;34m(self, command)\u001b[0m\n\u001b[1;32m    984\u001b[0m         \u001b[0mcmd_obj\u001b[0m\u001b[0;34m.\u001b[0m\u001b[0mensure_finalized\u001b[0m\u001b[0;34m(\u001b[0m\u001b[0;34m)\u001b[0m\u001b[0;34m\u001b[0m\u001b[0;34m\u001b[0m\u001b[0m\n\u001b[0;32m--> 985\u001b[0;31m         \u001b[0mcmd_obj\u001b[0m\u001b[0;34m.\u001b[0m\u001b[0mrun\u001b[0m\u001b[0;34m(\u001b[0m\u001b[0;34m)\u001b[0m\u001b[0;34m\u001b[0m\u001b[0;34m\u001b[0m\u001b[0m\n\u001b[0m\u001b[1;32m    986\u001b[0m         \u001b[0mself\u001b[0m\u001b[0;34m.\u001b[0m\u001b[0mhave_run\u001b[0m\u001b[0;34m[\u001b[0m\u001b[0mcommand\u001b[0m\u001b[0;34m]\u001b[0m \u001b[0;34m=\u001b[0m \u001b[0;36m1\u001b[0m\u001b[0;34m\u001b[0m\u001b[0;34m\u001b[0m\u001b[0m\n",
      "\u001b[0;32m~/miniconda3/envs/cy3/lib/python3.9/site-packages/Cython/Distutils/old_build_ext.py\u001b[0m in \u001b[0;36mrun\u001b[0;34m(self)\u001b[0m\n\u001b[1;32m    191\u001b[0m \u001b[0;34m\u001b[0m\u001b[0m\n\u001b[0;32m--> 192\u001b[0;31m         \u001b[0m_build_ext\u001b[0m\u001b[0;34m.\u001b[0m\u001b[0mbuild_ext\u001b[0m\u001b[0;34m.\u001b[0m\u001b[0mrun\u001b[0m\u001b[0;34m(\u001b[0m\u001b[0mself\u001b[0m\u001b[0;34m)\u001b[0m\u001b[0;34m\u001b[0m\u001b[0;34m\u001b[0m\u001b[0m\n\u001b[0m\u001b[1;32m    193\u001b[0m \u001b[0;34m\u001b[0m\u001b[0m\n",
      "\u001b[0;32m~/miniconda3/envs/cy3/lib/python3.9/distutils/command/build_ext.py\u001b[0m in \u001b[0;36mrun\u001b[0;34m(self)\u001b[0m\n\u001b[1;32m    339\u001b[0m         \u001b[0;31m# Now actually compile and link everything.\u001b[0m\u001b[0;34m\u001b[0m\u001b[0;34m\u001b[0m\u001b[0;34m\u001b[0m\u001b[0m\n\u001b[0;32m--> 340\u001b[0;31m         \u001b[0mself\u001b[0m\u001b[0;34m.\u001b[0m\u001b[0mbuild_extensions\u001b[0m\u001b[0;34m(\u001b[0m\u001b[0;34m)\u001b[0m\u001b[0;34m\u001b[0m\u001b[0;34m\u001b[0m\u001b[0m\n\u001b[0m\u001b[1;32m    341\u001b[0m \u001b[0;34m\u001b[0m\u001b[0m\n",
      "\u001b[0;32m~/miniconda3/envs/cy3/lib/python3.9/distutils/command/build_ext.py\u001b[0m in \u001b[0;36mbuild_extensions\u001b[0;34m(self)\u001b[0m\n\u001b[1;32m    448\u001b[0m         \u001b[0;32melse\u001b[0m\u001b[0;34m:\u001b[0m\u001b[0;34m\u001b[0m\u001b[0;34m\u001b[0m\u001b[0m\n\u001b[0;32m--> 449\u001b[0;31m             \u001b[0mself\u001b[0m\u001b[0;34m.\u001b[0m\u001b[0m_build_extensions_serial\u001b[0m\u001b[0;34m(\u001b[0m\u001b[0;34m)\u001b[0m\u001b[0;34m\u001b[0m\u001b[0;34m\u001b[0m\u001b[0m\n\u001b[0m\u001b[1;32m    450\u001b[0m \u001b[0;34m\u001b[0m\u001b[0m\n",
      "\u001b[0;32m~/miniconda3/envs/cy3/lib/python3.9/distutils/command/build_ext.py\u001b[0m in \u001b[0;36m_build_extensions_serial\u001b[0;34m(self)\u001b[0m\n\u001b[1;32m    473\u001b[0m             \u001b[0;32mwith\u001b[0m \u001b[0mself\u001b[0m\u001b[0;34m.\u001b[0m\u001b[0m_filter_build_errors\u001b[0m\u001b[0;34m(\u001b[0m\u001b[0mext\u001b[0m\u001b[0;34m)\u001b[0m\u001b[0;34m:\u001b[0m\u001b[0;34m\u001b[0m\u001b[0;34m\u001b[0m\u001b[0m\n\u001b[0;32m--> 474\u001b[0;31m                 \u001b[0mself\u001b[0m\u001b[0;34m.\u001b[0m\u001b[0mbuild_extension\u001b[0m\u001b[0;34m(\u001b[0m\u001b[0mext\u001b[0m\u001b[0;34m)\u001b[0m\u001b[0;34m\u001b[0m\u001b[0;34m\u001b[0m\u001b[0m\n\u001b[0m\u001b[1;32m    475\u001b[0m \u001b[0;34m\u001b[0m\u001b[0m\n",
      "\u001b[0;32m~/miniconda3/envs/cy3/lib/python3.9/distutils/command/build_ext.py\u001b[0m in \u001b[0;36mbuild_extension\u001b[0;34m(self, ext)\u001b[0m\n\u001b[1;32m    528\u001b[0m \u001b[0;34m\u001b[0m\u001b[0m\n\u001b[0;32m--> 529\u001b[0;31m         objects = self.compiler.compile(sources,\n\u001b[0m\u001b[1;32m    530\u001b[0m                                          \u001b[0moutput_dir\u001b[0m\u001b[0;34m=\u001b[0m\u001b[0mself\u001b[0m\u001b[0;34m.\u001b[0m\u001b[0mbuild_temp\u001b[0m\u001b[0;34m,\u001b[0m\u001b[0;34m\u001b[0m\u001b[0;34m\u001b[0m\u001b[0m\n",
      "\u001b[0;32m~/miniconda3/envs/cy3/lib/python3.9/distutils/ccompiler.py\u001b[0m in \u001b[0;36mcompile\u001b[0;34m(self, sources, output_dir, macros, include_dirs, debug, extra_preargs, extra_postargs, depends)\u001b[0m\n\u001b[1;32m    573\u001b[0m                 \u001b[0;32mcontinue\u001b[0m\u001b[0;34m\u001b[0m\u001b[0;34m\u001b[0m\u001b[0m\n\u001b[0;32m--> 574\u001b[0;31m             \u001b[0mself\u001b[0m\u001b[0;34m.\u001b[0m\u001b[0m_compile\u001b[0m\u001b[0;34m(\u001b[0m\u001b[0mobj\u001b[0m\u001b[0;34m,\u001b[0m \u001b[0msrc\u001b[0m\u001b[0;34m,\u001b[0m \u001b[0mext\u001b[0m\u001b[0;34m,\u001b[0m \u001b[0mcc_args\u001b[0m\u001b[0;34m,\u001b[0m \u001b[0mextra_postargs\u001b[0m\u001b[0;34m,\u001b[0m \u001b[0mpp_opts\u001b[0m\u001b[0;34m)\u001b[0m\u001b[0;34m\u001b[0m\u001b[0;34m\u001b[0m\u001b[0m\n\u001b[0m\u001b[1;32m    575\u001b[0m \u001b[0;34m\u001b[0m\u001b[0m\n",
      "\u001b[0;32m~/miniconda3/envs/cy3/lib/python3.9/distutils/unixccompiler.py\u001b[0m in \u001b[0;36m_compile\u001b[0;34m(self, obj, src, ext, cc_args, extra_postargs, pp_opts)\u001b[0m\n\u001b[1;32m    119\u001b[0m         \u001b[0;32mexcept\u001b[0m \u001b[0mDistutilsExecError\u001b[0m \u001b[0;32mas\u001b[0m \u001b[0mmsg\u001b[0m\u001b[0;34m:\u001b[0m\u001b[0;34m\u001b[0m\u001b[0;34m\u001b[0m\u001b[0m\n\u001b[0;32m--> 120\u001b[0;31m             \u001b[0;32mraise\u001b[0m \u001b[0mCompileError\u001b[0m\u001b[0;34m(\u001b[0m\u001b[0mmsg\u001b[0m\u001b[0;34m)\u001b[0m\u001b[0;34m\u001b[0m\u001b[0;34m\u001b[0m\u001b[0m\n\u001b[0m\u001b[1;32m    121\u001b[0m \u001b[0;34m\u001b[0m\u001b[0m\n",
      "\u001b[0;31mCompileError\u001b[0m: command '/usr/bin/gcc' failed with exit code 1",
      "\nDuring handling of the above exception, another exception occurred:\n",
      "\u001b[0;31mImportError\u001b[0m                               Traceback (most recent call last)",
      "\u001b[0;32m/tmp/ipykernel_12313/3347296852.py\u001b[0m in \u001b[0;36m<module>\u001b[0;34m\u001b[0m\n\u001b[1;32m     11\u001b[0m \u001b[0mpyximport\u001b[0m\u001b[0;34m.\u001b[0m\u001b[0minstall\u001b[0m\u001b[0;34m(\u001b[0m\u001b[0msetup_args\u001b[0m\u001b[0;34m=\u001b[0m\u001b[0;34m{\u001b[0m\u001b[0;34m'include_dirs'\u001b[0m\u001b[0;34m:\u001b[0m \u001b[0mnp\u001b[0m\u001b[0;34m.\u001b[0m\u001b[0mget_include\u001b[0m\u001b[0;34m(\u001b[0m\u001b[0;34m)\u001b[0m\u001b[0;34m}\u001b[0m\u001b[0;34m,\u001b[0m\u001b[0mreload_support\u001b[0m\u001b[0;34m=\u001b[0m\u001b[0;32mTrue\u001b[0m\u001b[0;34m)\u001b[0m\u001b[0;34m\u001b[0m\u001b[0;34m\u001b[0m\u001b[0m\n\u001b[1;32m     12\u001b[0m \u001b[0msys\u001b[0m\u001b[0;34m.\u001b[0m\u001b[0mpath\u001b[0m\u001b[0;34m.\u001b[0m\u001b[0mappend\u001b[0m\u001b[0;34m(\u001b[0m\u001b[0;34mr\"/home/e.millan/Documents/Stage2020-Nageurs-actifs-proche-de-parois-deformable/OptimizedCython\"\u001b[0m\u001b[0;34m)\u001b[0m\u001b[0;34m\u001b[0m\u001b[0;34m\u001b[0m\u001b[0m\n\u001b[0;32m---> 13\u001b[0;31m \u001b[0;32mfrom\u001b[0m \u001b[0mRigidWallOverdampedLangevin3D_cython\u001b[0m \u001b[0;32mimport\u001b[0m \u001b[0mRigidWallOverdampedLangevin3D\u001b[0m\u001b[0;34m\u001b[0m\u001b[0;34m\u001b[0m\u001b[0m\n\u001b[0m\u001b[1;32m     14\u001b[0m \u001b[0;34m\u001b[0m\u001b[0m\n\u001b[1;32m     15\u001b[0m \u001b[0;32mfrom\u001b[0m \u001b[0mmpl_toolkits\u001b[0m \u001b[0;32mimport\u001b[0m \u001b[0mmplot3d\u001b[0m\u001b[0;34m\u001b[0m\u001b[0;34m\u001b[0m\u001b[0m\n",
      "\u001b[0;32m~/miniconda3/envs/cy3/lib/python3.9/site-packages/pyximport/pyximport.py\u001b[0m in \u001b[0;36mload_module\u001b[0;34m(self, fullname)\u001b[0m\n\u001b[1;32m    457\u001b[0m         \u001b[0;32melse\u001b[0m\u001b[0;34m:\u001b[0m\u001b[0;34m\u001b[0m\u001b[0;34m\u001b[0m\u001b[0m\n\u001b[1;32m    458\u001b[0m             \u001b[0;31m#print \"MODULE\", fullname\u001b[0m\u001b[0;34m\u001b[0m\u001b[0;34m\u001b[0m\u001b[0;34m\u001b[0m\u001b[0m\n\u001b[0;32m--> 459\u001b[0;31m             module = load_module(fullname, self.path,\n\u001b[0m\u001b[1;32m    460\u001b[0m                                  \u001b[0mself\u001b[0m\u001b[0;34m.\u001b[0m\u001b[0mpyxbuild_dir\u001b[0m\u001b[0;34m,\u001b[0m\u001b[0;34m\u001b[0m\u001b[0;34m\u001b[0m\u001b[0m\n\u001b[1;32m    461\u001b[0m                                  \u001b[0mbuild_inplace\u001b[0m\u001b[0;34m=\u001b[0m\u001b[0mself\u001b[0m\u001b[0;34m.\u001b[0m\u001b[0minplace\u001b[0m\u001b[0;34m,\u001b[0m\u001b[0;34m\u001b[0m\u001b[0;34m\u001b[0m\u001b[0m\n",
      "\u001b[0;32m~/miniconda3/envs/cy3/lib/python3.9/site-packages/pyximport/pyximport.py\u001b[0m in \u001b[0;36mload_module\u001b[0;34m(name, pyxfilename, pyxbuild_dir, is_package, build_inplace, language_level, so_path)\u001b[0m\n\u001b[1;32m    229\u001b[0m                 name, traceback.format_exception_only(*sys.exc_info()[:2])))\n\u001b[1;32m    230\u001b[0m             \u001b[0;32mif\u001b[0m \u001b[0msys\u001b[0m\u001b[0;34m.\u001b[0m\u001b[0mversion_info\u001b[0m\u001b[0;34m[\u001b[0m\u001b[0;36m0\u001b[0m\u001b[0;34m]\u001b[0m \u001b[0;34m>=\u001b[0m \u001b[0;36m3\u001b[0m\u001b[0;34m:\u001b[0m\u001b[0;34m\u001b[0m\u001b[0;34m\u001b[0m\u001b[0m\n\u001b[0;32m--> 231\u001b[0;31m                 \u001b[0;32mraise\u001b[0m \u001b[0mexc\u001b[0m\u001b[0;34m.\u001b[0m\u001b[0mwith_traceback\u001b[0m\u001b[0;34m(\u001b[0m\u001b[0mtb\u001b[0m\u001b[0;34m)\u001b[0m\u001b[0;34m\u001b[0m\u001b[0;34m\u001b[0m\u001b[0m\n\u001b[0m\u001b[1;32m    232\u001b[0m             \u001b[0;32melse\u001b[0m\u001b[0;34m:\u001b[0m\u001b[0;34m\u001b[0m\u001b[0;34m\u001b[0m\u001b[0m\n\u001b[1;32m    233\u001b[0m                 \u001b[0mexec\u001b[0m\u001b[0;34m(\u001b[0m\u001b[0;34m\"raise exc, None, tb\"\u001b[0m\u001b[0;34m,\u001b[0m \u001b[0;34m{\u001b[0m\u001b[0;34m'exc'\u001b[0m\u001b[0;34m:\u001b[0m \u001b[0mexc\u001b[0m\u001b[0;34m,\u001b[0m \u001b[0;34m'tb'\u001b[0m\u001b[0;34m:\u001b[0m \u001b[0mtb\u001b[0m\u001b[0;34m}\u001b[0m\u001b[0;34m)\u001b[0m\u001b[0;34m\u001b[0m\u001b[0;34m\u001b[0m\u001b[0m\n",
      "\u001b[0;32m~/miniconda3/envs/cy3/lib/python3.9/site-packages/pyximport/pyximport.py\u001b[0m in \u001b[0;36mload_module\u001b[0;34m(name, pyxfilename, pyxbuild_dir, is_package, build_inplace, language_level, so_path)\u001b[0m\n\u001b[1;32m    212\u001b[0m             \u001b[0;32melse\u001b[0m\u001b[0;34m:\u001b[0m\u001b[0;34m\u001b[0m\u001b[0;34m\u001b[0m\u001b[0m\n\u001b[1;32m    213\u001b[0m                 \u001b[0mmodule_name\u001b[0m \u001b[0;34m=\u001b[0m \u001b[0mname\u001b[0m\u001b[0;34m\u001b[0m\u001b[0;34m\u001b[0m\u001b[0m\n\u001b[0;32m--> 214\u001b[0;31m             so_path = build_module(module_name, pyxfilename, pyxbuild_dir,\n\u001b[0m\u001b[1;32m    215\u001b[0m                                    inplace=build_inplace, language_level=language_level)\n\u001b[1;32m    216\u001b[0m         \u001b[0mmod\u001b[0m \u001b[0;34m=\u001b[0m \u001b[0mimp\u001b[0m\u001b[0;34m.\u001b[0m\u001b[0mload_dynamic\u001b[0m\u001b[0;34m(\u001b[0m\u001b[0mname\u001b[0m\u001b[0;34m,\u001b[0m \u001b[0mso_path\u001b[0m\u001b[0;34m)\u001b[0m\u001b[0;34m\u001b[0m\u001b[0;34m\u001b[0m\u001b[0m\n",
      "\u001b[0;32m~/miniconda3/envs/cy3/lib/python3.9/site-packages/pyximport/pyximport.py\u001b[0m in \u001b[0;36mbuild_module\u001b[0;34m(name, pyxfilename, pyxbuild_dir, inplace, language_level)\u001b[0m\n\u001b[1;32m    184\u001b[0m \u001b[0;34m\u001b[0m\u001b[0m\n\u001b[1;32m    185\u001b[0m     \u001b[0;32mfrom\u001b[0m \u001b[0;34m.\u001b[0m \u001b[0;32mimport\u001b[0m \u001b[0mpyxbuild\u001b[0m\u001b[0;34m\u001b[0m\u001b[0;34m\u001b[0m\u001b[0m\n\u001b[0;32m--> 186\u001b[0;31m     so_path = pyxbuild.pyx_to_dll(pyxfilename, extension_mod,\n\u001b[0m\u001b[1;32m    187\u001b[0m                                   \u001b[0mbuild_in_temp\u001b[0m\u001b[0;34m=\u001b[0m\u001b[0mbuild_in_temp\u001b[0m\u001b[0;34m,\u001b[0m\u001b[0;34m\u001b[0m\u001b[0;34m\u001b[0m\u001b[0m\n\u001b[1;32m    188\u001b[0m                                   \u001b[0mpyxbuild_dir\u001b[0m\u001b[0;34m=\u001b[0m\u001b[0mpyxbuild_dir\u001b[0m\u001b[0;34m,\u001b[0m\u001b[0;34m\u001b[0m\u001b[0;34m\u001b[0m\u001b[0m\n",
      "\u001b[0;32m~/miniconda3/envs/cy3/lib/python3.9/site-packages/pyximport/pyxbuild.py\u001b[0m in \u001b[0;36mpyx_to_dll\u001b[0;34m(filename, ext, force_rebuild, build_in_temp, pyxbuild_dir, setup_args, reload_support, inplace)\u001b[0m\n\u001b[1;32m    100\u001b[0m     \u001b[0;32mtry\u001b[0m\u001b[0;34m:\u001b[0m\u001b[0;34m\u001b[0m\u001b[0;34m\u001b[0m\u001b[0m\n\u001b[1;32m    101\u001b[0m         \u001b[0mobj_build_ext\u001b[0m \u001b[0;34m=\u001b[0m \u001b[0mdist\u001b[0m\u001b[0;34m.\u001b[0m\u001b[0mget_command_obj\u001b[0m\u001b[0;34m(\u001b[0m\u001b[0;34m\"build_ext\"\u001b[0m\u001b[0;34m)\u001b[0m\u001b[0;34m\u001b[0m\u001b[0;34m\u001b[0m\u001b[0m\n\u001b[0;32m--> 102\u001b[0;31m         \u001b[0mdist\u001b[0m\u001b[0;34m.\u001b[0m\u001b[0mrun_commands\u001b[0m\u001b[0;34m(\u001b[0m\u001b[0;34m)\u001b[0m\u001b[0;34m\u001b[0m\u001b[0;34m\u001b[0m\u001b[0m\n\u001b[0m\u001b[1;32m    103\u001b[0m         \u001b[0mso_path\u001b[0m \u001b[0;34m=\u001b[0m \u001b[0mobj_build_ext\u001b[0m\u001b[0;34m.\u001b[0m\u001b[0mget_outputs\u001b[0m\u001b[0;34m(\u001b[0m\u001b[0;34m)\u001b[0m\u001b[0;34m[\u001b[0m\u001b[0;36m0\u001b[0m\u001b[0;34m]\u001b[0m\u001b[0;34m\u001b[0m\u001b[0;34m\u001b[0m\u001b[0m\n\u001b[1;32m    104\u001b[0m         \u001b[0;32mif\u001b[0m \u001b[0mobj_build_ext\u001b[0m\u001b[0;34m.\u001b[0m\u001b[0minplace\u001b[0m\u001b[0;34m:\u001b[0m\u001b[0;34m\u001b[0m\u001b[0;34m\u001b[0m\u001b[0m\n",
      "\u001b[0;32m~/miniconda3/envs/cy3/lib/python3.9/distutils/dist.py\u001b[0m in \u001b[0;36mrun_commands\u001b[0;34m(self)\u001b[0m\n\u001b[1;32m    964\u001b[0m         \"\"\"\n\u001b[1;32m    965\u001b[0m         \u001b[0;32mfor\u001b[0m \u001b[0mcmd\u001b[0m \u001b[0;32min\u001b[0m \u001b[0mself\u001b[0m\u001b[0;34m.\u001b[0m\u001b[0mcommands\u001b[0m\u001b[0;34m:\u001b[0m\u001b[0;34m\u001b[0m\u001b[0;34m\u001b[0m\u001b[0m\n\u001b[0;32m--> 966\u001b[0;31m             \u001b[0mself\u001b[0m\u001b[0;34m.\u001b[0m\u001b[0mrun_command\u001b[0m\u001b[0;34m(\u001b[0m\u001b[0mcmd\u001b[0m\u001b[0;34m)\u001b[0m\u001b[0;34m\u001b[0m\u001b[0;34m\u001b[0m\u001b[0m\n\u001b[0m\u001b[1;32m    967\u001b[0m \u001b[0;34m\u001b[0m\u001b[0m\n\u001b[1;32m    968\u001b[0m     \u001b[0;31m# -- Methods that operate on its Commands --------------------------\u001b[0m\u001b[0;34m\u001b[0m\u001b[0;34m\u001b[0m\u001b[0;34m\u001b[0m\u001b[0m\n",
      "\u001b[0;32m~/miniconda3/envs/cy3/lib/python3.9/distutils/dist.py\u001b[0m in \u001b[0;36mrun_command\u001b[0;34m(self, command)\u001b[0m\n\u001b[1;32m    983\u001b[0m         \u001b[0mcmd_obj\u001b[0m \u001b[0;34m=\u001b[0m \u001b[0mself\u001b[0m\u001b[0;34m.\u001b[0m\u001b[0mget_command_obj\u001b[0m\u001b[0;34m(\u001b[0m\u001b[0mcommand\u001b[0m\u001b[0;34m)\u001b[0m\u001b[0;34m\u001b[0m\u001b[0;34m\u001b[0m\u001b[0m\n\u001b[1;32m    984\u001b[0m         \u001b[0mcmd_obj\u001b[0m\u001b[0;34m.\u001b[0m\u001b[0mensure_finalized\u001b[0m\u001b[0;34m(\u001b[0m\u001b[0;34m)\u001b[0m\u001b[0;34m\u001b[0m\u001b[0;34m\u001b[0m\u001b[0m\n\u001b[0;32m--> 985\u001b[0;31m         \u001b[0mcmd_obj\u001b[0m\u001b[0;34m.\u001b[0m\u001b[0mrun\u001b[0m\u001b[0;34m(\u001b[0m\u001b[0;34m)\u001b[0m\u001b[0;34m\u001b[0m\u001b[0;34m\u001b[0m\u001b[0m\n\u001b[0m\u001b[1;32m    986\u001b[0m         \u001b[0mself\u001b[0m\u001b[0;34m.\u001b[0m\u001b[0mhave_run\u001b[0m\u001b[0;34m[\u001b[0m\u001b[0mcommand\u001b[0m\u001b[0;34m]\u001b[0m \u001b[0;34m=\u001b[0m \u001b[0;36m1\u001b[0m\u001b[0;34m\u001b[0m\u001b[0;34m\u001b[0m\u001b[0m\n\u001b[1;32m    987\u001b[0m \u001b[0;34m\u001b[0m\u001b[0m\n",
      "\u001b[0;32m~/miniconda3/envs/cy3/lib/python3.9/site-packages/Cython/Distutils/old_build_ext.py\u001b[0m in \u001b[0;36mrun\u001b[0;34m(self)\u001b[0m\n\u001b[1;32m    190\u001b[0m             \u001b[0moptimization\u001b[0m\u001b[0;34m.\u001b[0m\u001b[0mdisable_optimization\u001b[0m\u001b[0;34m(\u001b[0m\u001b[0;34m)\u001b[0m\u001b[0;34m\u001b[0m\u001b[0;34m\u001b[0m\u001b[0m\n\u001b[1;32m    191\u001b[0m \u001b[0;34m\u001b[0m\u001b[0m\n\u001b[0;32m--> 192\u001b[0;31m         \u001b[0m_build_ext\u001b[0m\u001b[0;34m.\u001b[0m\u001b[0mbuild_ext\u001b[0m\u001b[0;34m.\u001b[0m\u001b[0mrun\u001b[0m\u001b[0;34m(\u001b[0m\u001b[0mself\u001b[0m\u001b[0;34m)\u001b[0m\u001b[0;34m\u001b[0m\u001b[0;34m\u001b[0m\u001b[0m\n\u001b[0m\u001b[1;32m    193\u001b[0m \u001b[0;34m\u001b[0m\u001b[0m\n\u001b[1;32m    194\u001b[0m     \u001b[0;32mdef\u001b[0m \u001b[0mcheck_extensions_list\u001b[0m\u001b[0;34m(\u001b[0m\u001b[0mself\u001b[0m\u001b[0;34m,\u001b[0m \u001b[0mextensions\u001b[0m\u001b[0;34m)\u001b[0m\u001b[0;34m:\u001b[0m\u001b[0;34m\u001b[0m\u001b[0;34m\u001b[0m\u001b[0m\n",
      "\u001b[0;32m~/miniconda3/envs/cy3/lib/python3.9/distutils/command/build_ext.py\u001b[0m in \u001b[0;36mrun\u001b[0;34m(self)\u001b[0m\n\u001b[1;32m    338\u001b[0m \u001b[0;34m\u001b[0m\u001b[0m\n\u001b[1;32m    339\u001b[0m         \u001b[0;31m# Now actually compile and link everything.\u001b[0m\u001b[0;34m\u001b[0m\u001b[0;34m\u001b[0m\u001b[0;34m\u001b[0m\u001b[0m\n\u001b[0;32m--> 340\u001b[0;31m         \u001b[0mself\u001b[0m\u001b[0;34m.\u001b[0m\u001b[0mbuild_extensions\u001b[0m\u001b[0;34m(\u001b[0m\u001b[0;34m)\u001b[0m\u001b[0;34m\u001b[0m\u001b[0;34m\u001b[0m\u001b[0m\n\u001b[0m\u001b[1;32m    341\u001b[0m \u001b[0;34m\u001b[0m\u001b[0m\n\u001b[1;32m    342\u001b[0m     \u001b[0;32mdef\u001b[0m \u001b[0mcheck_extensions_list\u001b[0m\u001b[0;34m(\u001b[0m\u001b[0mself\u001b[0m\u001b[0;34m,\u001b[0m \u001b[0mextensions\u001b[0m\u001b[0;34m)\u001b[0m\u001b[0;34m:\u001b[0m\u001b[0;34m\u001b[0m\u001b[0;34m\u001b[0m\u001b[0m\n",
      "\u001b[0;32m~/miniconda3/envs/cy3/lib/python3.9/distutils/command/build_ext.py\u001b[0m in \u001b[0;36mbuild_extensions\u001b[0;34m(self)\u001b[0m\n\u001b[1;32m    447\u001b[0m             \u001b[0mself\u001b[0m\u001b[0;34m.\u001b[0m\u001b[0m_build_extensions_parallel\u001b[0m\u001b[0;34m(\u001b[0m\u001b[0;34m)\u001b[0m\u001b[0;34m\u001b[0m\u001b[0;34m\u001b[0m\u001b[0m\n\u001b[1;32m    448\u001b[0m         \u001b[0;32melse\u001b[0m\u001b[0;34m:\u001b[0m\u001b[0;34m\u001b[0m\u001b[0;34m\u001b[0m\u001b[0m\n\u001b[0;32m--> 449\u001b[0;31m             \u001b[0mself\u001b[0m\u001b[0;34m.\u001b[0m\u001b[0m_build_extensions_serial\u001b[0m\u001b[0;34m(\u001b[0m\u001b[0;34m)\u001b[0m\u001b[0;34m\u001b[0m\u001b[0;34m\u001b[0m\u001b[0m\n\u001b[0m\u001b[1;32m    450\u001b[0m \u001b[0;34m\u001b[0m\u001b[0m\n\u001b[1;32m    451\u001b[0m     \u001b[0;32mdef\u001b[0m \u001b[0m_build_extensions_parallel\u001b[0m\u001b[0;34m(\u001b[0m\u001b[0mself\u001b[0m\u001b[0;34m)\u001b[0m\u001b[0;34m:\u001b[0m\u001b[0;34m\u001b[0m\u001b[0;34m\u001b[0m\u001b[0m\n",
      "\u001b[0;32m~/miniconda3/envs/cy3/lib/python3.9/distutils/command/build_ext.py\u001b[0m in \u001b[0;36m_build_extensions_serial\u001b[0;34m(self)\u001b[0m\n\u001b[1;32m    472\u001b[0m         \u001b[0;32mfor\u001b[0m \u001b[0mext\u001b[0m \u001b[0;32min\u001b[0m \u001b[0mself\u001b[0m\u001b[0;34m.\u001b[0m\u001b[0mextensions\u001b[0m\u001b[0;34m:\u001b[0m\u001b[0;34m\u001b[0m\u001b[0;34m\u001b[0m\u001b[0m\n\u001b[1;32m    473\u001b[0m             \u001b[0;32mwith\u001b[0m \u001b[0mself\u001b[0m\u001b[0;34m.\u001b[0m\u001b[0m_filter_build_errors\u001b[0m\u001b[0;34m(\u001b[0m\u001b[0mext\u001b[0m\u001b[0;34m)\u001b[0m\u001b[0;34m:\u001b[0m\u001b[0;34m\u001b[0m\u001b[0;34m\u001b[0m\u001b[0m\n\u001b[0;32m--> 474\u001b[0;31m                 \u001b[0mself\u001b[0m\u001b[0;34m.\u001b[0m\u001b[0mbuild_extension\u001b[0m\u001b[0;34m(\u001b[0m\u001b[0mext\u001b[0m\u001b[0;34m)\u001b[0m\u001b[0;34m\u001b[0m\u001b[0;34m\u001b[0m\u001b[0m\n\u001b[0m\u001b[1;32m    475\u001b[0m \u001b[0;34m\u001b[0m\u001b[0m\n\u001b[1;32m    476\u001b[0m     \u001b[0;34m@\u001b[0m\u001b[0mcontextlib\u001b[0m\u001b[0;34m.\u001b[0m\u001b[0mcontextmanager\u001b[0m\u001b[0;34m\u001b[0m\u001b[0;34m\u001b[0m\u001b[0m\n",
      "\u001b[0;32m~/miniconda3/envs/cy3/lib/python3.9/distutils/command/build_ext.py\u001b[0m in \u001b[0;36mbuild_extension\u001b[0;34m(self, ext)\u001b[0m\n\u001b[1;32m    527\u001b[0m             \u001b[0mmacros\u001b[0m\u001b[0;34m.\u001b[0m\u001b[0mappend\u001b[0m\u001b[0;34m(\u001b[0m\u001b[0;34m(\u001b[0m\u001b[0mundef\u001b[0m\u001b[0;34m,\u001b[0m\u001b[0;34m)\u001b[0m\u001b[0;34m)\u001b[0m\u001b[0;34m\u001b[0m\u001b[0;34m\u001b[0m\u001b[0m\n\u001b[1;32m    528\u001b[0m \u001b[0;34m\u001b[0m\u001b[0m\n\u001b[0;32m--> 529\u001b[0;31m         objects = self.compiler.compile(sources,\n\u001b[0m\u001b[1;32m    530\u001b[0m                                          \u001b[0moutput_dir\u001b[0m\u001b[0;34m=\u001b[0m\u001b[0mself\u001b[0m\u001b[0;34m.\u001b[0m\u001b[0mbuild_temp\u001b[0m\u001b[0;34m,\u001b[0m\u001b[0;34m\u001b[0m\u001b[0;34m\u001b[0m\u001b[0m\n\u001b[1;32m    531\u001b[0m                                          \u001b[0mmacros\u001b[0m\u001b[0;34m=\u001b[0m\u001b[0mmacros\u001b[0m\u001b[0;34m,\u001b[0m\u001b[0;34m\u001b[0m\u001b[0;34m\u001b[0m\u001b[0m\n",
      "\u001b[0;32m~/miniconda3/envs/cy3/lib/python3.9/distutils/ccompiler.py\u001b[0m in \u001b[0;36mcompile\u001b[0;34m(self, sources, output_dir, macros, include_dirs, debug, extra_preargs, extra_postargs, depends)\u001b[0m\n\u001b[1;32m    572\u001b[0m             \u001b[0;32mexcept\u001b[0m \u001b[0mKeyError\u001b[0m\u001b[0;34m:\u001b[0m\u001b[0;34m\u001b[0m\u001b[0;34m\u001b[0m\u001b[0m\n\u001b[1;32m    573\u001b[0m                 \u001b[0;32mcontinue\u001b[0m\u001b[0;34m\u001b[0m\u001b[0;34m\u001b[0m\u001b[0m\n\u001b[0;32m--> 574\u001b[0;31m             \u001b[0mself\u001b[0m\u001b[0;34m.\u001b[0m\u001b[0m_compile\u001b[0m\u001b[0;34m(\u001b[0m\u001b[0mobj\u001b[0m\u001b[0;34m,\u001b[0m \u001b[0msrc\u001b[0m\u001b[0;34m,\u001b[0m \u001b[0mext\u001b[0m\u001b[0;34m,\u001b[0m \u001b[0mcc_args\u001b[0m\u001b[0;34m,\u001b[0m \u001b[0mextra_postargs\u001b[0m\u001b[0;34m,\u001b[0m \u001b[0mpp_opts\u001b[0m\u001b[0;34m)\u001b[0m\u001b[0;34m\u001b[0m\u001b[0;34m\u001b[0m\u001b[0m\n\u001b[0m\u001b[1;32m    575\u001b[0m \u001b[0;34m\u001b[0m\u001b[0m\n\u001b[1;32m    576\u001b[0m         \u001b[0;31m# Return *all* object filenames, not just the ones we just built.\u001b[0m\u001b[0;34m\u001b[0m\u001b[0;34m\u001b[0m\u001b[0;34m\u001b[0m\u001b[0m\n",
      "\u001b[0;32m~/miniconda3/envs/cy3/lib/python3.9/distutils/unixccompiler.py\u001b[0m in \u001b[0;36m_compile\u001b[0;34m(self, obj, src, ext, cc_args, extra_postargs, pp_opts)\u001b[0m\n\u001b[1;32m    118\u001b[0m                        extra_postargs)\n\u001b[1;32m    119\u001b[0m         \u001b[0;32mexcept\u001b[0m \u001b[0mDistutilsExecError\u001b[0m \u001b[0;32mas\u001b[0m \u001b[0mmsg\u001b[0m\u001b[0;34m:\u001b[0m\u001b[0;34m\u001b[0m\u001b[0;34m\u001b[0m\u001b[0m\n\u001b[0;32m--> 120\u001b[0;31m             \u001b[0;32mraise\u001b[0m \u001b[0mCompileError\u001b[0m\u001b[0;34m(\u001b[0m\u001b[0mmsg\u001b[0m\u001b[0;34m)\u001b[0m\u001b[0;34m\u001b[0m\u001b[0;34m\u001b[0m\u001b[0m\n\u001b[0m\u001b[1;32m    121\u001b[0m \u001b[0;34m\u001b[0m\u001b[0m\n\u001b[1;32m    122\u001b[0m     def create_static_lib(self, objects, output_libname,\n",
      "\u001b[0;31mImportError\u001b[0m: Building module RigidWallOverdampedLangevin3D_cython failed: [\"distutils.errors.CompileError: command '/usr/bin/gcc' failed with exit code 1\\n\"]"
     ]
    }
   ],
   "source": [
    "import numpy as np\n",
    "import matplotlib.pyplot as plt\n",
    "import matplotlib as mpl\n",
    "import gc\n",
    "# import seaborn as sns\n",
    "from mpl_toolkits.axes_grid1.inset_locator import inset_axes\n",
    "import scipy\n",
    "import sys\n",
    "import pyximport\n",
    "\n",
    "pyximport.install(setup_args={'include_dirs': np.get_include()},reload_support=True)\n",
    "sys.path.append(r\"/home/e.millan/Documents/Stage2020-Nageurs-actifs-proche-de-parois-deformable/OptimizedCython\")\n",
    "from RigidWallOverdampedLangevin3D_cython import RigidWallOverdampedLangevin3D \n",
    "\n",
    "from mpl_toolkits import mplot3d\n",
    "from scipy.signal import correlate\n",
    "from scipy.optimize import curve_fit\n",
    "\n",
    "import sys\n",
    "import glob\n",
    "from tqdm import tqdm\n",
    "from scipy.optimize import curve_fit\n",
    "from tqdm import trange\n",
    "import matplotlib as mpl\n",
    "mpl.rcParams['figure.dpi']=140\n",
    "mpl.rcParams['xtick.direction']=\"in\"\n",
    "mpl.rcParams['ytick.direction']=\"in\"\n",
    "mpl.rcParams['lines.markeredgecolor']=\"k\"\n",
    "mpl.rcParams['lines.markeredgewidth']=0.2\n",
    "mpl.rcParams['lines.markersize'] = 10\n",
    "from matplotlib import rc\n",
    "rc('font', family='serif')\n",
    "rc('text', usetex=True)\n",
    "rc(\"xtick\", labelsize=20)\n",
    "rc(\"ytick\", labelsize=20)\n",
    "from sys import getsizeof"
   ]
  },
  {
   "cell_type": "code",
   "execution_count": null,
   "id": "applicable-richardson",
   "metadata": {},
   "outputs": [],
   "source": [
    "# sys.path.append(r\"/home/e.millan/Documents/Stage2020-Nageurs-actifs-proche-de-parois-deformable/Results\")\n",
    "# from Functions_Analysis import plot_traj, MSD, PDF, P_z_wall"
   ]
  },
  {
   "cell_type": "markdown",
   "id": "dangerous-plymouth",
   "metadata": {},
   "source": [
    "## 1. Calcul trajectoire avec code origine"
   ]
  },
  {
   "cell_type": "code",
   "execution_count": null,
   "id": "union-eagle",
   "metadata": {},
   "outputs": [],
   "source": [
    "dt = 1/60\n",
    "Nt = 50000000\n",
    "a = 1.5e-6\n",
    "rho = 1050\n",
    "r0 = (0., 0., 1.5e-6)\n",
    "\n",
    "\n",
    "simu = RigidWallOverdampedLangevin3D(dt=dt, Nt=Nt, R=a, rho=rho, x0=r0)\n",
    "simu.trajectory()\n",
    "\n",
    "Rs = np.zeros([Nt, 3])\n",
    "\n",
    "Rs[:,0] = simu.x\n",
    "Rs[:,1] = simu.y\n",
    "Rs[:,2] = simu.z"
   ]
  },
  {
   "cell_type": "code",
   "execution_count": null,
   "id": "collective-shopping",
   "metadata": {},
   "outputs": [],
   "source": [
    "print(\"t_num ~\", np.around(simu.Nt*simu.dt,1), \"s\")"
   ]
  },
  {
   "cell_type": "markdown",
   "id": "floppy-particle",
   "metadata": {},
   "source": [
    "## 2. Plot trajectoire"
   ]
  },
  {
   "cell_type": "code",
   "execution_count": null,
   "id": "joined-painting",
   "metadata": {},
   "outputs": [],
   "source": [
    "# plot_traj(simu.t,Rs)"
   ]
  },
  {
   "cell_type": "markdown",
   "id": "educational-series",
   "metadata": {},
   "source": [
    "## 3. plot PDF\n",
    "\n",
    "### 3.a) $P_\\mathrm{eq}(z)$\n",
    "La PDF théorique des altitudes $z$ à l'équilibre s'écrit :\n",
    "\\begin{equation}\n",
    "    P_\\mathrm{eq} (z) = N ~ \\exp(- B ~ e^{- \\frac{z}{l_\\mathrm{d}} } - \\frac{z}{l_\\mathrm{b}} ),\n",
    "\\end{equation}\n",
    "où $N$ est une constante de normalisation, $l_\\mathrm{d}$ la longueur de Debye et $l_\\mathrm{b}$ la longueur de Boltzman, $B=4.8$ un facteur déterminer expérimentalement $\\color{red}{\\mathrm{(À ~vérifier ~!!)}}$."
   ]
  },
  {
   "cell_type": "code",
   "execution_count": null,
   "id": "therapeutic-fisher",
   "metadata": {},
   "outputs": [],
   "source": [
    "plt.axis([-1e-7, 3.2e-6, 5e3, 2e6])\n",
    "simu.PDF(\"z\", N_tau=10, space=\"wall\", bins=100, plot=True)"
   ]
  },
  {
   "cell_type": "markdown",
   "id": "scientific-mexico",
   "metadata": {},
   "source": [
    "On peut calculer la valeur moyenne des coeficients de diffusion collinaire et transverse à l'aide de $P_\\mathrm{eq}(z)$ :\n",
    "\\begin{equation}\n",
    "    \\langle D_i \\rangle_z = \\int_{-\\infty}^{+\\infty} D_i ~ P_\\mathrm{eq}(z) \\mathrm{d}z .\n",
    "\\end{equation}"
   ]
  },
  {
   "cell_type": "code",
   "execution_count": null,
   "id": "inappropriate-reply",
   "metadata": {},
   "outputs": [],
   "source": [
    "# zth = np.linspace(1e-7, 3e-6, 200) ## Une liste de z\n",
    "# pdf_theo = P_z_wall(zth, 1, 4.8, simu.lD, simu.lB) ## P_eq(z)\n",
    "# Peq_z = pdf_theo/np.trapz(pdf_theo, zth) ## Normalisation par N\n",
    "\n",
    "# \"\"\" \n",
    "#     Sur l'axe Z\n",
    "# \"\"\"\n",
    "# Dz = (simu.kb*simu.T) / (simu._gamma_z(zth)) ## D_\\perp (z)\n",
    "# mean_Dz_theo = np.trapz(Dz * Peq_z, zth) ## <D_\\perp (z)>\n",
    "# print(\"<Dz>_theo/D_0 = {:.2f}\".format(mean_Dz_theo/(simu.kb * simu.T / simu.gamma)))\n",
    "\n",
    "# \"\"\" \n",
    "#     Sur l'axe X\n",
    "# \"\"\"\n",
    "# Dx = (simu.kb*simu.T) / (simu._gamma_xy(zth)) ## D_|| (z)\n",
    "# mean_Dx_theo = np.trapz(Dx * Peq_z, zth)  ## <D_|| (z)>\n",
    "# print(\"<Dx>_theo/D_0 = {:.10f}\".format(mean_Dx_theo/(simu.kb * simu.T / simu.gamma)))"
   ]
  },
  {
   "cell_type": "markdown",
   "id": "further-battery",
   "metadata": {},
   "source": [
    "### 3.b) $P(\\Delta x_i, \\tau)$, $x_i = \\{ x,y,z \\}$.\n",
    "\n",
    "La PDF des déplacement en $x$, $y$ et $z$ sont données par la relation: \n",
    "\n",
    "\n",
    "\\begin{equation}\n",
    "    P(\\Delta x_i, \\tau) = \\frac{1}{N} \\int_{-\\infty}^{+\\infty} P(D_i) \\exp \\left( -\\frac{\\Delta x_i^2}{4 D_i \\tau} \\right) ~\\mathrm{d}D_i,\n",
    "\\end{equation}\n",
    "où le déplacement est calculé à partir du retard $\\tau$ tel que $\\Delta x_i = x_i(t+\\tau)-x_i(t)$ et $N$ est le facteur de normalisation.\n",
    "\n",
    "La PDF des coeficients de disctributioin est donnée par :\n",
    "\n",
    "\\begin{equation}\n",
    "    P(D_i) = \\int_{-\\infty}^{+\\infty} D_i(z)~ P_\\mathrm{eq}(z)~ \\mathrm{d}z.\n",
    "\\end{equation}\n",
    "\n",
    "Lorsque $\\tau \\rightarrow +\\infty$, c'est-à-dire lorsque $\\tau \\gg \\tau_\\mathrm{c}$, la PDF des déplacements en $z$ devient :\n",
    "\n",
    "\\begin{equation}\n",
    "    \\lim_{\\tau \\rightarrow +\\infty} P(\\Delta z, \\tau) = \\int_{-\\infty}^{+\\infty} P_\\mathrm{eq}(z+ \\Delta z)~ P_\\mathrm{eq}(z) ~\\mathrm{d}z,\n",
    "\\end{equation}\n",
    "\n",
    "où $\\tau_\\mathrm{c}$ est le temps caractéristique pour atteindre l'equilibre thermodynamique et est donnée par :\n",
    "\n",
    "\\begin{equation}\n",
    "    \\tau_\\mathrm{c} = \\frac{l_\\mathrm{B} a}{D_0}.\n",
    "\\end{equation}\n",
    "\n",
    "$\\mathrm{\\color{purple}{SOURCE~ :~ thèse~ Maxime, ~page ~90}}$."
   ]
  },
  {
   "cell_type": "code",
   "execution_count": null,
   "id": "mature-saskatchewan",
   "metadata": {
    "scrolled": false
   },
   "outputs": [],
   "source": [
    "bins = 100\n",
    "n_tau = 1\n",
    "plt.axis([-6, 6,1e0, 1e7])\n",
    "simu.PDF(\"dx\", N_tau=n_tau, space=\"wall\", bins=bins, plot=True)"
   ]
  },
  {
   "cell_type": "code",
   "execution_count": null,
   "id": "narrow-district",
   "metadata": {},
   "outputs": [],
   "source": [
    "plt.axis([-6, 6,1e0, 1e7])\n",
    "simu.PDF(\"dy\", N_tau=n_tau, space=\"wall\", bins=100, plot=True)"
   ]
  },
  {
   "cell_type": "code",
   "execution_count": null,
   "id": "macro-africa",
   "metadata": {
    "scrolled": false
   },
   "outputs": [],
   "source": [
    "plt.axis([-10, 10,1e0, 1e8])\n",
    "simu.PDF(\"dz\", N_tau=n_tau, space=\"wall\", bins=100, plot=True)"
   ]
  },
  {
   "cell_type": "code",
   "execution_count": null,
   "id": "generous-milwaukee",
   "metadata": {},
   "outputs": [],
   "source": [
    "plt.axis([-10, 10,0.5e-1, 2e6])\n",
    "simu.PDF(\"dz\", N_tau=3000, space=\"wall\", bins=100, plot=True)"
   ]
  },
  {
   "cell_type": "markdown",
   "id": "gorgeous-property",
   "metadata": {},
   "source": [
    "## 4. PLot MSD"
   ]
  },
  {
   "cell_type": "code",
   "execution_count": null,
   "id": "involved-greek",
   "metadata": {},
   "outputs": [],
   "source": [
    "# MSD(\"z\", Rs, simu.dt, simu.Nt, D_mean=mean_Dz_theo, lD=simu.lD, lB=simu.lB, space=\"wall\")"
   ]
  },
  {
   "cell_type": "code",
   "execution_count": null,
   "id": "a93e382a",
   "metadata": {},
   "outputs": [],
   "source": [
    "simu.MSD(axis=\"z\", plot=True, output=False)"
   ]
  },
  {
   "cell_type": "markdown",
   "id": "found-throat",
   "metadata": {},
   "source": [
    "## 5. Cumulant ordre 4\n",
    "\n",
    "Le calcul du cumulant d'ordre $4$ s'effectue à l'aide de la relation :\n",
    "\n",
    "\\begin{equation}\n",
    "    C^{(4)} = \\frac{1}{4!}\\left( \\langle z(t)-z(t+\\tau) \\rangle^4 - 3 \\langle (z(t)-z(t+\\tau)^2 \\rangle^2 \\right).\n",
    "\\end{equation}\n",
    "\n",
    "Théoriquement, au temps court on a :\n",
    "\\begin{equation}\n",
    "    \\lim_{\\tau \\rightarrow 0}~C^{(4)} = \\frac{\\tau ^2}{2}\\left( \\langle D_{\\|}^2 \\rangle - \\langle D_{\\|} \\rangle^2 \\right),\n",
    "\\end{equation}\n",
    " et au temps long :\n",
    " \n",
    "\\begin{equation}\n",
    "    \\lim_{\\tau \\rightarrow +\\infty}~C^{(4)} = C^{(4)}_0 \\tau + C^{(4)}_1.\n",
    "\\end{equation}\n",
    "\n",
    " où $C^{(4)}_0$ et $C^{(4)}_1$ sont à determiner numériquement à l'aide du code d'Arthur Alexandre (cf. cumul4.py et note)."
   ]
  },
  {
   "cell_type": "code",
   "execution_count": null,
   "id": "9d6c3fb3",
   "metadata": {},
   "outputs": [],
   "source": [
    "simu.Cumulant4(axis=\"x\", plot=True, output=False)"
   ]
  },
  {
   "cell_type": "code",
   "execution_count": null,
   "id": "interested-packing",
   "metadata": {},
   "outputs": [],
   "source": []
  },
  {
   "cell_type": "code",
   "execution_count": null,
   "id": "architectural-spectacular",
   "metadata": {},
   "outputs": [],
   "source": []
  },
  {
   "cell_type": "code",
   "execution_count": null,
   "id": "cubic-driving",
   "metadata": {},
   "outputs": [],
   "source": []
  },
  {
   "cell_type": "code",
   "execution_count": null,
   "id": "dynamic-traveler",
   "metadata": {},
   "outputs": [],
   "source": []
  },
  {
   "cell_type": "code",
   "execution_count": null,
   "id": "lovely-switch",
   "metadata": {},
   "outputs": [],
   "source": []
  }
 ],
 "metadata": {
  "kernelspec": {
   "display_name": "Python 3 (ipykernel)",
   "language": "python",
   "name": "python3"
  },
  "language_info": {
   "codemirror_mode": {
    "name": "ipython",
    "version": 3
   },
   "file_extension": ".py",
   "mimetype": "text/x-python",
   "name": "python",
   "nbconvert_exporter": "python",
   "pygments_lexer": "ipython3",
   "version": "3.9.5"
  }
 },
 "nbformat": 4,
 "nbformat_minor": 5
}
