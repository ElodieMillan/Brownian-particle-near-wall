{
 "cells": [
  {
   "cell_type": "markdown",
   "id": "material-bench",
   "metadata": {},
   "source": [
    "# Génerateur de trajectoire \n",
    "\n"
   ]
  },
  {
   "cell_type": "code",
   "execution_count": 1,
   "id": "laden-stone",
   "metadata": {},
   "outputs": [],
   "source": [
    "import numpy as np\n",
    "\n",
    "import sys\n",
    "sys.path.append(r\"/home/e.millan/Documents/Stage2020-Nageurs-actifs-proche-de-parois-deformable/PurePython\")\n",
    "\n",
    "from OverdampedLangevin3D import Langevin3D\n",
    "from InertialLangevin3D import InertialLangevin3D\n",
    "from RigidWallOverdampedLangevin3D import RigidWallOverdampedLangevin3D \n",
    "from RigidWall_InertialLangevin3D import RigidWallInertialLangevin3D \n",
    "\n",
    "import os "
   ]
  },
  {
   "cell_type": "markdown",
   "id": "eligible-bonus",
   "metadata": {},
   "source": [
    "## Create data"
   ]
  },
  {
   "cell_type": "code",
   "execution_count": 2,
   "id": "bronze-mixer",
   "metadata": {},
   "outputs": [],
   "source": [
    "#Choix: Langevin3D, InertialLangevin3D, RigidWallOverdampedLangevin3D, RigidWallInertialLangevin3D\n",
    "\n",
    "Classes = [\"Overd-Bulk\", \"Inertial-Bulk\", \"Overd-RigidWall\", \"Inertial-RigidWall\"]\n",
    "Classe_use = Classes[2]\n",
    "Codes = ['OverdampedLangevin3D.py', 'InertialLangevin3D.py', 'RigidWallOverdampedLangevin3D.py', 'RigidWall_InertialLangevin3D.py']\n",
    "Codes_used = Codes[2]\n",
    "\n",
    "dt = 1e-3\n",
    "Nt = 1000000\n",
    "a = 1.5e-6\n",
    "rho = 1050\n",
    "r0 = (0., 0., 1.5e-6)\n",
    "\n",
    "simu = RigidWallOverdampedLangevin3D(dt=dt, Nt=Nt, R=a, rho=rho, x0=r0)\n",
    "simu.trajectory()"
   ]
  },
  {
   "cell_type": "code",
   "execution_count": 3,
   "id": "british-christian",
   "metadata": {},
   "outputs": [],
   "source": [
    "Rs = np.zeros([Nt, 3])\n",
    "Rs[:,0] = simu.x\n",
    "Rs[:,1] = simu.y\n",
    "Rs[:,2] = simu.z\n",
    "\n",
    "t = simu.t\n",
    "\n",
    "lD = simu.lD\n",
    "lB = simu.lB\n",
    "kBT = simu.kb*simu.T"
   ]
  },
  {
   "cell_type": "markdown",
   "id": "introductory-decision",
   "metadata": {},
   "source": [
    "## Save data"
   ]
  },
  {
   "cell_type": "code",
   "execution_count": 7,
   "id": "harmful-somerset",
   "metadata": {},
   "outputs": [
    {
     "name": "stdout",
     "output_type": "stream",
     "text": [
      "Overd-RigidWall/Nt1000000_dt0p001_a1p5_rho1050.npy\n"
     ]
    }
   ],
   "source": [
    "Filename = \"Nt{}_dt{}_a{}_rho{}\".format(Nt, dt, a*1e6, rho)  #\n",
    "\n",
    "os.system(\"mkdir \"+ Classe_use)\n",
    "\n",
    "Filename = Classe_use+ \"/\" \\\n",
    "           + Filename.replace(\".\", \"p\") + \".npy\" \n",
    "DataSet = {}\n",
    "DataSet[\"Trajectoire\"] = Rs\n",
    "DataSet[\"gamma_z\"] = simu._gamma_z(simu.z)\n",
    "DataSet[\"t\"] = t\n",
    "DataSet[\"dt\"] = dt\n",
    "DataSet[\"Nt\"] = Nt\n",
    "DataSet[\"Rayon particule\"] = a\n",
    "DataSet[\"rho\"] = rho\n",
    "DataSet[\"kbT\"] = kBT\n",
    "DataSet[\"lD\"] = lD\n",
    "DataSet[\"lB\"] = lB\n",
    "DataSet[\"Code origine\"] = Codes_used\n",
    "np.save(Filename, DataSet)\n",
    "print(Filename)"
   ]
  },
  {
   "cell_type": "code",
   "execution_count": 8,
   "id": "atmospheric-hazard",
   "metadata": {},
   "outputs": [
    {
     "name": "stdout",
     "output_type": "stream",
     "text": [
      "[6.00829595e-08 6.00068417e-08 5.97729117e-08 ... 6.52170786e-07\n",
      " 6.23913978e-07 6.05782449e-07]\n"
     ]
    }
   ],
   "source": [
    "print(simu._gamma_z(simu.z))"
   ]
  },
  {
   "cell_type": "code",
   "execution_count": null,
   "id": "northern-sustainability",
   "metadata": {},
   "outputs": [],
   "source": []
  }
 ],
 "metadata": {
  "kernelspec": {
   "display_name": "Python 3 (ipykernel)",
   "language": "python",
   "name": "python3"
  },
  "language_info": {
   "codemirror_mode": {
    "name": "ipython",
    "version": 3
   },
   "file_extension": ".py",
   "mimetype": "text/x-python",
   "name": "python",
   "nbconvert_exporter": "python",
   "pygments_lexer": "ipython3",
   "version": "3.9.5"
  }
 },
 "nbformat": 4,
 "nbformat_minor": 5
}
