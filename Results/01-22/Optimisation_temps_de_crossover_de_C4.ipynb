{
 "cells": [
  {
   "cell_type": "markdown",
   "id": "bea492c7",
   "metadata": {},
   "source": [
    "# Optimisation du temps de crossover du 4ème cumulant\n",
    "\n",
    "Code origine : $\\mathrm{\\color{red}{RigidWallOverdampedLangevin3D\\_cython}}$\n",
    "\n",
    "Auteur : $\\mathrm{\\color{purple}{Élodie ~MILLAN}}$\n",
    "\n",
    "Date : 11/01/2022"
   ]
  },
  {
   "cell_type": "code",
   "execution_count": 12,
   "id": "b6c0ad33",
   "metadata": {},
   "outputs": [],
   "source": [
    "import numpy as np\n",
    "import matplotlib.pyplot as plt\n",
    "import matplotlib as mpl\n",
    "import gc\n",
    "import seaborn as sns\n",
    "from mpl_toolkits.axes_grid1.inset_locator import inset_axes\n",
    "import scipy\n",
    "import sys\n",
    "\n",
    "sys.path.append(r\"/home/e.millan/Documents/Stage2020-Nageurs-actifs-proche-de-parois-deformable/OptimizedCython/\")\n",
    "# from OverdampedLangevin3D import Langevin3D\n",
    "# from InertialLangevin3D import InertialLangevin3D\n",
    "from RigidWallOverdampedLangevin3D_cython import RigidWallOverdampedLangevin3D \n",
    "\n",
    "from mpl_toolkits import mplot3d\n",
    "from scipy.signal import correlate\n",
    "from scipy.optimize import curve_fit\n",
    "\n",
    "import sys\n",
    "import glob\n",
    "from tqdm import tqdm\n",
    "from scipy.optimize import curve_fit\n",
    "from tqdm import trange\n",
    "import matplotlib as mpl\n",
    "mpl.rcParams['figure.dpi']=140\n",
    "mpl.rcParams['xtick.direction']=\"in\"\n",
    "mpl.rcParams['ytick.direction']=\"in\"\n",
    "mpl.rcParams['lines.markeredgecolor']=\"k\"\n",
    "mpl.rcParams['lines.markeredgewidth']=0.2\n",
    "mpl.rcParams['lines.markersize'] = 10\n",
    "from matplotlib import rc\n",
    "rc('font', family='serif')\n",
    "rc('text', usetex=True)\n",
    "rc(\"xtick\", labelsize=20)\n",
    "rc(\"ytick\", labelsize=20)\n",
    "from sys import getsizeof\n",
    "\n",
    "sys.path.append(r\"/home/e.millan/Documents/Stage2020-Nageurs-actifs-proche-de-parois-deformable/Results\")\n",
    "from Functions_Analysis import plot_traj, MSD, P_z_wall, P_Deltaz_longTime"
   ]
  },
  {
   "cell_type": "code",
   "execution_count": 19,
   "id": "207b0862",
   "metadata": {},
   "outputs": [],
   "source": [
    "dt = 1/60\n",
    "Nt = 100000000\n",
    "rho = 1050\n",
    "\n",
    "kBT = 1.38e-23*300\n",
    "g = 9.81\n",
    "delta_rho = 50\n",
    "a = np.linspace(1.5e-6, 2.5e-6, 1000)\n",
    "\n",
    "lB = kBT/(4/3*np.pi*a**3*delta_rho*g)\n",
    "lD = np.linspace(20e-9, 100e-9, 5)"
   ]
  },
  {
   "cell_type": "code",
   "execution_count": 21,
   "id": "0149d2fd",
   "metadata": {},
   "outputs": [],
   "source": [
    "Rs = np.zeros([Nt, 3, len(lD)])\n",
    "\n",
    "for k in range(len(lD)):\n",
    "    simu = RigidWallOverdampedLangevin3D(dt=dt, Nt=Nt, R=a[0], lD=lD[k], rho=rho, x0=r0)\n",
    "    simu.trajectory()\n",
    "    \n",
    "    Rs[:,0,k] = simu.x\n",
    "    Rs[:,1,k] = simu.y\n",
    "    Rs[:,2,k] = simu.z\n",
    "    \n",
    "    "
   ]
  },
  {
   "cell_type": "code",
   "execution_count": null,
   "id": "86b380cd",
   "metadata": {},
   "outputs": [],
   "source": []
  },
  {
   "cell_type": "code",
   "execution_count": null,
   "id": "6020b25f",
   "metadata": {},
   "outputs": [],
   "source": []
  }
 ],
 "metadata": {
  "kernelspec": {
   "display_name": "Python 3 (ipykernel)",
   "language": "python",
   "name": "python3"
  },
  "language_info": {
   "codemirror_mode": {
    "name": "ipython",
    "version": 3
   },
   "file_extension": ".py",
   "mimetype": "text/x-python",
   "name": "python",
   "nbconvert_exporter": "python",
   "pygments_lexer": "ipython3",
   "version": "3.10.0"
  }
 },
 "nbformat": 4,
 "nbformat_minor": 5
}
