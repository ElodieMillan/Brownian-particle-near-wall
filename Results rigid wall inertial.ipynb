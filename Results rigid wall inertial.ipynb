{
 "cells": [
  {
   "cell_type": "code",
   "execution_count": 1,
   "metadata": {},
   "outputs": [],
   "source": [
    "import numpy as np\n",
    "import matplotlib.pyplot as plt\n",
    "\n",
    "from RigidWallInertialLangevin3D import RigidWallInertialLangevin3D\n",
    "\n",
    "from mpl_toolkits import mplot3d\n",
    "from scipy.signal import correlate\n",
    "\n",
    "import matplotlib as mpl\n",
    "mpl.rcParams['figure.dpi'] = 140"
   ]
  },
  {
   "cell_type": "markdown",
   "metadata": {},
   "source": [
    "# Langevin 3D Inertial close rigid wall"
   ]
  },
  {
   "cell_type": "markdown",
   "metadata": {},
   "source": [
    "Voici la partie du code qui cacule la position $x_i$ tel que :\n",
    "\n",
    "\\begin{equation}\n",
    "    x_i = x_{i-1} + ( - \\Delta m g + R_{elec} + F_{correction} ) \\frac{\\Delta t}{\\gamma (z)} + a(\\gamma (z)) * dB_t * \\Delta t\n",
    "\\end{equation}\n",
    "\n",
    "<font color='blue'> \n",
    "    J'avais des problème au niveau de la PDF, en tatonant pour voir ce qui ne va pas, j'ai remarqué que c'est le poids qui n'allait pas. </font>\n",
    "<font color='blue'>     \n",
    "    Comme ci-dessous, j'ai divisé le poids $\\Delta m g$ par deux et dans ce cas, la PDF est quasi parfaite (voir cellule 7). </font>\n",
    "<font color='blue'>     \n",
    "    Par contre la MSD (cellule 11) ne va plus trop entre la théorique (calculé avec le coef de diffusion moyen) et la MSD numérique. Le facteur 1/2 décale les MSD théoriques des MSD numérique. C'est étrange ...</font>\n",
    "\n",
    "\n",
    "if axis == \"z\":\n",
    "\n",
    "    gamma = self._gamma_z(zi_1) # Pade formula\n",
    "    weight = self.delta_m * self.g * self.dt / (gamma) / 2\n",
    "    elec = (\n",
    "            (4 * self.kb * self.T)\n",
    "            / (self.lD)\n",
    "            * np.exp(-zi_1 / self.lD)\n",
    "            * self.dt\n",
    "            / gamma\n",
    "           )\n",
    "    correction = (\n",
    "                  self.kb\n",
    "                  * self.T\n",
    "                  * (42 * self.R * zi_1 ** 2 + 24 * self.R ** 2 * zi_1 + 4 *                        self.R ** 3)\n",
    "                  / ((6 * zi_1 ** 2 + 9 * self.R * zi_1 + 2 * self.R ** 2)**2 )\n",
    "                  * self.dt\n",
    "                  / gamma\n",
    "                 )\n",
    "\n",
    "\n",
    "else:\n",
    "\n",
    "    gamma = self._gamma_xy(zi_1) # Libchaber formula\n",
    "    elec = 0\n",
    "    weight = 0\n",
    "    correction = 0\n",
    "\n",
    "xi = xi_1 - weight + elec + correction + self._a(gamma) * rng * self.dt\n",
    "\n",
    "if axis == \"z\":\n",
    "\n",
    "    if xi <= 0:\n",
    "    xi = -xi"
   ]
  },
  {
   "cell_type": "code",
   "execution_count": null,
   "metadata": {},
   "outputs": [],
   "source": [
    "langevin3D = RigidWallInertialLangevin3D(dt=1/600, Nt=1000000, R=1.5e-6, rho=1050, x0=(0., 0., 1.5e-6))\n",
    "langevin3D.trajectory()"
   ]
  },
  {
   "cell_type": "markdown",
   "metadata": {},
   "source": [
    "## 1. Trajectory"
   ]
  },
  {
   "cell_type": "code",
   "execution_count": null,
   "metadata": {},
   "outputs": [],
   "source": [
    "langevin3D.plotTrajectory()"
   ]
  },
  {
   "cell_type": "code",
   "execution_count": null,
   "metadata": {},
   "outputs": [],
   "source": [
    "plt.plot(langevin3D.t[0:langevin3D.Nt], langevin3D.z[0:langevin3D.Nt])\n",
    "plt.ticklabel_format(axis=\"y\", style=\"sci\", scilimits=(0, 0))"
   ]
  },
  {
   "cell_type": "markdown",
   "metadata": {},
   "source": [
    "## 2. Mean square displacement"
   ]
  },
  {
   "cell_type": "code",
   "execution_count": null,
   "metadata": {},
   "outputs": [],
   "source": [
    "MSDx = langevin3D.MSD1D(\"x\", output=True)\n",
    "MSDy = langevin3D.MSD1D(\"y\", output=True)\n",
    "MSDz = langevin3D.MSD1D(\"z\", output=True)"
   ]
  },
  {
   "cell_type": "code",
   "execution_count": null,
   "metadata": {
    "scrolled": false
   },
   "outputs": [],
   "source": [
    "fig1 = plt.figure()\n",
    "plt.loglog(\n",
    "    langevin3D.t[langevin3D.list_dt_MSD],\n",
    "    MSDx,\n",
    "    color=\"red\",\n",
    "    linewidth=0.8,\n",
    "    label=\"MSDx inertial\",\n",
    ")\n",
    "plt.loglog(\n",
    "    langevin3D.t[langevin3D.list_dt_MSD] ,\n",
    "    MSDy,\n",
    "    color=\"green\",\n",
    "    linewidth=0.8,\n",
    "    label=\"MSDy inertial\",\n",
    ")\n",
    "plt.loglog(\n",
    "    langevin3D.t[langevin3D.list_dt_MSD] ,\n",
    "    MSDz,\n",
    "    color=\"blue\",\n",
    "    linewidth=0.8,\n",
    "    label=\"MSDz inertial\",\n",
    ")\n",
    "plt.plot(\n",
    "    langevin3D.t[langevin3D.list_dt_MSD] ,\n",
    "    (2 * langevin3D.kb * langevin3D.T / langevin3D.gamma)\n",
    "    * langevin3D.t[langevin3D.list_dt_MSD],\n",
    "    color=\"black\",\n",
    "    linewidth=0.8,\n",
    "    label=\"Non inertial theory : x = 2D t\",\n",
    ")\n",
    "plt.xlabel(\"Times t/$ \\tau $ [s]\")\n",
    "plt.ylabel(\"MSD 1D [m²]\")\n",
    "plt.title(\"Mean square displacement 1D\")\n",
    "plt.legend()\n",
    "plt.show()"
   ]
  },
  {
   "cell_type": "markdown",
   "metadata": {},
   "source": [
    "## 3. Probability density function of z"
   ]
  },
  {
   "cell_type": "code",
   "execution_count": null,
   "metadata": {},
   "outputs": [],
   "source": [
    "axis = \"z\"\n",
    "bins = 100\n",
    "hist, bin_edges = np.histogram(langevin3D.z, bins=bins, density=True)\n",
    "binsPosition = (bin_edges[:-1] + bin_edges[1:]) / 2\n",
    "pdf = hist * 1/np.trapz(hist,binsPosition)\n",
    "\n",
    "pdf_theo = np.exp( -(4) * np.exp(- binsPosition/langevin3D.lD) - binsPosition/langevin3D.lB)\n",
    "pdf_theo = pdf_theo * 1/np.trapz(pdf_theo,binsPosition) # normalised\n",
    "\n",
    "plt.semilogy(binsPosition,pdf, \"*\", label=\"numerical with bins = \" + str(bins))\n",
    "plt.plot(binsPosition, pdf_theo, \"-\", label=\"theory\")\n",
    "\n",
    "plt.title(\"Probability density function of \" + axis)\n",
    "plt.xlabel(axis + \" $[m]$\")\n",
    "plt.ylabel(\"PDF $[m^{-1}]$\")\n",
    "plt.ticklabel_format(axis=\"x\", style=\"sci\", scilimits=(0, 0))\n",
    "plt.legend()\n",
    "plt.show()"
   ]
  },
  {
   "cell_type": "code",
   "execution_count": null,
   "metadata": {},
   "outputs": [],
   "source": [
    "plt.semilogy(binsPosition, pdf - pdf_theo, \"*\", label=\"theo - num : with bins = \" + str(bins))\n",
    "\n",
    "plt.title(\"Probability density function of \" + axis)\n",
    "plt.xlabel(axis + \" $[m]$\")\n",
    "plt.ylabel(\"PDF $[m^{-1}]$\")\n",
    "plt.ticklabel_format(axis=\"x\", style=\"sci\", scilimits=(0, 0))\n",
    "plt.legend()\n",
    "plt.axis([None, None, 1e0, 1e6])\n",
    "plt.show()"
   ]
  },
  {
   "cell_type": "markdown",
   "metadata": {},
   "source": [
    "## 4. Mesure average of diffusion coeficient"
   ]
  },
  {
   "cell_type": "code",
   "execution_count": null,
   "metadata": {},
   "outputs": [],
   "source": [
    "# ----- On Z --------- !\n",
    "# Diffusion coef\n",
    "Dz = (langevin3D.kb*langevin3D.T) / (langevin3D._gamma_z(binsPosition))\n",
    "# function to integrate\n",
    "f_theo = Dz * pdf_theo\n",
    "# Theoritical diffusion coef\n",
    "mean_D_theo = np.trapz(f_theo,binsPosition)\n",
    "print(\"<Dz>_theo/D_0 = {:.2f}\".format(mean_D_theo/(langevin3D.kb * langevin3D.T / langevin3D.gamma)))\n",
    "\n",
    "# -------- On X ----------- !\n",
    "Dx = (langevin3D.kb*langevin3D.T) / (langevin3D._gamma_xy(binsPosition))\n",
    "fx_theo = Dx * pdf_theo\n",
    "mean_Dx_theo = np.trapz(fx_theo,binsPosition)\n",
    "print(\"<Dx>_theo/D_0 = {:.10f}\".format(mean_Dx_theo/(langevin3D.kb * langevin3D.T / langevin3D.gamma)))"
   ]
  },
  {
   "cell_type": "code",
   "execution_count": null,
   "metadata": {},
   "outputs": [],
   "source": [
    "Do = langevin3D.kb * langevin3D.T / langevin3D.gamma"
   ]
  },
  {
   "cell_type": "code",
   "execution_count": null,
   "metadata": {},
   "outputs": [],
   "source": [
    "fig1 = plt.figure()\n",
    "plt.loglog(\n",
    "    langevin3D.t[langevin3D.list_dt_MSD],\n",
    "    MSDx,\n",
    "    color=\"red\",\n",
    "    linewidth=1.2,\n",
    "    label=\"MSDx inertial\",\n",
    ")\n",
    "plt.loglog(\n",
    "    langevin3D.t[langevin3D.list_dt_MSD] ,\n",
    "    MSDy,\n",
    "    color=\"orange\",\n",
    "    linewidth=1.2,\n",
    "    label=\"MSDy inertial\",\n",
    ")\n",
    "plt.loglog(\n",
    "    langevin3D.t[langevin3D.list_dt_MSD] ,\n",
    "    MSDz,\n",
    "    color=\"blue\",\n",
    "    linewidth=1.2,\n",
    "    label=\"MSDz inertial\",\n",
    ")\n",
    "plt.plot(\n",
    "    langevin3D.t[langevin3D.list_dt_MSD] ,\n",
    "    2*mean_Dx_theo\n",
    "    * langevin3D.t[langevin3D.list_dt_MSD],\n",
    "    color=\"magenta\",\n",
    "    linewidth=1.2,\n",
    "    label=\"MSDx theo : x = 2<D(x)> t\",\n",
    ")\n",
    "plt.plot(\n",
    "    langevin3D.t[langevin3D.list_dt_MSD] ,\n",
    "    2*mean_D_theo\n",
    "    * langevin3D.t[langevin3D.list_dt_MSD],\n",
    "    color=\"cyan\",\n",
    "    linewidth=1.2,\n",
    "    label=\"MSDz theo : z = 2<D(z)> t\",\n",
    ")\n",
    "plt.xlabel(\"Times t/$ \\tau $ [s]\")\n",
    "plt.ylabel(\"MSD 1D [m²]\")\n",
    "plt.title(\"Mean square displacement 1D\")\n",
    "plt.legend()\n",
    "plt.show()"
   ]
  },
  {
   "cell_type": "code",
   "execution_count": null,
   "metadata": {},
   "outputs": [],
   "source": [
    "mean_Dx_theo/(langevin3D.kb * langevin3D.T / langevin3D.gamma)"
   ]
  },
  {
   "cell_type": "markdown",
   "metadata": {},
   "source": [
    "## 5. Les tests"
   ]
  },
  {
   "cell_type": "code",
   "execution_count": null,
   "metadata": {},
   "outputs": [],
   "source": [
    "zi_1 = langevin3D.z\n",
    "gamma_z = langevin3D._gamma_z(zi_1)\n",
    "gamma0 = langevin3D.gamma"
   ]
  },
  {
   "cell_type": "code",
   "execution_count": null,
   "metadata": {},
   "outputs": [],
   "source": [
    "plt.loglog(zi_1, gamma0/gamma_z, \"*\", label=\"$\\\\gamma_z^{used}$ from Pade formula\")\n",
    "plt.plot(zi_1, 8/9 * zi_1/langevin3D.R, label=\"$\\\\gamma_z^{theo}$ from lubrification approx\")\n",
    "plt.xlabel(\"z [m]\")\n",
    "plt.ylabel(\"$\\\\gamma_0 / \\\\gamma_z$ \")\n",
    "plt.legend(loc=\"upper left\")"
   ]
  },
  {
   "cell_type": "code",
   "execution_count": null,
   "metadata": {},
   "outputs": [],
   "source": [
    "gamma_xy = langevin3D._gamma_xy(zi_1)"
   ]
  },
  {
   "cell_type": "code",
   "execution_count": null,
   "metadata": {},
   "outputs": [],
   "source": [
    "plt.loglog(zi_1, gamma0/gamma_xy, \"*\", label=\"$\\\\gamma_x^{used}$ from Libchaber\")\n",
    "plt.xlabel(\"z [m]\")\n",
    "plt.ylabel(\"$\\\\gamma_0/ \\\\gamma_x$\")\n",
    "plt.legend(loc=\"upper left\")"
   ]
  },
  {
   "cell_type": "code",
   "execution_count": null,
   "metadata": {},
   "outputs": [],
   "source": [
    "weight = (langevin3D.delta_m) * langevin3D.g * np.ones(langevin3D.Nt)\n",
    "elec = (\n",
    "                (4 * langevin3D.kb * langevin3D.T)\n",
    "                / (langevin3D.lD)\n",
    "                * np.exp(-zi_1 / langevin3D.lD)\n",
    "            )\n",
    "correction = (\n",
    "                langevin3D.kb\n",
    "                * langevin3D.T\n",
    "                * (42 * langevin3D.R * zi_1 ** 2 + 24 * langevin3D.R ** 2 * zi_1 + 4 * langevin3D.R ** 3)\n",
    "                / ((6 * zi_1 ** 2 + 9 * langevin3D.R * zi_1 + 2 * langevin3D.R ** 2) ** 2)\n",
    "            )"
   ]
  },
  {
   "cell_type": "code",
   "execution_count": null,
   "metadata": {
    "scrolled": true
   },
   "outputs": [],
   "source": [
    "plt.plot(zi_1, weight, \".\", label=\"Weight : $\\\\Delta m g $\")\n",
    "plt.xlabel(\"z [m]\")\n",
    "plt.ylabel(\"$Forces$\")\n",
    "plt.ticklabel_format(axis=\"x\", style=\"sci\", scilimits=(0, 0))\n",
    "#plt.axis([-1e-7, 1e-5, None, None])\n",
    "plt.legend(loc=\"upper right\")"
   ]
  },
  {
   "cell_type": "code",
   "execution_count": null,
   "metadata": {},
   "outputs": [],
   "source": []
  },
  {
   "cell_type": "code",
   "execution_count": null,
   "metadata": {},
   "outputs": [],
   "source": [
    "plt.plot(zi_1, elec, \".\", label=\"Repultion : $R_{elec} $\")\n",
    "plt.xlabel(\"z [m]\")\n",
    "plt.ylabel(\"$Forces$\")\n",
    "plt.ticklabel_format(axis=\"x\", style=\"sci\", scilimits=(0, 0))\n",
    "#plt.axis([-1e-7, 1e-5, None, None])\n",
    "plt.legend(loc=\"center right\")"
   ]
  },
  {
   "cell_type": "code",
   "execution_count": null,
   "metadata": {},
   "outputs": [],
   "source": [
    "plt.plot(zi_1, correction, \".\", label=\"Correction : $F_{correc}$ \")\n",
    "plt.xlabel(\"z [m]\")\n",
    "plt.ylabel(\"$Forces$\")\n",
    "plt.ticklabel_format(axis=\"x\", style=\"sci\", scilimits=(0, 0))\n",
    "#plt.axis([-1e-7, 1e-5, None, None])\n",
    "plt.legend(loc=\"center right\")"
   ]
  },
  {
   "cell_type": "code",
   "execution_count": null,
   "metadata": {},
   "outputs": [],
   "source": [
    "langevin3D.lB"
   ]
  },
  {
   "cell_type": "code",
   "execution_count": null,
   "metadata": {},
   "outputs": [],
   "source": []
  },
  {
   "cell_type": "code",
   "execution_count": null,
   "metadata": {},
   "outputs": [],
   "source": []
  }
 ],
 "metadata": {
  "kernelspec": {
   "display_name": "Python 3",
   "language": "python",
   "name": "python3"
  },
  "language_info": {
   "codemirror_mode": {
    "name": "ipython",
    "version": 3
   },
   "file_extension": ".py",
   "mimetype": "text/x-python",
   "name": "python",
   "nbconvert_exporter": "python",
   "pygments_lexer": "ipython3",
   "version": "3.8.3"
  }
 },
 "nbformat": 4,
 "nbformat_minor": 4
}
